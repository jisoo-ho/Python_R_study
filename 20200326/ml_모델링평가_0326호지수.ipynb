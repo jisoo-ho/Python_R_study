{
 "cells": [
  {
   "cell_type": "code",
   "execution_count": 1,
   "metadata": {},
   "outputs": [
    {
     "data": {
      "text/html": [
       "<div>\n",
       "<style scoped>\n",
       "    .dataframe tbody tr th:only-of-type {\n",
       "        vertical-align: middle;\n",
       "    }\n",
       "\n",
       "    .dataframe tbody tr th {\n",
       "        vertical-align: top;\n",
       "    }\n",
       "\n",
       "    .dataframe thead th {\n",
       "        text-align: right;\n",
       "    }\n",
       "</style>\n",
       "<table border=\"1\" class=\"dataframe\">\n",
       "  <thead>\n",
       "    <tr style=\"text-align: right;\">\n",
       "      <th></th>\n",
       "      <th>pclass</th>\n",
       "      <th>survived</th>\n",
       "      <th>sex</th>\n",
       "      <th>age</th>\n",
       "      <th>sibsp</th>\n",
       "      <th>parch</th>\n",
       "      <th>fare</th>\n",
       "      <th>cabin</th>\n",
       "      <th>embarked</th>\n",
       "    </tr>\n",
       "  </thead>\n",
       "  <tbody>\n",
       "    <tr>\n",
       "      <th>0</th>\n",
       "      <td>1</td>\n",
       "      <td>1</td>\n",
       "      <td>0</td>\n",
       "      <td>29.00</td>\n",
       "      <td>0</td>\n",
       "      <td>0</td>\n",
       "      <td>211.3375</td>\n",
       "      <td>1</td>\n",
       "      <td>3</td>\n",
       "    </tr>\n",
       "    <tr>\n",
       "      <th>1</th>\n",
       "      <td>1</td>\n",
       "      <td>1</td>\n",
       "      <td>1</td>\n",
       "      <td>0.92</td>\n",
       "      <td>1</td>\n",
       "      <td>2</td>\n",
       "      <td>151.5500</td>\n",
       "      <td>2</td>\n",
       "      <td>3</td>\n",
       "    </tr>\n",
       "    <tr>\n",
       "      <th>2</th>\n",
       "      <td>1</td>\n",
       "      <td>0</td>\n",
       "      <td>0</td>\n",
       "      <td>2.00</td>\n",
       "      <td>1</td>\n",
       "      <td>2</td>\n",
       "      <td>151.5500</td>\n",
       "      <td>2</td>\n",
       "      <td>3</td>\n",
       "    </tr>\n",
       "    <tr>\n",
       "      <th>3</th>\n",
       "      <td>1</td>\n",
       "      <td>0</td>\n",
       "      <td>1</td>\n",
       "      <td>30.00</td>\n",
       "      <td>1</td>\n",
       "      <td>2</td>\n",
       "      <td>151.5500</td>\n",
       "      <td>2</td>\n",
       "      <td>3</td>\n",
       "    </tr>\n",
       "    <tr>\n",
       "      <th>4</th>\n",
       "      <td>1</td>\n",
       "      <td>0</td>\n",
       "      <td>0</td>\n",
       "      <td>25.00</td>\n",
       "      <td>1</td>\n",
       "      <td>2</td>\n",
       "      <td>151.5500</td>\n",
       "      <td>2</td>\n",
       "      <td>3</td>\n",
       "    </tr>\n",
       "  </tbody>\n",
       "</table>\n",
       "</div>"
      ],
      "text/plain": [
       "   pclass  survived  sex    age  sibsp  parch      fare  cabin  embarked\n",
       "0       1         1    0  29.00      0      0  211.3375      1         3\n",
       "1       1         1    1   0.92      1      2  151.5500      2         3\n",
       "2       1         0    0   2.00      1      2  151.5500      2         3\n",
       "3       1         0    1  30.00      1      2  151.5500      2         3\n",
       "4       1         0    0  25.00      1      2  151.5500      2         3"
      ]
     },
     "metadata": {},
     "output_type": "display_data"
    },
    {
     "data": {
      "text/plain": [
       "array(['pclass', 'survived', 'sex', 'age', 'sibsp', 'parch', 'fare',\n",
       "       'cabin', 'embarked'], dtype=object)"
      ]
     },
     "metadata": {},
     "output_type": "display_data"
    },
    {
     "name": "stdout",
     "output_type": "stream",
     "text": [
      "(1047, 8)\n",
      "(262, 8)\n",
      "\n",
      "-4.885320566723378e-17\n",
      "1.0\n",
      "<class 'pandas.core.series.Series'>\n",
      "[0 1 0 0 0 0 0 1 0 0]\n",
      "[1 0 0 1 0 0 0 1 1 0]\n",
      "dt 예측 정확도: 0.7519083969465649\n"
     ]
    }
   ],
   "source": [
    "import pandas as pd\n",
    "import numpy as np\n",
    "\n",
    "pd.set_option('display.max_columns', 15)\n",
    "titanic_df=pd.read_csv('titanic3.csv')\n",
    "\n",
    "from sklearn.preprocessing import LabelEncoder\n",
    "# Null 처리 함수\n",
    "def fillna(df):\n",
    "    df['age'].fillna(df['age'].mean(), inplace=True)\n",
    "    df['cabin'].fillna('N', inplace=True)\n",
    "    df['fare'].fillna(df['fare'].mean(), inplace=True)\n",
    "    df['embarked'].fillna('N', inplace=True)\n",
    "    return df\n",
    "\n",
    "def drop_features(df):\n",
    "    df.drop(['home.dest','boat','body','name','ticket'], axis=1, inplace=True)\n",
    "    return df\n",
    "\n",
    "def format_features(df):\n",
    "    df['cabin'] = df['cabin'].str[:1]\n",
    "    features = ['cabin','sex','embarked']\n",
    "    for feature in features:\n",
    "        le = LabelEncoder()\n",
    "        df[feature] = le.fit_transform(df[feature])\n",
    "    return df\n",
    "\n",
    "def transform_features(df):\n",
    "    df = fillna(df)\n",
    "    df = drop_features(df)\n",
    "    df = format_features(df)\n",
    "    return df\n",
    "\n",
    "t_df = transform_features(titanic_df)\n",
    "t_df.to_pickle('t_df.pkl')\n",
    "display(t_df.head())\n",
    "display(t_df.columns.values)\n",
    "\n",
    "from sklearn import preprocessing\n",
    "from sklearn.model_selection import train_test_split\n",
    "\n",
    "# 독립변수, 종속변수 분리\n",
    "X = t_df[['pclass', 'sex', 'age', 'sibsp', 'parch', 'fare', 'cabin', 'embarked']]\n",
    "y = t_df['survived']\n",
    "\n",
    "# 독립변수 정규화(평균 0, 분산1인 표준정규분포)\n",
    "X = preprocessing.StandardScaler().fit(X).transform(X) # StandardScaler : 표준정규분포\n",
    "\n",
    "# 학습용 데이터와 평가용 데이터를 8:2로 분리\n",
    "X_train, X_test, y_train, y_test = train_test_split(X, y, test_size=0.2, random_state=10)\n",
    "\n",
    "print(X_train.shape) # (1047, 8) 80% 데이터 갯수\n",
    "print(X_test.shape) # (262, 8) 20% 데이터 갯수\n",
    "print()\n",
    "print(X.mean())  # -4.885320566723378e-17 (0.0 이 17개 있어서 거의 0이라고 보면 된다.)-> 평균 = 0\n",
    "print(X.std())   # 1.0 표준편차 \n",
    "print(type(y_test)) # <class 'pandas.core.series.Series'>\n",
    "\n",
    "# Decision Tree\n",
    "from sklearn.metrics import accuracy_score\n",
    "from sklearn.tree import DecisionTreeClassifier\n",
    "\n",
    "dt_model = DecisionTreeClassifier()  # 객체 생성\n",
    "dt_model.fit(X_train, y_train)       # 트레이닝 데이터로 학습\n",
    "dt_pred = dt_model.predict(X_test)   # 검증용 데이터로 예측\n",
    "\n",
    "print(dt_pred[0:10])        # 예측값과\n",
    "print(y_test.values[0:10]) # 실제 y 값을 대조하며 검증\n",
    "\n",
    "accuracy = accuracy_score(y_test, dt_pred)\n",
    "print('dt 예측 정확도:',accuracy) # 예측 정확도가 좋지 못하면 재개발 해야함\n",
    "# 분석용 데이터셋을 잘 만들어서, 중요한 변수들을 뽑아내야 함."
   ]
  },
  {
   "cell_type": "code",
   "execution_count": 2,
   "metadata": {},
   "outputs": [
    {
     "name": "stdout",
     "output_type": "stream",
     "text": [
      "rf 예측 정확도: 0.767175572519084\n"
     ]
    }
   ],
   "source": [
    "# Random Forest (투표를 해가며 결정해가는 방법)\n",
    "from sklearn.ensemble import RandomForestClassifier #(분류기)\n",
    "\n",
    "rf_model = RandomForestClassifier() # 객체 생성\n",
    "rf_model.fit(X_train, y_train)      # 학습을 시킨다. (트레이닝 데이터를 이용)\n",
    "rf_pred = rf_model.predict(X_test)  # 학습시킨 모델을 통해 예측한다. (검증용 데이터로)\n",
    "\n",
    "rf_accuracy = accuracy_score(y_test, rf_pred) # 예측한 것과 실제 y값으로 비교해서 예측 정확도를 구한다.\n",
    "print('rf 예측 정확도:', rf_accuracy)         # 예측 정확도 출력"
   ]
  },
  {
   "cell_type": "code",
   "execution_count": 3,
   "metadata": {},
   "outputs": [
    {
     "name": "stdout",
     "output_type": "stream",
     "text": [
      "lr 예측 정확도: 0.7748091603053435\n"
     ]
    }
   ],
   "source": [
    "# Logistic Regression\n",
    "from sklearn.linear_model import LogisticRegression\n",
    "\n",
    "lr_model = LogisticRegression()           # 객체 생성\n",
    "lr_model.fit(X_train, y_train)            # 생성된 객체에 학습\n",
    "lr_pred = lr_model.predict(X_test)        # 학습된 모델을 통해 예측\n",
    "\n",
    "lr_accuracy = accuracy_score(y_test, lr_pred) # 예측한 것과 실제 y값으로 비교해서 예측 정확도를 구한다.\n",
    "print('lr 예측 정확도:', lr_accuracy)         # 예측 정확도 출력"
   ]
  },
  {
   "cell_type": "code",
   "execution_count": 4,
   "metadata": {},
   "outputs": [
    {
     "name": "stdout",
     "output_type": "stream",
     "text": [
      "k 예측 정확도: 0.7709923664122137\n"
     ]
    }
   ],
   "source": [
    "# KNN\n",
    "from sklearn.neighbors import KNeighborsClassifier\n",
    "\n",
    "k_model = KNeighborsClassifier(n_neighbors=5)   # 최근접 이웃이 5개인 것을 의미한다.\n",
    "k_model.fit(X_train, y_train)\n",
    "k_pred = k_model.predict(X_test)\n",
    "\n",
    "k_accuracy = accuracy_score(y_test, k_pred)\n",
    "print('k 예측 정확도:', k_accuracy)"
   ]
  },
  {
   "cell_type": "code",
   "execution_count": 5,
   "metadata": {},
   "outputs": [
    {
     "name": "stdout",
     "output_type": "stream",
     "text": [
      "s 예측 정확도 : 0.8015267175572519\n"
     ]
    }
   ],
   "source": [
    "# SVM\n",
    "from sklearn.metrics import accuracy_score, precision_score, recall_score, confusion_matrix, f1_score\n",
    "from sklearn.metrics import classification_report\n",
    "from sklearn import svm\n",
    "# 벡터 공간으로 매핑하는 함수를 커널이라고 함\n",
    "# kernal = 'rbf' 옵션으로 RBF(Radial Basis Function) 함수를 적용\n",
    "svm_model = svm.SVC(kernel='rbf', random_state=0) # random_state=0 으로 정해서 예측치 변동이 생기지 않게 한다.\n",
    "# kernel :  구분하는 선을 기준으로 선과 데이터의 거리가 margin이다. \n",
    "# 하지만, 하나의 선으로 분류할 수 있는 경우는 거의 없기 때문에 1차원을 2차원으로 만들고, 2차원을 3차원으로 만든다.\n",
    "# 선을 차원으로 바꿔주는 것이 kernel.\n",
    "svm_model.fit(X_train, y_train)\n",
    "s_pred = svm_model.predict(X_test)\n",
    "\n",
    "s_accuracy = accuracy_score(y_test, s_pred)\n",
    "print('s 예측 정확도 :', s_accuracy)"
   ]
  },
  {
   "cell_type": "markdown",
   "metadata": {},
   "source": [
    "### load_breat_cancer 데이터 세트를 불러와서 다음 사항을 수행하세요.\n",
    " - from sklearn.datasets import load_breast_cancer\n",
    " - cancer = load_breast_cancer()\n",
    "   - 데이터 세트의 구성 요소를 파악하고 feature의 개수를 구하세요.\n",
    "   - cancer.data를 데이터 프레임으로 변환\n",
    "   - 정규화 수행\n",
    "   - 학습용 데이터와 검증용 데이터를 7:3의 비율로 구분\n",
    "   - Decision Tree, Logistic Regression, Random Forest 기법을 활용하여 분류예측을 각각 수행"
   ]
  },
  {
   "cell_type": "markdown",
   "metadata": {},
   "source": [
    "## 나의 풀이"
   ]
  },
  {
   "cell_type": "code",
   "execution_count": 6,
   "metadata": {},
   "outputs": [
    {
     "data": {
      "image/png": "[encoded data removed]",
      "text/plain": [
       "<Figure size 576x432 with 1 Axes>"
      ]
     },
     "metadata": {
      "needs_background": "light"
     },
     "output_type": "display_data"
    },
    {
     "name": "stdout",
     "output_type": "stream",
     "text": [
      "Decision Tree 예측 정확도: 0.9298245614035088\n"
     ]
    }
   ],
   "source": [
    "import pandas as pd\n",
    "import numpy as np\n",
    "\n",
    "from sklearn.preprocessing import LabelEncoder\n",
    "from sklearn import preprocessing\n",
    "from sklearn.preprocessing import StandardScaler\n",
    "from sklearn.model_selection import train_test_split\n",
    "from sklearn.datasets import load_breast_cancer\n",
    "from sklearn.metrics import accuracy_score\n",
    "from sklearn.tree import DecisionTreeClassifier\n",
    "from sklearn import tree\n",
    "import matplotlib.pyplot as plt\n",
    "%matplotlib inline\n",
    "\n",
    "cancer = load_breast_cancer()\n",
    "cancer.keys() # ['data', 'target', 'target_names', 'DESCR', 'feature_names', 'filename']\n",
    "\n",
    "X = preprocessing.StandardScaler().fit(X).transform(X) # StandardScaler : 표준정규분포\n",
    "\n",
    "X_train, X_test, y_train, y_test = train_test_split(cancer.data, cancer.target, test_size=0.3, random_state=0)\n",
    "\n",
    "dt_clf = DecisionTreeClassifier(random_state=0)\n",
    "dt_clf = DecisionTreeClassifier(criterion='gini', max_depth=2, random_state=0)\n",
    "\n",
    "dt_clf.fit(X_train, y_train)\n",
    "\n",
    "y_hat = dt_clf.predict(X_test)\n",
    "\n",
    "plt.figure(figsize=(8,6))\n",
    "tree.plot_tree(dt_clf, filled=True,                      # 그림을 그린다.\n",
    "              feature_names=cancer.feature_names,       # iris_data가 가지고 있는 데이터를 입력한다. \n",
    "              class_names=cancer.target_names,          # iris_data가 가지고 있는 데이터를 입력한다. \n",
    "              rounded=True, fontsize=10)               # 사각형의 모서리 라운드처리, 글자 사이즈\n",
    "plt.show()\n",
    "plt.close()\n",
    "\n",
    "dt_model = DecisionTreeClassifier()  # 객체 생성\n",
    "dt_model.fit(X_train, y_train)       # 트레이닝 데이터로 학습\n",
    "dt_pred = dt_model.predict(X_test)   # 검증용 데이터로 예측\n",
    "\n",
    "accuracy = accuracy_score(y_test, dt_pred)\n",
    "print('Decision Tree 예측 정확도:',accuracy)"
   ]
  },
  {
   "cell_type": "code",
   "execution_count": 7,
   "metadata": {},
   "outputs": [
    {
     "name": "stdout",
     "output_type": "stream",
     "text": [
      "feature 개수 : 30\n"
     ]
    },
    {
     "data": {
      "text/html": [
       "<div>\n",
       "<style scoped>\n",
       "    .dataframe tbody tr th:only-of-type {\n",
       "        vertical-align: middle;\n",
       "    }\n",
       "\n",
       "    .dataframe tbody tr th {\n",
       "        vertical-align: top;\n",
       "    }\n",
       "\n",
       "    .dataframe thead th {\n",
       "        text-align: right;\n",
       "    }\n",
       "</style>\n",
       "<table border=\"1\" class=\"dataframe\">\n",
       "  <thead>\n",
       "    <tr style=\"text-align: right;\">\n",
       "      <th></th>\n",
       "      <th>mean radius</th>\n",
       "      <th>mean texture</th>\n",
       "      <th>mean perimeter</th>\n",
       "      <th>mean area</th>\n",
       "      <th>mean smoothness</th>\n",
       "      <th>mean compactness</th>\n",
       "      <th>mean concavity</th>\n",
       "      <th>...</th>\n",
       "      <th>worst area</th>\n",
       "      <th>worst smoothness</th>\n",
       "      <th>worst compactness</th>\n",
       "      <th>worst concavity</th>\n",
       "      <th>worst concave points</th>\n",
       "      <th>worst symmetry</th>\n",
       "      <th>worst fractal dimension</th>\n",
       "    </tr>\n",
       "  </thead>\n",
       "  <tbody>\n",
       "    <tr>\n",
       "      <th>0</th>\n",
       "      <td>17.99</td>\n",
       "      <td>10.38</td>\n",
       "      <td>122.8</td>\n",
       "      <td>1001.0</td>\n",
       "      <td>0.11840</td>\n",
       "      <td>0.27760</td>\n",
       "      <td>0.3001</td>\n",
       "      <td>...</td>\n",
       "      <td>2019.0</td>\n",
       "      <td>0.1622</td>\n",
       "      <td>0.6656</td>\n",
       "      <td>0.7119</td>\n",
       "      <td>0.2654</td>\n",
       "      <td>0.4601</td>\n",
       "      <td>0.11890</td>\n",
       "    </tr>\n",
       "    <tr>\n",
       "      <th>1</th>\n",
       "      <td>20.57</td>\n",
       "      <td>17.77</td>\n",
       "      <td>132.9</td>\n",
       "      <td>1326.0</td>\n",
       "      <td>0.08474</td>\n",
       "      <td>0.07864</td>\n",
       "      <td>0.0869</td>\n",
       "      <td>...</td>\n",
       "      <td>1956.0</td>\n",
       "      <td>0.1238</td>\n",
       "      <td>0.1866</td>\n",
       "      <td>0.2416</td>\n",
       "      <td>0.1860</td>\n",
       "      <td>0.2750</td>\n",
       "      <td>0.08902</td>\n",
       "    </tr>\n",
       "    <tr>\n",
       "      <th>2</th>\n",
       "      <td>19.69</td>\n",
       "      <td>21.25</td>\n",
       "      <td>130.0</td>\n",
       "      <td>1203.0</td>\n",
       "      <td>0.10960</td>\n",
       "      <td>0.15990</td>\n",
       "      <td>0.1974</td>\n",
       "      <td>...</td>\n",
       "      <td>1709.0</td>\n",
       "      <td>0.1444</td>\n",
       "      <td>0.4245</td>\n",
       "      <td>0.4504</td>\n",
       "      <td>0.2430</td>\n",
       "      <td>0.3613</td>\n",
       "      <td>0.08758</td>\n",
       "    </tr>\n",
       "  </tbody>\n",
       "</table>\n",
       "<p>3 rows × 30 columns</p>\n",
       "</div>"
      ],
      "text/plain": [
       "   mean radius  mean texture  mean perimeter  mean area  mean smoothness  \\\n",
       "0        17.99         10.38           122.8     1001.0          0.11840   \n",
       "1        20.57         17.77           132.9     1326.0          0.08474   \n",
       "2        19.69         21.25           130.0     1203.0          0.10960   \n",
       "\n",
       "   mean compactness  mean concavity  ...  worst area  worst smoothness  \\\n",
       "0           0.27760          0.3001  ...      2019.0            0.1622   \n",
       "1           0.07864          0.0869  ...      1956.0            0.1238   \n",
       "2           0.15990          0.1974  ...      1709.0            0.1444   \n",
       "\n",
       "   worst compactness  worst concavity  worst concave points  worst symmetry  \\\n",
       "0             0.6656           0.7119                0.2654          0.4601   \n",
       "1             0.1866           0.2416                0.1860          0.2750   \n",
       "2             0.4245           0.4504                0.2430          0.3613   \n",
       "\n",
       "   worst fractal dimension  \n",
       "0                  0.11890  \n",
       "1                  0.08902  \n",
       "2                  0.08758  \n",
       "\n",
       "[3 rows x 30 columns]"
      ]
     },
     "metadata": {},
     "output_type": "display_data"
    },
    {
     "data": {
      "text/plain": [
       "(569, 30)"
      ]
     },
     "metadata": {},
     "output_type": "display_data"
    },
    {
     "data": {
      "text/plain": [
       "1    357\n",
       "0    212\n",
       "dtype: int64"
      ]
     },
     "metadata": {},
     "output_type": "display_data"
    },
    {
     "data": {
      "text/plain": [
       "array(['malignant', 'benign'], dtype='<U9')"
      ]
     },
     "metadata": {},
     "output_type": "display_data"
    }
   ],
   "source": [
    "df_cancer=pd.DataFrame(cancer.data , columns=cancer.feature_names )\n",
    "# cancer.data 는 우리가 아는 데이터가 배열로 들어있고\n",
    "# columns=cancer.feature_names의 feature는 독립변수들(데이터들의 컬럼들)\n",
    "# 불러온 데이터는 'key : 배열' 형태로 들어있고, 이것을 dataframe으로 변경해주었다.\n",
    "print('feature 개수 :',len(cancer.feature_names))\n",
    "display(df_cancer.head(3))\n",
    "display(df_cancer.shape)\n",
    "# display(cancer.target)\n",
    "display(pd.Series(cancer.target).value_counts()) # 시리즈형태만 밸류카운츠 가능\n",
    "display(cancer.target_names)"
   ]
  },
  {
   "cell_type": "code",
   "execution_count": 8,
   "metadata": {},
   "outputs": [
    {
     "name": "stdout",
     "output_type": "stream",
     "text": [
      "lr 예측 정확도: 0.9532163742690059\n"
     ]
    }
   ],
   "source": [
    "# Logistic Regression\n",
    "from sklearn.linear_model import LogisticRegression\n",
    "import warnings\n",
    "warnings.filterwarnings('ignore')\n",
    "\n",
    "lr_model = LogisticRegression()           \n",
    "lr_model.fit(X_train, y_train)            \n",
    "lr_pred = lr_model.predict(X_test)        \n",
    "\n",
    "lr_accuracy = accuracy_score(y_test, lr_pred)\n",
    "print('lr 예측 정확도:', lr_accuracy)"
   ]
  },
  {
   "cell_type": "code",
   "execution_count": 9,
   "metadata": {},
   "outputs": [
    {
     "name": "stdout",
     "output_type": "stream",
     "text": [
      "rf 예측 정확도: 0.9590643274853801\n"
     ]
    }
   ],
   "source": [
    "# Random Forest\n",
    "from sklearn.ensemble import RandomForestClassifier\n",
    "\n",
    "rf_model = RandomForestClassifier()\n",
    "rf_model.fit(X_train, y_train)     \n",
    "rf_pred = rf_model.predict(X_test) \n",
    "\n",
    "rf_accuracy = accuracy_score(y_test, rf_pred)\n",
    "print('rf 예측 정확도:', rf_accuracy)        "
   ]
  },
  {
   "cell_type": "markdown",
   "metadata": {},
   "source": [
    "## 선생님 풀이"
   ]
  },
  {
   "cell_type": "code",
   "execution_count": 10,
   "metadata": {},
   "outputs": [],
   "source": [
    "# 정규 분포 형태의 표준 스케일링 적용 후 train, test set 분리\n",
    "from sklearn.preprocessing import StandardScaler\n",
    "from sklearn.model_selection import train_test_split\n",
    "# minmaxScaler 정규화(개별값/ 최대값)\n",
    "# standardscaler()로 평균이0, 분산1로 데이터 분포도 변환\n",
    "scaler = StandardScaler() # 객체 생성\n",
    "data_scaled = scaler.fit_transform(cancer.data) # 객체를 이용해서 fit_transform() 해준다.(정규화 작업)\n",
    "\n",
    "X_train, X_test, y_train, y_test = train_test_split(data_scaled, cancer.target, test_size=0.3, random_state=0)"
   ]
  },
  {
   "cell_type": "code",
   "execution_count": 11,
   "metadata": {},
   "outputs": [
    {
     "name": "stdout",
     "output_type": "stream",
     "text": [
      "DT 예측치: 0.9122807017543859\n"
     ]
    }
   ],
   "source": [
    "# DecisionTreeClassifier 를 이용해 학습 및 예측 수행\n",
    "import warnings\n",
    "from sklearn.tree import DecisionTreeClassifier\n",
    "\n",
    "df_clf = DecisionTreeClassifier()\n",
    "df_clf.fit(X_train,y_train)\n",
    "df_preds = df_clf.predict(X_test)\n",
    "\n",
    "# 모형 성능 평가\n",
    "from sklearn.metrics import accuracy_score\n",
    "accuracy = accuracy_score(y_test, df_preds)\n",
    "print('DT 예측치:',accuracy)"
   ]
  },
  {
   "cell_type": "code",
   "execution_count": 12,
   "metadata": {},
   "outputs": [
    {
     "name": "stdout",
     "output_type": "stream",
     "text": [
      "LR 예측치: 0.9766081871345029\n"
     ]
    }
   ],
   "source": [
    "# 로지스틱 회귀를 이용해 학습 및 예측 수행\n",
    "from sklearn.linear_model import LogisticRegression\n",
    "lr_clf = LogisticRegression(random_state=0)\n",
    "lr_clf.fit(X_train, y_train)\n",
    "lr_preds = lr_clf.predict(X_test)\n",
    "\n",
    "# 모형 성능 평가\n",
    "from sklearn.metrics import accuracy_score\n",
    "accuracy = accuracy_score(y_test, lr_preds)\n",
    "print('LR 예측치:',accuracy)"
   ]
  },
  {
   "cell_type": "code",
   "execution_count": 13,
   "metadata": {},
   "outputs": [
    {
     "name": "stdout",
     "output_type": "stream",
     "text": [
      "RF 예측치: 0.9649122807017544\n"
     ]
    }
   ],
   "source": [
    "# 랜덤 포레스트를 이용해 학습 및 예측 수행\n",
    "from sklearn.ensemble import RandomForestClassifier\n",
    "\n",
    "rf_clf = RandomForestClassifier(random_state=10)\n",
    "rf_clf.fit(X_train, y_train)\n",
    "rf_preds = rf_clf.predict(X_test)\n",
    "\n",
    "# 모형 성능 평가\n",
    "from sklearn.metrics import accuracy_score\n",
    "accuracy = accuracy_score(y_test, rf_preds)\n",
    "print('RF 예측치:',accuracy)"
   ]
  },
  {
   "cell_type": "markdown",
   "metadata": {},
   "source": [
    "### 교차 검증\n",
    " - KFold : K개의 데이터 폴드를 만들어서 K번 만큼 학습과 검증을 반복 수행(폴드 세트 설정, for 루프 반복 데이터 인덱스 추출, 반복 학습 수행 및 예측 성능 반환)\n",
    " - Stratified KFold : 불균형한 분포도를 가진 레이블 데이터 집합을 위한 방식(KFold 로는 부족한 경우)\n",
    "    - K폴드의 경우 레이블 데이터 집합이 원본 데이터 집합의 레이블 분포를 제대로 분배 못하여 문제가 발생되는데 이 문제를 해결하기 위하여 사용\n",
    " - cross_val_scores : KFold의 일련의 과정을 한꺼번에 수행해주는 API(KFold의 절차가 복잡하기에 이 방법을 적용)\n",
    "    - 분류 모델의 경우 cvs는 내부적으로 Stratified KFold 방식으로 레이블 값의 분포에 따라 학습/테스트 세트를 분할\n",
    "    \n",
    " - K = 5면 5행 5열의 배열을 만든다.( k=3 이면 3행으로 만든다)\n",
    "   - 첫 번째 폴드에서는 (1,1), 두 번째 폴드에서는 (2,2), (3,3) 이런식으로 계속 해서 성능을 검증해나간다. 이것을 교차검증(cross validation)이라 함"
   ]
  },
  {
   "cell_type": "code",
   "execution_count": 14,
   "metadata": {},
   "outputs": [
    {
     "name": "stdout",
     "output_type": "stream",
     "text": [
      "교차 검증 0정확도: 0.7099\n",
      "교차 검증 1정확도: 0.7901\n",
      "교차 검증 2정확도: 0.7252\n",
      "교차 검증 3정확도: 0.7214\n",
      "교차 검증 4정확도: 0.7663\n",
      "평균 정확도:  0.7426\n"
     ]
    }
   ],
   "source": [
    "from sklearn.model_selection import train_test_split\n",
    "from sklearn.tree import DecisionTreeClassifier\n",
    "from sklearn.ensemble import RandomForestClassifier\n",
    "from sklearn.linear_model import LogisticRegression\n",
    "from sklearn.metrics import accuracy_score\n",
    "\n",
    "# 독립변수, 종속변수 분리\n",
    "t_df = pd.read_pickle('t_df.pkl')\n",
    "\n",
    "y_df = t_df.survived\n",
    "X_df = t_df.drop('survived', axis=1)\n",
    "\n",
    "# 학습용 평가용 데이터 분리\n",
    "X_train, X_test, y_train, y_test = train_test_split(X_df, y_df, test_size=0.2, random_state=11)\n",
    "\n",
    "# 분류기 객체 생성\n",
    "dt_clf = DecisionTreeClassifier(random_state=11)\n",
    "# rf_clf = RandomForestClassifier(random_state=11)\n",
    "# lr_clf = LogisticRegression(random_state=11)\n",
    "\n",
    "from sklearn.model_selection import KFold\n",
    "\n",
    "# KFold 교차 검증 수행()\n",
    "# K개의 데이터 폴드 세트를 만들어서 K번 만큼 각 폴드 세트에\n",
    "# 학습과 검증 평가를 반복, K가 5이면 5번 평가를 평균한 결과로 예측 성능 검증\n",
    "# 예측 성능 평가\n",
    "def exec_kfold(clf, folds=5):      # clf는 클래시파이어, folds는 k의 개수\n",
    "    kfold = KFold(n_splits=folds)  # n_splits = folds\n",
    "    scores = []                    # 만들어서 저장하는 공간( foltset 설정하는 단계 )\n",
    "    \n",
    "    for iter_count, (train_index, test_index) \\\n",
    "    in enumerate(kfold.split(X_df)):            # enumerate 해서 독립변수 쪽의 5개를 하나씩 작업해준다.\n",
    "        X_train, X_test = X_df.values[train_index], X_df.values[test_index]\n",
    "        y_train, y_test = y_df.values[train_index], y_df.values[test_index]\n",
    "        \n",
    "        clf.fit(X_train, y_train)                    # 반복학습 ( 이 작업들을 각 fold마다 진행 )\n",
    "        predictions = clf.predict(X_test)            # 예측값 삽입 \n",
    "        accuracy = accuracy_score(y_test, predictions) # 각 폴드마다 한 것을 append 해준다.\n",
    "        scores.append(accuracy)                      # 5개에 대한 정확도를 출력\n",
    "        print('교차 검증 {0}정확도: {1:.4f}'.format(iter_count, accuracy))\n",
    "        # print('검증 세트 인덱스: {1}'.format(iter_count, test_index))\n",
    "        \n",
    "    mean_score = np.mean(scores)                   # mean_score로 평균을 구해준다.(5개 결과를 저장한 scores를 호출하여)\n",
    "    print('평균 정확도: {0: .4f}'.format(mean_score))\n",
    "        \n",
    "exec_kfold(dt_clf, folds=5)       # 5로 변경하면 5개가 출력된다."
   ]
  },
  {
   "cell_type": "code",
   "execution_count": 15,
   "metadata": {},
   "outputs": [
    {
     "name": "stdout",
     "output_type": "stream",
     "text": [
      "교차 검증 0 정확도: 0.5802\n",
      "교차 검증 1 정확도: 0.7710\n",
      "교차 검증 2 정확도: 0.8168\n",
      "교차 검증 3 정확도: 0.7481\n",
      "교차 검증 4 정확도: 0.7405\n",
      "교차 검증 5 정확도: 0.7328\n",
      "교차 검증 6 정확도: 0.6565\n",
      "교차 검증 7 정확도: 0.5954\n",
      "교차 검증 8 정확도: 0.6489\n",
      "교차 검증 9 정확도: 0.7308\n",
      "평균 정확도:0.7021\n"
     ]
    }
   ],
   "source": [
    "# cross_val_scores\n",
    "# KFold의 일련의 과정을 한꺼번에 수행해주는 API\n",
    "\n",
    "from sklearn.model_selection import cross_val_score\n",
    "\n",
    "scores = cross_val_score(dt_clf, X_df, y_df, cv=10)        # cv=5는 교차검증을 얼마나 할 것인가, 숫자를 올리면 KFold와 비슷해진다.\n",
    "for iter_count, accuracy in enumerate(scores):\n",
    "    print('교차 검증 {0} 정확도: {1:.4f}'.format(iter_count, accuracy))\n",
    "    \n",
    "print('평균 정확도:{0:.4f}'.format(np.mean(scores)))"
   ]
  },
  {
   "cell_type": "code",
   "execution_count": 16,
   "metadata": {},
   "outputs": [
    {
     "data": {
      "text/plain": [
       "GridSearchCV(cv=5, error_score=nan,\n",
       "             estimator=DecisionTreeClassifier(ccp_alpha=0.0, class_weight=None,\n",
       "                                              criterion='gini', max_depth=None,\n",
       "                                              max_features=None,\n",
       "                                              max_leaf_nodes=None,\n",
       "                                              min_impurity_decrease=0.0,\n",
       "                                              min_impurity_split=None,\n",
       "                                              min_samples_leaf=1,\n",
       "                                              min_samples_split=2,\n",
       "                                              min_weight_fraction_leaf=0.0,\n",
       "                                              presort='deprecated',\n",
       "                                              random_state=None,\n",
       "                                              splitter='best'),\n",
       "             iid='deprecated', n_jobs=None,\n",
       "             param_grid={'max_depth': [2, 3, 5, 10],\n",
       "                         'min_samples_leaf': [1, 5, 8],\n",
       "                         'min_samples_split': [2, 3, 5]},\n",
       "             pre_dispatch='2*n_jobs', refit=True, return_train_score=False,\n",
       "             scoring='accuracy', verbose=0)"
      ]
     },
     "metadata": {},
     "output_type": "display_data"
    },
    {
     "name": "stdout",
     "output_type": "stream",
     "text": [
      "GridSearchCV 최적 하이퍼 파라미터: {'max_depth': 5, 'min_samples_leaf': 5, 'min_samples_split': 2}\n",
      "GridSearchCV 최고 정확도: 0.8022738664843928\n"
     ]
    },
    {
     "data": {
      "text/plain": [
       "DecisionTreeClassifier(ccp_alpha=0.0, class_weight=None, criterion='gini',\n",
       "                       max_depth=5, max_features=None, max_leaf_nodes=None,\n",
       "                       min_impurity_decrease=0.0, min_impurity_split=None,\n",
       "                       min_samples_leaf=5, min_samples_split=2,\n",
       "                       min_weight_fraction_leaf=0.0, presort='deprecated',\n",
       "                       random_state=None, splitter='best')"
      ]
     },
     "metadata": {},
     "output_type": "display_data"
    },
    {
     "name": "stdout",
     "output_type": "stream",
     "text": [
      "Dicision Tree GSCV 예측 정확도 :  0.7824427480916031\n"
     ]
    }
   ],
   "source": [
    "t_df = pd.read_pickle('t_df.pkl')\n",
    "\n",
    "y_df = t_df.survived\n",
    "X_df = t_df.drop('survived', axis=1)\n",
    "\n",
    "# 학습용 평가용 데이터 분리\n",
    "X_train, X_test, y_train, y_test = train_test_split(X_df, y_df, test_size=0.2, random_state=11)\n",
    "\n",
    "# 분류기 객체 생성\n",
    "dt_clf = DecisionTreeClassifier()\n",
    "\n",
    "# GridSearchCV : 파라미터를 통해 성능을 튜닝. (타이타닉 생존률을 해결하기 위해 필요한 작업)\n",
    "# 교차 검증을 기반으로 하이퍼 파라미터의 최적 값을 찾게 해줌\n",
    "from sklearn.model_selection import GridSearchCV\n",
    "from sklearn.metrics import accuracy_score, precision_score, recall_score, confusion_matrix, f1_score\n",
    "\n",
    "parameters = {'max_depth':[2,3,5,10], 'min_samples_split':[2,3,5], 'min_samples_leaf':[1,5,8]}\n",
    "# max_depth, min_samples_split, min_samples_leaf 들을 각각 [2,3,5,10], [2,3,5], [1,5,8] 씩 주고 여러번 돌려보게 한다.\n",
    "\n",
    "grid_dclf = GridSearchCV(dt_clf, param_grid=parameters, scoring='accuracy', cv=5, refit=True) \n",
    "# refit=True는 최적으로 된 하이퍼 파라미터를 반영하겠다는 의미\n",
    "display(grid_dclf)\n",
    "grid_dclf.fit(X_train, y_train) # 학습을 시킨다.\n",
    "\n",
    "print('GridSearchCV 최적 하이퍼 파라미터:', grid_dclf.best_params_) # 가장 최적인 경우를 보여준다.\n",
    "#{'max_depth': 5, 'min_samples_leaf': 5, 'min_samples_split': 2}\n",
    "print('GridSearchCV 최고 정확도:', grid_dclf.best_score_) # 0.8022738664843928\n",
    "\n",
    "best_dclf = grid_dclf.best_estimator_\n",
    "display(best_dclf)\n",
    "dpredictions = best_dclf.predict(X_test)\n",
    "accuracy = accuracy_score(y_test, dpredictions)\n",
    "print('Dicision Tree GSCV 예측 정확도 : ', accuracy) # GSCV 예측 정확도 :  0.7824427480916031"
   ]
  },
  {
   "cell_type": "markdown",
   "metadata": {},
   "source": [
    "## Q. Titanic 생존자 예측 모델 성능을 개선하고자 아래와 같이 교차 검증 및 하이퍼 파라미터 튜닝을 수행하세요.\n",
    " - KFold 교차검증(랜덤포레스트 적용)\n",
    " - cross_val_score를 활용한 교차 검증(랜덤 포레스트 적용)\n",
    " - GridSearchCV를 활용한 교차 검증과 최적 하이퍼파라미터 수행하고 성능을 평가\n",
    "   - RandomForestClassifier의 최적 하이퍼 파라미터를 찾고 예측 성능 측정 parameters = {'n_estimators':[50,100,200],'max_depth':[2,3,5],'min_samples_leaf':[1,5,8]}\n",
    "   - LogisticRegression의 최적 하이퍼 파라미터를 찾고 예측 성능 측정 parameters = {'penalty':['l2','l1'],'C':[0.01,0.1,1,1,5,10]}\n",
    " \n",
    "#### RF 파라미터\n",
    " - n_estimators : (나무의 개수)랜덤 포레스트에서 결정 트리의 개수를 지정. 디폴트는 10개\n",
    "    - 많이 설정할 수록 좋은 성능을 기대할 수  있지만 학습 수행시간이 오래 걸림\n",
    " - max_features : 결정 트리에 사용된 max_features 파라미터와 같음. sqrt(전체 피처 개수)만큼 참조. 피터가 16개라면 분할 위해 4개 참조\n",
    " \n",
    "#### LR 파라미터\n",
    "    - (과재적합을 피하기 위해 회귀계수를 조정해야하는데, 조정하는 방식을 말한다.)\n",
    " - L1 : 불필요한 회귀계수를 급격하게 감소시켜 0으로 만들고 제거\n",
    " - L2 : 회귀 계수의 크기를 감소시킴\n",
    " - C : 규제 강도를 조절하는 alpha 값의 역수. 즉 C값이 작을 수록 규제 강도가 큼"
   ]
  },
  {
   "cell_type": "code",
   "execution_count": 17,
   "metadata": {},
   "outputs": [
    {
     "name": "stdout",
     "output_type": "stream",
     "text": [
      "교차 검증 0정확도: 0.7710\n",
      "교차 검증 1정확도: 0.8473\n",
      "교차 검증 2정확도: 0.7405\n",
      "교차 검증 3정확도: 0.6947\n",
      "교차 검증 4정확도: 0.7816\n",
      "평균 정확도:  0.7670\n"
     ]
    }
   ],
   "source": [
    "from sklearn.model_selection import train_test_split\n",
    "from sklearn.tree import DecisionTreeClassifier\n",
    "from sklearn.ensemble import RandomForestClassifier\n",
    "from sklearn.linear_model import LogisticRegression\n",
    "from sklearn.metrics import accuracy_score\n",
    "\n",
    "# 독립변수, 종속변수 분리\n",
    "t_df = pd.read_pickle('t_df.pkl')\n",
    "\n",
    "y_df = t_df.survived\n",
    "X_df = t_df.drop('survived', axis=1)\n",
    "\n",
    "# 학습용 평가용 데이터 분리\n",
    "X_train, X_test, y_train, y_test = train_test_split(X_df, y_df, test_size=0.2, random_state=11)\n",
    "\n",
    "# 분류기 객체 생성\n",
    "# dt_clf = DecisionTreeClassifier(random_state=11)\n",
    "rf_clf = RandomForestClassifier(random_state=11)\n",
    "# lr_clf = LogisticRegression(random_state=11)\n",
    "\n",
    "from sklearn.model_selection import KFold\n",
    "\n",
    "# KFold 교차 검증 수행()\n",
    "# K개의 데이터 폴드 세트를 만들어서 K번 만큼 각 폴드 세트에\n",
    "# 학습과 검증 평가를 반복, K가 5이면 5번 평가를 평균한 결과로 예측 성능 검증\n",
    "# 예측 성능 평가\n",
    "def exec_kfold(clf, folds=5):      # clf는 클래시파이어, folds는 k의 개수\n",
    "    kfold = KFold(n_splits=folds)  # n_splits = folds\n",
    "    scores = []                    # 만들어서 저장하는 공간( foltset 설정하는 단계 )\n",
    "    \n",
    "    for iter_count, (train_index, test_index) \\\n",
    "    in enumerate(kfold.split(X_df)):            # enumerate 해서 독립변수 쪽의 5개를 하나씩 작업해준다.\n",
    "        X_train, X_test = X_df.values[train_index], X_df.values[test_index]\n",
    "        y_train, y_test = y_df.values[train_index], y_df.values[test_index]\n",
    "        \n",
    "        clf.fit(X_train, y_train)                    # 반복학습 ( 이 작업들을 각 fold마다 진행 )\n",
    "        predictions = clf.predict(X_test)            # 예측값 삽입 \n",
    "        accuracy = accuracy_score(y_test, predictions) # 각 폴드마다 한 것을 append 해준다.\n",
    "        scores.append(accuracy)                      # 5개에 대한 정확도를 출력\n",
    "        print('교차 검증 {0}정확도: {1:.4f}'.format(iter_count, accuracy))\n",
    "        # print('검증 세트 인덱스: {1}'.format(iter_count, test_index))\n",
    "        \n",
    "    mean_score = np.mean(scores)                   # mean_score로 평균을 구해준다.(5개 결과를 저장한 scores를 호출하여)\n",
    "    print('평균 정확도: {0: .4f}'.format(mean_score))\n",
    "        \n",
    "exec_kfold(rf_clf, folds=5)       # 5로 변경하면 5개가 출력된다."
   ]
  },
  {
   "cell_type": "code",
   "execution_count": 18,
   "metadata": {},
   "outputs": [
    {
     "name": "stdout",
     "output_type": "stream",
     "text": [
      "교차 검증 0 정확도: 0.5573\n",
      "교차 검증 1 정확도: 0.8397\n",
      "교차 검증 2 정확도: 0.8092\n",
      "교차 검증 3 정확도: 0.7939\n",
      "교차 검증 4 정확도: 0.7710\n",
      "교차 검증 5 정확도: 0.8397\n",
      "교차 검증 6 정확도: 0.7099\n",
      "교차 검증 7 정확도: 0.6183\n",
      "교차 검증 8 정확도: 0.6565\n",
      "교차 검증 9 정확도: 0.6923\n",
      "평균 정확도:0.7288\n"
     ]
    }
   ],
   "source": [
    "# cross_val_scores\n",
    "# KFold의 일련의 과정을 한꺼번에 수행해주는 API\n",
    "\n",
    "from sklearn.model_selection import cross_val_score\n",
    "\n",
    "scores = cross_val_score(rf_clf, X_df, y_df, cv=10)        # cv=5는 교차검증을 얼마나 할 것인가, 숫자를 올리면 KFold와 비슷해진다.\n",
    "for iter_count, accuracy in enumerate(scores):\n",
    "    print('교차 검증 {0} 정확도: {1:.4f}'.format(iter_count, accuracy))\n",
    "    \n",
    "print('평균 정확도:{0:.4f}'.format(np.mean(scores)))"
   ]
  },
  {
   "cell_type": "code",
   "execution_count": 19,
   "metadata": {
    "scrolled": false
   },
   "outputs": [
    {
     "data": {
      "text/plain": [
       "GridSearchCV(cv=5, error_score=nan,\n",
       "             estimator=DecisionTreeClassifier(ccp_alpha=0.0, class_weight=None,\n",
       "                                              criterion='gini', max_depth=None,\n",
       "                                              max_features=None,\n",
       "                                              max_leaf_nodes=None,\n",
       "                                              min_impurity_decrease=0.0,\n",
       "                                              min_impurity_split=None,\n",
       "                                              min_samples_leaf=1,\n",
       "                                              min_samples_split=2,\n",
       "                                              min_weight_fraction_leaf=0.0,\n",
       "                                              presort='deprecated',\n",
       "                                              random_state=None,\n",
       "                                              splitter='best'),\n",
       "             iid='deprecated', n_jobs=None,\n",
       "             param_grid={'max_depth': [2, 3, 5, 10],\n",
       "                         'min_samples_leaf': [1, 5, 8],\n",
       "                         'min_samples_split': [2, 3, 5]},\n",
       "             pre_dispatch='2*n_jobs', refit=True, return_train_score=False,\n",
       "             scoring='accuracy', verbose=0)"
      ]
     },
     "metadata": {},
     "output_type": "display_data"
    },
    {
     "name": "stdout",
     "output_type": "stream",
     "text": [
      "GridSearchCV 최적 하이퍼 파라미터: {'max_depth': 5, 'min_samples_leaf': 5, 'min_samples_split': 2}\n",
      "GridSearchCV 최고 정확도: 0.8022738664843928\n"
     ]
    },
    {
     "data": {
      "text/plain": [
       "RandomForestClassifier(bootstrap=True, ccp_alpha=0.0, class_weight=None,\n",
       "                       criterion='gini', max_depth=5, max_features='auto',\n",
       "                       max_leaf_nodes=None, max_samples=None,\n",
       "                       min_impurity_decrease=0.0, min_impurity_split=None,\n",
       "                       min_samples_leaf=1, min_samples_split=2,\n",
       "                       min_weight_fraction_leaf=0.0, n_estimators=200,\n",
       "                       n_jobs=None, oob_score=False, random_state=11, verbose=0,\n",
       "                       warm_start=False)"
      ]
     },
     "metadata": {},
     "output_type": "display_data"
    },
    {
     "name": "stdout",
     "output_type": "stream",
     "text": [
      "Random Forest GSCV 예측 정확도 :  0.7977099236641222\n"
     ]
    }
   ],
   "source": [
    "t_df = pd.read_pickle('t_df.pkl')\n",
    "\n",
    "y_df = t_df.survived\n",
    "X_df = t_df.drop('survived', axis=1)\n",
    "\n",
    "# 학습용 평가용 데이터 분리\n",
    "X_train, X_test, y_train, y_test = train_test_split(X_df, y_df, test_size=0.2, random_state=11)\n",
    "\n",
    "# 분류기 객체 생성\n",
    "dt_clf = DecisionTreeClassifier()\n",
    "\n",
    "# GridSearchCV : 파라미터를 통해 성능을 튜닝. (타이타닉 생존률을 해결하기 위해 필요한 작업)\n",
    "from sklearn.model_selection import GridSearchCV\n",
    "from sklearn.metrics import accuracy_score, precision_score, recall_score, confusion_matrix, f1_score\n",
    "\n",
    "parameters = {'n_estimators':[50,100,200],'max_depth':[2,3,5],'min_samples_leaf':[1,5,8]}\n",
    "\n",
    "grid_rflf = GridSearchCV(rf_clf, param_grid=parameters, scoring='accuracy', cv=5, refit=True) \n",
    "\n",
    "display(grid_dclf)\n",
    "grid_rflf.fit(X_train, y_train) \n",
    "\n",
    "print('GridSearchCV 최적 하이퍼 파라미터:', grid_dclf.best_params_) \n",
    "\n",
    "print('GridSearchCV 최고 정확도:', grid_dclf.best_score_) \n",
    "\n",
    "best_rflf = grid_rflf.best_estimator_\n",
    "display(best_rflf)\n",
    "dpredictions = best_rflf.predict(X_test)\n",
    "accuracy = accuracy_score(y_test, dpredictions)\n",
    "print('Random Forest GSCV 예측 정확도 : ', accuracy) "
   ]
  },
  {
   "cell_type": "code",
   "execution_count": 20,
   "metadata": {},
   "outputs": [
    {
     "name": "stdout",
     "output_type": "stream",
     "text": [
      "교차 검증 0정확도: 0.7176\n",
      "교차 검증 1정확도: 0.8626\n",
      "교차 검증 2정확도: 0.7672\n",
      "교차 검증 3정확도: 0.7443\n",
      "교차 검증 4정확도: 0.7778\n",
      "평균 정확도:  0.7739\n"
     ]
    }
   ],
   "source": [
    "from sklearn.model_selection import train_test_split\n",
    "from sklearn.tree import DecisionTreeClassifier\n",
    "from sklearn.ensemble import RandomForestClassifier\n",
    "from sklearn.linear_model import LogisticRegression\n",
    "from sklearn.metrics import accuracy_score\n",
    "\n",
    "# 독립변수, 종속변수 분리\n",
    "t_df = pd.read_pickle('t_df.pkl')\n",
    "\n",
    "y_df = t_df.survived\n",
    "X_df = t_df.drop('survived', axis=1)\n",
    "\n",
    "# 학습용 평가용 데이터 분리\n",
    "X_train, X_test, y_train, y_test = train_test_split(X_df, y_df, test_size=0.2, random_state=11)\n",
    "\n",
    "# 분류기 객체 생성\n",
    "# dt_clf = DecisionTreeClassifier(random_state=11)\n",
    "# rf_clf = RandomForestClassifier(random_state=11)\n",
    "lr_clf = LogisticRegression(random_state=11)\n",
    "\n",
    "from sklearn.model_selection import KFold\n",
    "\n",
    "# KFold 교차 검증 수행()\n",
    "# K개의 데이터 폴드 세트를 만들어서 K번 만큼 각 폴드 세트에\n",
    "# 학습과 검증 평가를 반복, K가 5이면 5번 평가를 평균한 결과로 예측 성능 검증\n",
    "# 예측 성능 평가\n",
    "def exec_kfold(clf, folds=5):      # clf는 클래시파이어, folds는 k의 개수\n",
    "    kfold = KFold(n_splits=folds)  # n_splits = folds\n",
    "    scores = []                    # 만들어서 저장하는 공간( foltset 설정하는 단계 )\n",
    "    \n",
    "    for iter_count, (train_index, test_index) \\\n",
    "    in enumerate(kfold.split(X_df)):            # enumerate 해서 독립변수 쪽의 5개를 하나씩 작업해준다.\n",
    "        X_train, X_test = X_df.values[train_index], X_df.values[test_index]\n",
    "        y_train, y_test = y_df.values[train_index], y_df.values[test_index]\n",
    "        \n",
    "        clf.fit(X_train, y_train)                    # 반복학습 ( 이 작업들을 각 fold마다 진행 )\n",
    "        predictions = clf.predict(X_test)            # 예측값 삽입 \n",
    "        accuracy = accuracy_score(y_test, predictions) # 각 폴드마다 한 것을 append 해준다.\n",
    "        scores.append(accuracy)                      # 5개에 대한 정확도를 출력\n",
    "        print('교차 검증 {0}정확도: {1:.4f}'.format(iter_count, accuracy))\n",
    "        # print('검증 세트 인덱스: {1}'.format(iter_count, test_index))\n",
    "        \n",
    "    mean_score = np.mean(scores)                   # mean_score로 평균을 구해준다.(5개 결과를 저장한 scores를 호출하여)\n",
    "    print('평균 정확도: {0: .4f}'.format(mean_score))\n",
    "        \n",
    "exec_kfold(lr_clf, folds=5)       # 5로 변경하면 5개가 출력된다."
   ]
  },
  {
   "cell_type": "code",
   "execution_count": 21,
   "metadata": {},
   "outputs": [
    {
     "name": "stdout",
     "output_type": "stream",
     "text": [
      "교차 검증 0 정확도: 0.5725\n",
      "교차 검증 1 정확도: 0.7939\n",
      "교차 검증 2 정확도: 0.8779\n",
      "교차 검증 3 정확도: 0.8473\n",
      "교차 검증 4 정확도: 0.7786\n",
      "교차 검증 5 정확도: 0.8168\n",
      "교차 검증 6 정확도: 0.7252\n",
      "교차 검증 7 정확도: 0.6489\n",
      "교차 검증 8 정확도: 0.7099\n",
      "교차 검증 9 정확도: 0.7615\n",
      "평균 정확도:0.7533\n"
     ]
    }
   ],
   "source": [
    "# cross_val_scores\n",
    "# KFold의 일련의 과정을 한꺼번에 수행해주는 API\n",
    "\n",
    "from sklearn.model_selection import cross_val_score\n",
    "\n",
    "scores = cross_val_score(lr_clf, X_df, y_df, cv=10)        # cv=5는 교차검증을 얼마나 할 것인가, 숫자를 올리면 KFold와 비슷해진다.\n",
    "for iter_count, accuracy in enumerate(scores):\n",
    "    print('교차 검증 {0} 정확도: {1:.4f}'.format(iter_count, accuracy))\n",
    "    \n",
    "print('평균 정확도:{0:.4f}'.format(np.mean(scores)))"
   ]
  },
  {
   "cell_type": "code",
   "execution_count": 22,
   "metadata": {
    "scrolled": false
   },
   "outputs": [
    {
     "data": {
      "text/plain": [
       "GridSearchCV(cv=5, error_score=nan,\n",
       "             estimator=LogisticRegression(C=1.0, class_weight=None, dual=False,\n",
       "                                          fit_intercept=True,\n",
       "                                          intercept_scaling=1, l1_ratio=None,\n",
       "                                          max_iter=100, multi_class='auto',\n",
       "                                          n_jobs=None, penalty='l2',\n",
       "                                          random_state=11, solver='lbfgs',\n",
       "                                          tol=0.0001, verbose=0,\n",
       "                                          warm_start=False),\n",
       "             iid='deprecated', n_jobs=None,\n",
       "             param_grid={'C': [0.01, 0.1, 1, 1, 5, 10],\n",
       "                         'penalty': ['l2', 'l1']},\n",
       "             pre_dispatch='2*n_jobs', refit=True, return_train_score=False,\n",
       "             scoring='accuracy', verbose=0)"
      ]
     },
     "metadata": {},
     "output_type": "display_data"
    },
    {
     "name": "stdout",
     "output_type": "stream",
     "text": [
      "GridSearchCV 최적 하이퍼 파라미터: {'max_depth': 5, 'min_samples_leaf': 5, 'min_samples_split': 2}\n",
      "GridSearchCV 최고 정확도: 0.8022738664843928\n"
     ]
    },
    {
     "data": {
      "text/plain": [
       "LogisticRegression(C=1, class_weight=None, dual=False, fit_intercept=True,\n",
       "                   intercept_scaling=1, l1_ratio=None, max_iter=100,\n",
       "                   multi_class='auto', n_jobs=None, penalty='l2',\n",
       "                   random_state=11, solver='lbfgs', tol=0.0001, verbose=0,\n",
       "                   warm_start=False)"
      ]
     },
     "metadata": {},
     "output_type": "display_data"
    },
    {
     "name": "stdout",
     "output_type": "stream",
     "text": [
      "Logistic Regression GSCV 예측 정확도 :  0.8206106870229007\n"
     ]
    }
   ],
   "source": [
    "t_df = pd.read_pickle('t_df.pkl')\n",
    "\n",
    "y_df = t_df.survived\n",
    "X_df = t_df.drop('survived', axis=1)\n",
    "\n",
    "# 학습용 평가용 데이터 분리\n",
    "X_train, X_test, y_train, y_test = train_test_split(X_df, y_df, test_size=0.2, random_state=11)\n",
    "\n",
    "# 분류기 객체 생성\n",
    "dt_clf = DecisionTreeClassifier()\n",
    "\n",
    "# GridSearchCV : 파라미터를 통해 성능을 튜닝. (타이타닉 생존률을 해결하기 위해 필요한 작업)\n",
    "from sklearn.model_selection import GridSearchCV\n",
    "from sklearn.metrics import accuracy_score, precision_score, recall_score, confusion_matrix, f1_score\n",
    "\n",
    "parameters =  parameters = {'penalty':['l2','l1'],'C':[0.01,0.1,1,1,5,10]}\n",
    "\n",
    "grid_lrlf = GridSearchCV(lr_clf, param_grid=parameters, scoring='accuracy', cv=5, refit=True) \n",
    "\n",
    "display(grid_lrlf)\n",
    "grid_lrlf.fit(X_train, y_train) \n",
    "\n",
    "print('GridSearchCV 최적 하이퍼 파라미터:', grid_dclf.best_params_) \n",
    "\n",
    "print('GridSearchCV 최고 정확도:', grid_dclf.best_score_) \n",
    "\n",
    "best_lrlf = grid_lrlf.best_estimator_\n",
    "display(best_lrlf)\n",
    "dpredictions = best_lrlf.predict(X_test)\n",
    "accuracy = accuracy_score(y_test, dpredictions)\n",
    "print('Logistic Regression GSCV 예측 정확도 : ', accuracy) "
   ]
  }
 ],
 "metadata": {
  "kernelspec": {
   "display_name": "Python 3",
   "language": "python",
   "name": "python3"
  },
  "language_info": {
   "codemirror_mode": {
    "name": "ipython",
    "version": 3
   },
   "file_extension": ".py",
   "mimetype": "text/x-python",
   "name": "python",
   "nbconvert_exporter": "python",
   "pygments_lexer": "ipython3",
   "version": "3.7.6"
  }
 },
 "nbformat": 4,
 "nbformat_minor": 4
}
