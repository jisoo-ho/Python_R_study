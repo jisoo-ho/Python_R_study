{
 "cells": [
  {
   "cell_type": "markdown",
   "metadata": {},
   "source": [
    "## 훈련과정 : R·파이썬 기반 빅데이터 분석 전문가 양성과정\n",
    "- 교과목 평가 : 머신러닝 기반 데이터 분석\n",
    "- 성명 : 호지수\n",
    "- 점수 :"
   ]
  },
  {
   "cell_type": "markdown",
   "metadata": {},
   "source": [
    "#### Q. 아래사항을 준수하여 타이타닉 생존자 예측모델을 개발하세요.\n",
    "\n",
    "- 데이터 : \n",
    "  - 제공 데이터 파일 : titanic3.csv\n",
    "  - 훈련/검증용 데이터 : 평가 데이터 = 8 : 2\n",
    "  - 훈련/검증용 데이터로 모델 학습 및 검증하고 평가 데이터는 최종 평가에만 사용\n",
    "\n",
    "\n",
    "- 모델 개발 방법 :\n",
    "  - 데이터 전처리 및 탐색적 분석을 통하여 파생변수 최소 2개 이상 개발\n",
    "  - 알고리즘은 최소한 3개 이상 적용(Decision Tree, Random Forest, Logistic Regression은 필수)\n",
    "\n",
    "\n",
    "- 훈련 및 평가 방법 :\n",
    "  - GridSearchCV API를 활용하여 교차검증 및 최적 하이퍼파라미터 찾아서 학습 및 검증 수행"
   ]
  },
  {
   "cell_type": "code",
   "execution_count": 1,
   "metadata": {},
   "outputs": [
    {
     "data": {
      "text/html": [
       "<div>\n",
       "<style scoped>\n",
       "    .dataframe tbody tr th:only-of-type {\n",
       "        vertical-align: middle;\n",
       "    }\n",
       "\n",
       "    .dataframe tbody tr th {\n",
       "        vertical-align: top;\n",
       "    }\n",
       "\n",
       "    .dataframe thead th {\n",
       "        text-align: right;\n",
       "    }\n",
       "</style>\n",
       "<table border=\"1\" class=\"dataframe\">\n",
       "  <thead>\n",
       "    <tr style=\"text-align: right;\">\n",
       "      <th></th>\n",
       "      <th>pclass</th>\n",
       "      <th>survived</th>\n",
       "      <th>sex</th>\n",
       "      <th>age</th>\n",
       "      <th>fare</th>\n",
       "      <th>cabin</th>\n",
       "      <th>embarked</th>\n",
       "      <th>body</th>\n",
       "      <th>total_family</th>\n",
       "    </tr>\n",
       "  </thead>\n",
       "  <tbody>\n",
       "    <tr>\n",
       "      <th>0</th>\n",
       "      <td>1</td>\n",
       "      <td>1</td>\n",
       "      <td>0</td>\n",
       "      <td>29.00</td>\n",
       "      <td>211.3375</td>\n",
       "      <td>1</td>\n",
       "      <td>3</td>\n",
       "      <td>0.0</td>\n",
       "      <td>0</td>\n",
       "    </tr>\n",
       "    <tr>\n",
       "      <th>1</th>\n",
       "      <td>1</td>\n",
       "      <td>1</td>\n",
       "      <td>1</td>\n",
       "      <td>0.92</td>\n",
       "      <td>151.5500</td>\n",
       "      <td>2</td>\n",
       "      <td>3</td>\n",
       "      <td>0.0</td>\n",
       "      <td>3</td>\n",
       "    </tr>\n",
       "    <tr>\n",
       "      <th>2</th>\n",
       "      <td>1</td>\n",
       "      <td>0</td>\n",
       "      <td>0</td>\n",
       "      <td>2.00</td>\n",
       "      <td>151.5500</td>\n",
       "      <td>2</td>\n",
       "      <td>3</td>\n",
       "      <td>0.0</td>\n",
       "      <td>3</td>\n",
       "    </tr>\n",
       "  </tbody>\n",
       "</table>\n",
       "</div>"
      ],
      "text/plain": [
       "   pclass  survived  sex    age      fare  cabin  embarked  body  total_family\n",
       "0       1         1    0  29.00  211.3375      1         3   0.0             0\n",
       "1       1         1    1   0.92  151.5500      2         3   0.0             3\n",
       "2       1         0    0   2.00  151.5500      2         3   0.0             3"
      ]
     },
     "metadata": {},
     "output_type": "display_data"
    }
   ],
   "source": [
    "import pandas as pd\n",
    "import numpy as np\n",
    "\n",
    "from sklearn.model_selection import train_test_split\n",
    "from sklearn.tree import DecisionTreeClassifier\n",
    "from sklearn.ensemble import RandomForestClassifier\n",
    "from sklearn.linear_model import LogisticRegression\n",
    "from sklearn.metrics import accuracy_score\n",
    "from sklearn.preprocessing import LabelEncoder\n",
    "\n",
    "# 데이터 호출\n",
    "t_df = pd.read_csv('../titanic3.csv')\n",
    "\n",
    "# 데이터 전처리\n",
    "def fillna(df):\n",
    "    df['age'].fillna(df['age'].mean(), inplace=True)\n",
    "    df['cabin'].fillna('N', inplace=True)\n",
    "    df['fare'].fillna(df['fare'].mean(), inplace=True)\n",
    "    df['embarked'].fillna('N', inplace=True)\n",
    "    df['body'].fillna(0, inplace=True) # 0 대신 'N'을 삽입\n",
    "    return df\n",
    "\n",
    "def drop_features(df):\n",
    "    df.drop(['home.dest','boat','name','ticket'], axis=1, inplace=True)\n",
    "    return df\n",
    "\n",
    "def format_features(df):\n",
    "    df['cabin'] = df['cabin'].str[:1]\n",
    "    features = ['cabin','sex','embarked']\n",
    "    for feature in features:\n",
    "        le = LabelEncoder()\n",
    "        df[feature] = le.fit_transform(df[feature])\n",
    "    return df\n",
    "\n",
    "def set_family(df):\n",
    "    df['total_family'] = df['sibsp'] + df['parch'] # total 가족 수 계산\n",
    "    df.drop(['sibsp','parch'], axis=1, inplace=True) # 나뉘어진 가족 열 제외\n",
    "    return df\n",
    "\n",
    "def transform_features(df):\n",
    "    df = fillna(df)\n",
    "    df = drop_features(df)\n",
    "    df = format_features(df)\n",
    "    df = set_family(df)\n",
    "    return df\n",
    "\n",
    "#전처리 메소드 실행\n",
    "t_df = transform_features(t_df)\n",
    "display(t_df.head(3))"
   ]
  },
  {
   "cell_type": "code",
   "execution_count": 2,
   "metadata": {},
   "outputs": [
    {
     "name": "stdout",
     "output_type": "stream",
     "text": [
      "교차 검증 0정확도: 0.7023\n",
      "교차 검증 1정확도: 0.7634\n",
      "교차 검증 2정확도: 0.7137\n",
      "교차 검증 3정확도: 0.7137\n",
      "교차 검증 4정확도: 0.7471\n",
      "평균 정확도:  0.7281\n"
     ]
    }
   ],
   "source": [
    "# 변수 분리\n",
    "y_df = t_df.survived\n",
    "X_df = t_df.drop('survived', axis=1)\n",
    "\n",
    "#데이터셋 분리\n",
    "X_train, X_test, y_train, y_test = train_test_split(X_df, y_df, test_size=0.2, random_state=11)\n",
    "\n",
    "#객체 생성\n",
    "dt_clf = DecisionTreeClassifier(random_state=11)\n",
    "\n",
    "#검증모델 호출\n",
    "from sklearn.model_selection import KFold\n",
    "\n",
    "# KFold 검증 실행\n",
    "def exec_kfold(clf, folds=5):      \n",
    "    kfold = KFold(n_splits=folds)  \n",
    "    scores = []\n",
    "    \n",
    "    for iter_count, (train_index, test_index) \\\n",
    "    in enumerate(kfold.split(X_df)):            \n",
    "        X_train, X_test = X_df.values[train_index], X_df.values[test_index]\n",
    "        y_train, y_test = y_df.values[train_index], y_df.values[test_index]\n",
    "        \n",
    "        clf.fit(X_train, y_train)                 \n",
    "        predictions = clf.predict(X_test)  \n",
    "        accuracy = accuracy_score(y_test, predictions)\n",
    "        scores.append(accuracy)                      \n",
    "        print('교차 검증 {0}정확도: {1:.4f}'.format(iter_count, accuracy))\n",
    "        \n",
    "        \n",
    "    mean_score = np.mean(scores)\n",
    "    print('평균 정확도: {0: .4f}'.format(mean_score))\n",
    "        \n",
    "# 메소드 실행(정확도 추출)\n",
    "exec_kfold(dt_clf, folds=5)"
   ]
  },
  {
   "cell_type": "code",
   "execution_count": 3,
   "metadata": {},
   "outputs": [
    {
     "name": "stdout",
     "output_type": "stream",
     "text": [
      "DT 교차 검증 0 정확도: 0.6412\n",
      "DT 교차 검증 1 정확도: 0.7786\n",
      "DT 교차 검증 2 정확도: 0.8473\n",
      "DT 교차 검증 3 정확도: 0.7023\n",
      "DT 교차 검증 4 정확도: 0.7634\n",
      "DT 교차 검증 5 정확도: 0.7481\n",
      "DT 교차 검증 6 정확도: 0.6336\n",
      "DT 교차 검증 7 정확도: 0.6260\n",
      "DT 교차 검증 8 정확도: 0.6565\n",
      "DT 교차 검증 9 정확도: 0.7538\n",
      "DT 평균 정확도:0.7151\n"
     ]
    }
   ],
   "source": [
    "# cross_val_scores\n",
    "from sklearn.model_selection import cross_val_score\n",
    "\n",
    "scores = cross_val_score(dt_clf, X_df, y_df, cv=10)        # cv=5는 교차검증을 얼마나 할 것인가, 숫자를 올리면 KFold와 비슷해진다.\n",
    "for iter_count, accuracy in enumerate(scores):\n",
    "    print('DT 교차 검증 {0} 정확도: {1:.4f}'.format(iter_count, accuracy))\n",
    "    \n",
    "print('DT 평균 정확도:{0:.4f}'.format(np.mean(scores)))"
   ]
  },
  {
   "cell_type": "code",
   "execution_count": 4,
   "metadata": {},
   "outputs": [
    {
     "name": "stdout",
     "output_type": "stream",
     "text": [
      "GridSearchCV DT 최적 하이퍼 파라미터: {'max_depth': 5, 'min_samples_leaf': 5, 'min_samples_split': 2}\n",
      "GridSearchCV DT 최고 정확도: 0.7946365914786967\n"
     ]
    },
    {
     "data": {
      "text/plain": [
       "DecisionTreeClassifier(ccp_alpha=0.0, class_weight=None, criterion='gini',\n",
       "                       max_depth=5, max_features=None, max_leaf_nodes=None,\n",
       "                       min_impurity_decrease=0.0, min_impurity_split=None,\n",
       "                       min_samples_leaf=5, min_samples_split=2,\n",
       "                       min_weight_fraction_leaf=0.0, presort='deprecated',\n",
       "                       random_state=11, splitter='best')"
      ]
     },
     "metadata": {},
     "output_type": "display_data"
    },
    {
     "name": "stdout",
     "output_type": "stream",
     "text": [
      "Dicision Tree GSCV 예측 정확도 :  0.7938931297709924\n"
     ]
    }
   ],
   "source": [
    "from sklearn.model_selection import GridSearchCV\n",
    "from sklearn.metrics import accuracy_score, precision_score, recall_score, confusion_matrix, f1_score\n",
    "\n",
    "#파라미터 생성\n",
    "parameters = {'max_depth':[2,3,5,10], 'min_samples_split':[2,3,5], 'min_samples_leaf':[1,5,8]}\n",
    "\n",
    "#객체 생성\n",
    "grid_dclf = GridSearchCV(dt_clf, param_grid=parameters, scoring='accuracy', cv=5, refit=True) \n",
    "\n",
    "# 학습\n",
    "grid_dclf.fit(X_train, y_train) \n",
    "\n",
    "print('GridSearchCV DT 최적 하이퍼 파라미터:', grid_dclf.best_params_) \n",
    "print('GridSearchCV DT 최고 정확도:', grid_dclf.best_score_)\n",
    "\n",
    "best_dclf = grid_dclf.best_estimator_\n",
    "display(best_dclf) # 출력\n",
    "\n",
    "# DT 예측 데이터\n",
    "dpredictions = best_dclf.predict(X_test) \n",
    "accuracy = accuracy_score(y_test, dpredictions)\n",
    "print('Dicision Tree GSCV 예측 정확도 : ', accuracy)"
   ]
  },
  {
   "cell_type": "code",
   "execution_count": 5,
   "metadata": {},
   "outputs": [
    {
     "name": "stdout",
     "output_type": "stream",
     "text": [
      "교차 검증 0정확도: 0.7901\n",
      "교차 검증 1정확도: 0.8359\n",
      "교차 검증 2정확도: 0.7405\n",
      "교차 검증 3정확도: 0.7061\n",
      "교차 검증 4정확도: 0.7548\n",
      "평균 정확도:  0.7655\n",
      "\n",
      "RF 교차 검증 0 정확도: 0.6489\n",
      "RF 교차 검증 1 정확도: 0.7939\n",
      "RF 교차 검증 2 정확도: 0.8321\n",
      "RF 교차 검증 3 정확도: 0.7557\n",
      "RF 교차 검증 4 정확도: 0.8168\n",
      "RF 교차 검증 5 정확도: 0.8015\n",
      "RF 교차 검증 6 정확도: 0.6870\n",
      "RF 교차 검증 7 정확도: 0.6489\n",
      "RF 교차 검증 8 정확도: 0.6336\n",
      "RF 교차 검증 9 정확도: 0.7154\n",
      "RF 평균 정확도:0.7334\n"
     ]
    }
   ],
   "source": [
    "#Random Forest \n",
    "rf_clf = RandomForestClassifier(random_state=11)\n",
    "\n",
    "#메소드 실행\n",
    "exec_kfold(rf_clf, folds=5)\n",
    "print()\n",
    "\n",
    "# cross_val_scores\n",
    "from sklearn.model_selection import cross_val_score\n",
    "\n",
    "scores = cross_val_score(rf_clf, X_df, y_df, cv=10)\n",
    "for iter_count, accuracy in enumerate(scores):\n",
    "    print('RF 교차 검증 {0} 정확도: {1:.4f}'.format(iter_count, accuracy))\n",
    "    \n",
    "print('RF 평균 정확도:{0:.4f}'.format(np.mean(scores)))"
   ]
  },
  {
   "cell_type": "code",
   "execution_count": 17,
   "metadata": {},
   "outputs": [
    {
     "name": "stdout",
     "output_type": "stream",
     "text": [
      "GridSearchCV RF 최적 하이퍼 파라미터: {'max_depth': 3, 'min_samples_leaf': 1, 'n_estimators': 200}\n",
      "GridSearchCV RF 최고 정확도: 0.7965686944634314\n"
     ]
    },
    {
     "data": {
      "text/plain": [
       "RandomForestClassifier(bootstrap=True, ccp_alpha=0.0, class_weight=None,\n",
       "                       criterion='gini', max_depth=3, max_features='auto',\n",
       "                       max_leaf_nodes=None, max_samples=None,\n",
       "                       min_impurity_decrease=0.0, min_impurity_split=None,\n",
       "                       min_samples_leaf=1, min_samples_split=2,\n",
       "                       min_weight_fraction_leaf=0.0, n_estimators=200,\n",
       "                       n_jobs=None, oob_score=False, random_state=11, verbose=0,\n",
       "                       warm_start=False)"
      ]
     },
     "metadata": {},
     "output_type": "display_data"
    },
    {
     "name": "stdout",
     "output_type": "stream",
     "text": [
      "Random Forest GSCV 예측 정확도 :  0.7900763358778626\n"
     ]
    }
   ],
   "source": [
    "#GridSearchCV\n",
    "from sklearn.model_selection import GridSearchCV\n",
    "from sklearn.metrics import accuracy_score, precision_score, recall_score, confusion_matrix, f1_score\n",
    "\n",
    "parameters = {'n_estimators':[50,100,200],'max_depth':[2,3,5],'min_samples_leaf':[1,5,8]}\n",
    "\n",
    "grid_rflf = GridSearchCV(rf_clf, param_grid=parameters, scoring='accuracy', cv=5, refit=True) \n",
    "\n",
    "grid_rflf.fit(X_train, y_train) # 학습\n",
    "\n",
    "print('GridSearchCV RF 최적 하이퍼 파라미터:', grid_rflf.best_params_) \n",
    "print('GridSearchCV RF 최고 정확도:', grid_rflf.best_score_) \n",
    "\n",
    "best_rflf = grid_rflf.best_estimator_\n",
    "display(best_rflf)\n",
    "\n",
    "rpredictions = best_rflf.predict(X_test)\n",
    "accuracy = accuracy_score(y_test, rpredictions)\n",
    "print('Random Forest GSCV 예측 정확도 : ', accuracy)"
   ]
  },
  {
   "cell_type": "code",
   "execution_count": 7,
   "metadata": {},
   "outputs": [
    {
     "name": "stdout",
     "output_type": "stream",
     "text": [
      "교차 검증 0정확도: 0.7710\n",
      "교차 검증 1정확도: 0.8550\n",
      "교차 검증 2정확도: 0.7710\n",
      "교차 검증 3정확도: 0.7634\n",
      "교차 검증 4정확도: 0.8008\n",
      "평균 정확도:  0.7922\n",
      "\n",
      "LR 교차 검증 0 정확도: 0.6260\n",
      "LR 교차 검증 1 정확도: 0.7939\n",
      "LR 교차 검증 2 정확도: 0.9084\n",
      "LR 교차 검증 3 정확도: 0.8550\n",
      "LR 교차 검증 4 정확도: 0.8015\n",
      "LR 교차 검증 5 정확도: 0.8244\n",
      "LR 교차 검증 6 정확도: 0.7557\n",
      "LR 교차 검증 7 정확도: 0.6794\n",
      "LR 교차 검증 8 정확도: 0.7634\n",
      "LR 교차 검증 9 정확도: 0.7692\n",
      "LR 평균 정확도:0.7777\n"
     ]
    }
   ],
   "source": [
    "# Logistic Regression\n",
    "import warnings\n",
    "warnings.filterwarnings('ignore')\n",
    "\n",
    "lr_clf = LogisticRegression(random_state=11)\n",
    "\n",
    "exec_kfold(lr_clf, folds=5)\n",
    "print()\n",
    "\n",
    "# cross_val_scores\n",
    "from sklearn.model_selection import cross_val_score\n",
    "\n",
    "scores = cross_val_score(lr_clf, X_df, y_df, cv=10)\n",
    "for iter_count, accuracy in enumerate(scores):\n",
    "    print('LR 교차 검증 {0} 정확도: {1:.4f}'.format(iter_count, accuracy))\n",
    "    \n",
    "print('LR 평균 정확도:{0:.4f}'.format(np.mean(scores)))"
   ]
  },
  {
   "cell_type": "code",
   "execution_count": 16,
   "metadata": {},
   "outputs": [
    {
     "name": "stdout",
     "output_type": "stream",
     "text": [
      "GridSearchCV LR 최적 하이퍼 파라미터: {'C': 0.01, 'penalty': 'l2'}\n",
      "GridSearchCV LR 최고 정확도: 0.798459785828207\n"
     ]
    },
    {
     "data": {
      "text/plain": [
       "LogisticRegression(C=0.01, class_weight=None, dual=False, fit_intercept=True,\n",
       "                   intercept_scaling=1, l1_ratio=None, max_iter=100,\n",
       "                   multi_class='auto', n_jobs=None, penalty='l2',\n",
       "                   random_state=11, solver='lbfgs', tol=0.0001, verbose=0,\n",
       "                   warm_start=False)"
      ]
     },
     "metadata": {},
     "output_type": "display_data"
    },
    {
     "name": "stdout",
     "output_type": "stream",
     "text": [
      "Logistic Regression GSCV 예측 정확도 : 0.8320610687022901\n"
     ]
    }
   ],
   "source": [
    "from sklearn.model_selection import GridSearchCV\n",
    "from sklearn.metrics import accuracy_score, precision_score, recall_score, confusion_matrix, f1_score\n",
    "\n",
    "parameters = {'penalty':['l2','l1'],'C':[0.01,0.1,1,1,5,10]}\n",
    "\n",
    "grid_lrlf = GridSearchCV(lr_clf, param_grid=parameters, scoring='accuracy', cv=5, refit=True) \n",
    "\n",
    "grid_lrlf.fit(X_train, y_train) # 학습\n",
    "\n",
    "print('GridSearchCV LR 최적 하이퍼 파라미터:', grid_lrlf.best_params_) \n",
    "print('GridSearchCV LR 최고 정확도:', grid_lrlf.best_score_) \n",
    "\n",
    "best_lrlf = grid_lrlf.best_estimator_\n",
    "display(best_lrlf)\n",
    "\n",
    "lpredictions = best_lrlf.predict(X_test)\n",
    "accuracy = accuracy_score(y_test, lpredictions)\n",
    "print('Logistic Regression GSCV 예측 정확도 :', accuracy)"
   ]
  },
  {
   "cell_type": "code",
   "execution_count": 18,
   "metadata": {},
   "outputs": [
    {
     "name": "stdout",
     "output_type": "stream",
     "text": [
      "[[133  23]\n",
      " [ 32  74]]\n",
      "              precision    recall  f1-score   support\n",
      "\n",
      "           0       0.81      0.85      0.83       156\n",
      "           1       0.76      0.70      0.73       106\n",
      "\n",
      "    accuracy                           0.79       262\n",
      "   macro avg       0.78      0.78      0.78       262\n",
      "weighted avg       0.79      0.79      0.79       262\n",
      "\n"
     ]
    }
   ],
   "source": [
    "from sklearn.model_selection import train_test_split\n",
    "from sklearn.preprocessing import StandardScaler\n",
    "from sklearn.neural_network import MLPClassifier\n",
    "from sklearn.metrics import classification_report, confusion_matrix\n",
    "\n",
    "X_train, X_test, y_train, y_test = train_test_split(X_df, y_df, test_size=0.2, random_state=11)\n",
    "\n",
    "scaler = StandardScaler()\n",
    "scaler.fit(X_train)\n",
    "\n",
    "X_train = scaler.transform(X_train)\n",
    "X_test = scaler.transform(X_test)\n",
    "\n",
    "mlp_clf =MLPClassifier(random_state=10)\n",
    "\n",
    "# MLP알고리즘의 히든레이어 노드를 10개씩 3계층으로 구성\n",
    "mlp = MLPClassifier(activation='relu',\\\n",
    "                    alpha=0.0001,\\\n",
    "                    batch_size='auto',\\\n",
    "                    beta_1=0.9,\\\n",
    "                    beta_2=0.999,\\\n",
    "                    early_stopping=False,\\\n",
    "                    epsilon=1e-08,\\\n",
    "                    hidden_layer_sizes=(30, 30, 30),\\\n",
    "                    learning_rate='constant', \\\n",
    "                    learning_rate_init=0.001, max_iter=200,\\\n",
    "                    momentum=0.9, nesterovs_momentum=True,\\\n",
    "                    power_t=0.5, random_state=None,\\\n",
    "                    shuffle=True, solver='adam', \\\n",
    "                    tol=0.0001, validation_fraction=0.1, \\\n",
    "                    verbose=False, warm_start=False)\n",
    "\n",
    "mlp.fit(X_train, y_train)\n",
    "\n",
    "predictions = mlp.predict(X_test)\n",
    "\n",
    "print(confusion_matrix(y_test, predictions))\n",
    "print(classification_report(y_test, predictions))"
   ]
  },
  {
   "cell_type": "code",
   "execution_count": 21,
   "metadata": {},
   "outputs": [
    {
     "name": "stdout",
     "output_type": "stream",
     "text": [
      "Fitting 5 folds for each of 6 candidates, totalling 30 fits\n"
     ]
    },
    {
     "name": "stderr",
     "output_type": "stream",
     "text": [
      "[Parallel(n_jobs=-1)]: Using backend LokyBackend with 4 concurrent workers.\n",
      "[Parallel(n_jobs=-1)]: Done  30 out of  30 | elapsed:    4.6s finished\n"
     ]
    },
    {
     "name": "stdout",
     "output_type": "stream",
     "text": [
      "GridSearchCV mlp 최적 하이퍼 파라미터: {'activation': 'relu', 'alpha': 0.1}\n",
      "GridSearchCV mlp 최고 정확도: 0.8089769879243563\n",
      "dt 예측 정확도 :  0.7900763358778626\n"
     ]
    }
   ],
   "source": [
    "parameters={'alpha': [1,10,0.1],'activation': [\"logistic\", \"relu\"]}\n",
    "\n",
    "\n",
    "grid_mlplf = GridSearchCV(mlp_clf, param_grid=parameters, n_jobs=-1,verbose=2, scoring='accuracy', cv=5, refit=True) \n",
    "# refit=True는 최적으로 된 하이퍼 파라미터를 반영하겠다는 의미\n",
    "\n",
    "grid_mlplf.fit(X_train, y_train) # 학습을 시킨다.\n",
    "\n",
    "print('GridSearchCV mlp 최적 하이퍼 파라미터:', grid_mlplf.best_params_)\n",
    "print('GridSearchCV mlp 최고 정확도:', grid_mlplf.best_score_)\n",
    "\n",
    "best_mlplf = grid_mlplf.best_estimator_\n",
    "mlppredictions = best_mlplf.predict(X_test)\n",
    "accuracy = accuracy_score(y_test, mlppredictions)\n",
    "print('dt 예측 정확도 : ', accuracy)"
   ]
  },
  {
   "cell_type": "markdown",
   "metadata": {},
   "source": [
    "## 정리\n",
    " - Decision Tree\n",
    "   - 평균 정확도:  0.7281\n",
    "   - 교차검증 평균 정확도 : 0.7151\n",
    "   - GridSearchCV DT 최적 하이퍼 파라미터: {'max_depth': 5, 'min_samples_leaf': 5, 'min_samples_split': 2}\n",
    "   - GridSearchCV DT 최고 정확도: 0.7946365914786967\n",
    "   - Dicision Tree GSCV 예측 정확도 : 0.7938931297709924\n",
    "   \n",
    " - Random Forest\n",
    "   - 평균 정확도:  0.7655\n",
    "   - 교차검증 평균 정확도:0.7334\n",
    "   - GridSearchCV RF 최적 하이퍼 파라미터: {'max_depth': 3, 'min_samples_leaf': 1, 'n_estimators': 200}\n",
    "   - GridSearchCV RF 최고 정확도: 0.7975210754158123\n",
    "   - Random Forest GSCV 예측 정확도 :  0.7900763358778626\n",
    "   \n",
    " - Logistic Regression\n",
    "   - 평균 정확도:  0.7922\n",
    "   - 교차검증 LR 평균 정확도:0.7777\n",
    "   - GridSearchCV LR 최적 하이퍼 파라미터: {'C': 0.01, 'penalty': 'l2'}\n",
    "   - GridSearchCV LR 최고 정확도: 0.798459785828207\n",
    "   - Logistic Regression GSCV 예측 정확도 : 0.8320610687022901\n",
    "   \n",
    " #### 가장 높은 정확도 : Logistic Regression GSCV 예측 정확도 : 83.2%"
   ]
  }
 ],
 "metadata": {
  "kernelspec": {
   "display_name": "Python 3",
   "language": "python",
   "name": "python3"
  },
  "language_info": {
   "codemirror_mode": {
    "name": "ipython",
    "version": 3
   },
   "file_extension": ".py",
   "mimetype": "text/x-python",
   "name": "python",
   "nbconvert_exporter": "python",
   "pygments_lexer": "ipython3",
   "version": "3.7.6"
  }
 },
 "nbformat": 4,
 "nbformat_minor": 2
}
