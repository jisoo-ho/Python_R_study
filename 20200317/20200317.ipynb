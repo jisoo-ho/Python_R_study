{
 "cells": [
  {
   "cell_type": "markdown",
   "metadata": {},
   "source": [
    "Numpy\n",
    " - numerical Python을 의미하는 Numpy는 파이썬에서 선형대수 기반의 프로그램을 쉽게 만들 수 있도록 지원하는 대표적인 패키지\n",
    " - 많은 머신러닝 알고리즘이 넘파이 기반으로 작성돼 있으며 알고리즘의 입출력 데이터를 넘파이 배열 타입으로 사용함\n",
    " - 넘파이의 기본 데이터 타입은 ndarray.ndarray를 이용해 넘파이에서 다차원 배열을 쉽게 생성하고 다양한 연산 수행"
   ]
  },
  {
   "cell_type": "code",
   "execution_count": 5,
   "metadata": {},
   "outputs": [
    {
     "name": "stdout",
     "output_type": "stream",
     "text": [
      "array1 type: <class 'numpy.ndarray'>\n",
      "array1 array형태: (3,)\n",
      "[1 2 3]\n"
     ]
    }
   ],
   "source": [
    "#1차원 배열로 3개의 데이터 \n",
    "import numpy as np\n",
    "\n",
    "array1 = np.array([1,2,3])\n",
    "print('array1 type:',type(array1))\n",
    "\n",
    "#1차원 배열의 shape는 (,열)이 아닌 (열,)형태로 출력\n",
    "print('array1 array형태:',array1.shape) # 1차원(열의 숫자만 있고 행의 숫자가 없다.)\n",
    "print(array1)"
   ]
  },
  {
   "cell_type": "code",
   "execution_count": 8,
   "metadata": {},
   "outputs": [
    {
     "name": "stdout",
     "output_type": "stream",
     "text": [
      "array2 type: <class 'numpy.ndarray'>\n",
      "array2 array형태 : (2, 3)\n",
      "[[1 2 3]\n",
      " [2 3 4]]\n"
     ]
    }
   ],
   "source": [
    "# 2차원 배열로 2개의 row와 3개의 columns 으로 구성된 6개의 데이터\n",
    "array2 = np.array([[1,2,3],\n",
    "                 [2,3,4]])\n",
    "print('array2 type:',type(array2))\n",
    "print('array2 array형태 :', array2.shape) # (2, 3) 2행 3열로 구성된 행렬\n",
    "print(array2)"
   ]
  },
  {
   "cell_type": "code",
   "execution_count": 13,
   "metadata": {},
   "outputs": [
    {
     "name": "stdout",
     "output_type": "stream",
     "text": [
      "array3 type: <class 'numpy.ndarray'>\n",
      "array3 array 형태: (1, 3)\n",
      "[[1 2 3]]\n",
      "\n",
      "1\n",
      "2\n"
     ]
    }
   ],
   "source": [
    "#1개의 row와 3개의 column으로 구성된 2차원 배열\n",
    "import numpy as np\n",
    "array3 = np.array([[1,2,3]]) # 배열을 대괄호 내부로 넣어줘서 2차원 배열로 형태를 변경\n",
    "print('array3 type:',type(array3))\n",
    "print('array3 array 형태:',array3.shape)\n",
    "print(array3)\n",
    "print()\n",
    "\n",
    "print(array1.ndim) #1차원\n",
    "print(array3.ndim) #2차원"
   ]
  },
  {
   "cell_type": "code",
   "execution_count": 37,
   "metadata": {},
   "outputs": [
    {
     "name": "stdout",
     "output_type": "stream",
     "text": [
      "[0 1 2 3 4 5 6 7 8 9]\n",
      "[[0 1 2 3 4]\n",
      " [5 6 7 8 9]]\n",
      "[[0 1]\n",
      " [2 3]\n",
      " [4 5]\n",
      " [6 7]\n",
      " [8 9]]\n",
      "[[0 1 2 3 4 5 6 7 8 9]]\n",
      "[[0]\n",
      " [1]\n",
      " [2]\n",
      " [3]\n",
      " [4]\n",
      " [5]\n",
      " [6]\n",
      " [7]\n",
      " [8]\n",
      " [9]]\n"
     ]
    }
   ],
   "source": [
    "# 데이터 값으로는 서로 동일하나 차원이 달라서 오류가 발생\n",
    "# 차원의 차수를 변환하여 오류 방지 (참조 : reshape)\n",
    "ar = np.arange(10) #  [0 1 2 3 4 5 6 7 8 9] 0부터 9까지 포함된 배열 생성\n",
    "ar1 = ar.reshape(2,5) # [0 1 2 3 4 5 6 7 8 9] 을 2행 5열의 2차원 배열로 변경\n",
    "ar2 = ar.reshape(5,2) # [0 1 2 3 4 5 6 7 8 9] 을 5행 2열의 2차원 배열로 변경\n",
    "ar3 = ar.reshape(1,10)\n",
    "ar4 = ar.reshape(-1,1) # -1을 쓰면 어떠한 배열이던지 행을 1행으로 설정해라 라는 의미.(나머지는 -1이 알아서 처리하는 것)\n",
    "print(ar)\n",
    "print(ar1)\n",
    "print(ar2)\n",
    "print(ar3)\n",
    "print(ar4)"
   ]
  },
  {
   "cell_type": "code",
   "execution_count": 40,
   "metadata": {},
   "outputs": [
    {
     "name": "stdout",
     "output_type": "stream",
     "text": [
      "array1:1차원, array2:2차원, array3:2차원\n"
     ]
    }
   ],
   "source": [
    "# Q. array1, array2, array3을 str.format을 사용해서 아래와 같은 출력 결과를 만드세요.\n",
    "# \"array1 : 1차원, array2 : 2차원, array3: 2차원\"\n",
    "\n",
    "print('array1:{0}차원, array2:{1}차원, array3:{2}차원'.format(array1.ndim, array2.ndim, array3.ndim))"
   ]
  },
  {
   "cell_type": "code",
   "execution_count": 43,
   "metadata": {},
   "outputs": [
    {
     "name": "stdout",
     "output_type": "stream",
     "text": [
      "<class 'list'>\n",
      "<class 'numpy.ndarray'>\n",
      "[1 2 3] int32\n"
     ]
    }
   ],
   "source": [
    "# ndarray 데이터 타입\n",
    "list1 = [1,2,3]\n",
    "print(type(list1))\n",
    "array1 = np.array(list1)\n",
    "print(type(array1))\n",
    "print(array1,array1.dtype)"
   ]
  },
  {
   "cell_type": "code",
   "execution_count": 47,
   "metadata": {},
   "outputs": [
    {
     "name": "stdout",
     "output_type": "stream",
     "text": [
      "['1' '2' 'test'] <U11\n",
      "[1. 2. 3.] float64\n"
     ]
    }
   ],
   "source": [
    "# 다른 데이터 유형이 섞여 있는 리스트를 ndarray로 변경하여\n",
    "# 데이터 크기가 더 큰 데이터 타입으로 형 변환을 일괄 적용\n",
    "# int 형이 유니코드 문자열 값으로, int형이 float64형으로 변환\n",
    "list2 = [1,2,'test']\n",
    "array2 = np.array(list2)\n",
    "print(array2, array2.dtype)\n",
    "\n",
    "list3 = [1,2,3.0]\n",
    "array3 = np.array(list3)\n",
    "print(array3, array3.dtype)"
   ]
  },
  {
   "cell_type": "code",
   "execution_count": 49,
   "metadata": {},
   "outputs": [
    {
     "name": "stdout",
     "output_type": "stream",
     "text": [
      "[1. 2. 3.] float64\n"
     ]
    }
   ],
   "source": [
    "#int 32 형을 float 64형으로 전환\n",
    "array_int = np.array([1,2,3]) # 여기선 int 형\n",
    "array_float = array_int.astype('float64') # float으로 형태 변환\n",
    "print(array_float, array_float.dtype)"
   ]
  },
  {
   "cell_type": "code",
   "execution_count": 51,
   "metadata": {},
   "outputs": [
    {
     "name": "stdout",
     "output_type": "stream",
     "text": [
      "[1 2 3] int32\n"
     ]
    }
   ],
   "source": [
    "#float 64형을 다시 int 32형으로 변환\n",
    "array_int1 = array_float.astype('int32') #astype으로 형변환('변환하고자하는 타입 명시')\n",
    "print(array_int1, array_int1.dtype) #출력하면 list로 출력되는걸 확인할 수 있음."
   ]
  },
  {
   "cell_type": "code",
   "execution_count": 53,
   "metadata": {},
   "outputs": [
    {
     "name": "stdout",
     "output_type": "stream",
     "text": [
      "[1 2 3] int32\n"
     ]
    }
   ],
   "source": [
    "# 데이터 형태 지정하기 (assinging Data Type) : np.array([xx, xx], dtype=np.Type)\n",
    "# 데이터 형태 확인하기 (checking Data Type) : object.dtype\n",
    "# 데이터 형태 변환하기 (converting Data Type) : object.astype(np.Type)\n",
    "array_float1 = np.array([1.1,2.1,3.1])\n",
    "array_int2 = array_float1.astype('int32')\n",
    "print(array_int2, array_int2.dtype) #원하는 형태와 자료형 확인 가능"
   ]
  },
  {
   "cell_type": "code",
   "execution_count": 59,
   "metadata": {},
   "outputs": [
    {
     "name": "stdout",
     "output_type": "stream",
     "text": [
      "[1.2 2.3 3. ] float64\n",
      "[1 2 3] int32\n"
     ]
    }
   ],
   "source": [
    "#Q. 정수와 실수로 구성된 list e = [1.2,2.3,3]을 numpy를 이용해서 실수형과 정수형으로 각각 출력하세요.\n",
    "e = [1.2,2.3,3]\n",
    "array_float2 = np.array(e)\n",
    "array_int3 = array_float2.astype('int32')\n",
    "print(array_float2, array_float2.dtype)\n",
    "print(array_int3, array_int3.dtype)"
   ]
  },
  {
   "cell_type": "code",
   "execution_count": 60,
   "metadata": {},
   "outputs": [
    {
     "name": "stdout",
     "output_type": "stream",
     "text": [
      "[0 1 2 3 4 5 6 7 8 9]\n",
      "int32 (10,)\n"
     ]
    }
   ],
   "source": [
    "#ndarray를 편리하게 생성하기 - arange,zeros,ones\n",
    "#arange\n",
    "sequence_array=np.arange(10)\n",
    "sequence_array\n",
    "print(sequence_array)\n",
    "print(sequence_array.dtype,sequence_array.shape)"
   ]
  },
  {
   "cell_type": "code",
   "execution_count": 69,
   "metadata": {},
   "outputs": [
    {
     "name": "stdout",
     "output_type": "stream",
     "text": [
      "[[0 0]\n",
      " [0 0]\n",
      " [0 0]]\n",
      "int32 (3, 2)\n"
     ]
    }
   ],
   "source": [
    "#zeros\n",
    "zero_array = np.zeros((3,2),dtype='int32') # float64 로 하면 0. 으로 .이 찍힌다.\n",
    "print(zero_array)\n",
    "print(zero_array.dtype,zero_array.shape)"
   ]
  },
  {
   "cell_type": "code",
   "execution_count": 75,
   "metadata": {},
   "outputs": [
    {
     "name": "stdout",
     "output_type": "stream",
     "text": [
      "[[1 1]\n",
      " [1 1]\n",
      " [1 1]]\n",
      "int32 (3, 2)\n"
     ]
    }
   ],
   "source": [
    "#ones\n",
    "one_array = np.ones((3,2), dtype='int32') #float64 로 명시하면 1. 으로 출력된다.\n",
    "print(one_array)\n",
    "print(one_array.dtype, one_array.shape)"
   ]
  },
  {
   "cell_type": "code",
   "execution_count": 77,
   "metadata": {},
   "outputs": [
    {
     "name": "stdout",
     "output_type": "stream",
     "text": [
      "array1:\n",
      " [0 1 2 3 4 5 6 7 8 9]\n",
      "\n",
      "array2:\n",
      " [[0 1 2 3 4]\n",
      " [5 6 7 8 9]]\n",
      "\n",
      "array3:\n",
      " [[0 1]\n",
      " [2 3]\n",
      " [4 5]\n",
      " [6 7]\n",
      " [8 9]]\n"
     ]
    }
   ],
   "source": [
    "#reshape()\n",
    "#ndarray의 차원과 크기를 변경하는 reshape()\n",
    "\n",
    "array1 = np.arange(10)\n",
    "print('array1:\\n',array1)\n",
    "print()\n",
    "array2 = array1.reshape(2,5)\n",
    "print('array2:\\n',array2)\n",
    "print()\n",
    "array3 = array2.reshape(5,2)\n",
    "print('array3:\\n',array3)"
   ]
  },
  {
   "cell_type": "code",
   "execution_count": 82,
   "metadata": {},
   "outputs": [
    {
     "name": "stdout",
     "output_type": "stream",
     "text": [
      "array_e1:\n",
      " [ 0  1  2  3  4  5  6  7  8  9 10 11 12 13 14 15 16 17 18 19 20]\n",
      "\n",
      "array_e2:\n",
      " [[ 0  1  2  3  4  5  6]\n",
      " [ 7  8  9 10 11 12 13]\n",
      " [14 15 16 17 18 19 20]]\n"
     ]
    }
   ],
   "source": [
    "#Q. arange() 함수를 이용, 20까지 연속된 ndarray를 만든 후 array_e1에 저장 후 출력하세요.\n",
    "#array_e1을 3행 7열로 만들어서 array_e2이름으로 출력하세요.\n",
    "\n",
    "array_e1 = np.arange(21)\n",
    "print('array_e1:\\n',array_e1)\n",
    "print()\n",
    "array_e2 = array_e1.reshape(3,7)\n",
    "print('array_e2:\\n',array_e2)"
   ]
  },
  {
   "cell_type": "code",
   "execution_count": 84,
   "metadata": {},
   "outputs": [
    {
     "name": "stdout",
     "output_type": "stream",
     "text": [
      "array_e3:\n",
      " [[ 0  1  2]\n",
      " [ 3  4  5]\n",
      " [ 6  7  8]\n",
      " [ 9 10 11]\n",
      " [12 13 14]\n",
      " [15 16 17]\n",
      " [18 19 20]]\n"
     ]
    }
   ],
   "source": [
    "#reshape()함수를 이용, array_e2를 7행 3열로 변환한 후 array_e3으로 저장 후 출력하세요\n",
    "array_e3 = array_e2.reshape(7,3)\n",
    "print('array_e3:\\n',array_e3)"
   ]
  },
  {
   "cell_type": "code",
   "execution_count": 86,
   "metadata": {},
   "outputs": [
    {
     "name": "stdout",
     "output_type": "stream",
     "text": [
      "[ 0  1  2  3  4  5  6  7  8  9 10 11 12 13 14 15 16 17 18 19 20 21 22 23\n",
      " 24 25 26 27 28 29]\n",
      "<class 'numpy.ndarray'>\n",
      "\n",
      "[[ 0  1  2  3  4  5  6  7  8  9 10 11 12 13 14]\n",
      " [15 16 17 18 19 20 21 22 23 24 25 26 27 28 29]]\n",
      "array2d:\n",
      " [[0, 1, 2, 3, 4, 5, 6, 7, 8, 9, 10, 11, 12, 13, 14], [15, 16, 17, 18, 19, 20, 21, 22, 23, 24, 25, 26, 27, 28, 29]]\n"
     ]
    }
   ],
   "source": [
    "#2차원 ndarray 만들기\n",
    "array1 = np.arange(30)\n",
    "print(array1)\n",
    "print(type(array1))\n",
    "print()\n",
    "array2d=array1.reshape(2,15)\n",
    "print(array2d)\n",
    "#2차원 ndarray를 list로 변환\n",
    "print('array2d:\\n',array2d.tolist()) #2차원 배열을 tolist로 변환해준다.(함수)"
   ]
  },
  {
   "cell_type": "code",
   "execution_count": 90,
   "metadata": {},
   "outputs": [
    {
     "name": "stdout",
     "output_type": "stream",
     "text": [
      "[[[ 0  1  2  3  4]\n",
      "  [ 5  6  7  8  9]]\n",
      "\n",
      " [[10 11 12 13 14]\n",
      "  [15 16 17 18 19]]\n",
      "\n",
      " [[20 21 22 23 24]\n",
      "  [25 26 27 28 29]]]\n",
      "\n",
      "[[[0, 1, 2, 3, 4], [5, 6, 7, 8, 9]], [[10, 11, 12, 13, 14], [15, 16, 17, 18, 19]], [[20, 21, 22, 23, 24], [25, 26, 27, 28, 29]]]\n"
     ]
    }
   ],
   "source": [
    "#Q. array1 을 3차원 ndarray로 변환 array3d에 저장 및 출력하고 리스트 형태로 변환해서 출력하시오\n",
    "array1 = np.arange(30)\n",
    "array3d = array1.reshape((3,2,5)) # 2, 5는 2행 5열이고 3은 깊이(겹)를 의미한다. (2행 5열 데이터가 3겹으로 존재)\n",
    "print(array3d)\n",
    "print()\n",
    "print(array3d.tolist())"
   ]
  },
  {
   "cell_type": "code",
   "execution_count": 94,
   "metadata": {},
   "outputs": [
    {
     "name": "stdout",
     "output_type": "stream",
     "text": [
      "[0 1 2 3 4 5 6 7 8 9]\n",
      "\n",
      "array2 shape: (10, 1)\n",
      "[[0]\n",
      " [1]\n",
      " [2]\n",
      " [3]\n",
      " [4]\n",
      " [5]\n",
      " [6]\n",
      " [7]\n",
      " [8]\n",
      " [9]]\n"
     ]
    }
   ],
   "source": [
    "#reshape(-1,1)\n",
    "#여러개의 로우를 가지되 반드시 1개의 칼럼을 가진 ndarray로 변환 보장\n",
    "#-1을 인자로 사용하여 원하는 shape로 변환\n",
    "array1 = np.arange(10)\n",
    "print(array1)\n",
    "print()\n",
    "array2 = array1.reshape(-1,1) #1개의 칼럼을 가진 ndarray로 변환.\n",
    "print('array2 shape:',array2.shape)\n",
    "print(array2)"
   ]
  },
  {
   "cell_type": "code",
   "execution_count": 99,
   "metadata": {},
   "outputs": [
    {
     "name": "stdout",
     "output_type": "stream",
     "text": [
      "[0 1 2 3 4 5 6 7 8 9]\n",
      "[[0]\n",
      " [1]\n",
      " [2]\n",
      " [3]\n",
      " [4]\n",
      " [5]\n",
      " [6]\n",
      " [7]\n",
      " [8]\n",
      " [9]]\n",
      "\n",
      "[[[0 1 2 3 4]\n",
      "  [5 6 7 8 9]]]\n",
      "\n",
      "[[0]\n",
      " [1]\n",
      " [2]\n",
      " [3]\n",
      " [4]\n",
      " [5]\n",
      " [6]\n",
      " [7]\n",
      " [8]\n",
      " [9]]\n"
     ]
    }
   ],
   "source": [
    "# reshape(-1,1)을 이용해 1차원을 2차원으로 3차원을 2차원으로 변환\n",
    "array1 = np.arange(10) #1차원을\n",
    "print(array1)\n",
    "array2a = array1.reshape(-1,1) #2차원으로\n",
    "print(array2a)\n",
    "print()\n",
    "array3d = array1.reshape((1,2,5)) #2차원을 3차원으로 괄호 2개 주의 (())\n",
    "print(array3d)\n",
    "print()\n",
    "array2b=array3d.reshape(-1,1) #3차원을 2차원으로\n",
    "print(array2b)"
   ]
  },
  {
   "cell_type": "code",
   "execution_count": 102,
   "metadata": {},
   "outputs": [
    {
     "name": "stdout",
     "output_type": "stream",
     "text": [
      "[[0 1]\n",
      " [2 3]\n",
      " [4 5]\n",
      " [6 7]\n",
      " [8 9]]\n"
     ]
    }
   ],
   "source": [
    "#Q. array1에 reshape()함수를 이용, \"array3 shape: (5,2)\"가 되도록 array3을 출력하세요\n",
    "array3 = array1.reshape(5,2)\n",
    "print(array3)"
   ]
  },
  {
   "cell_type": "code",
   "execution_count": 107,
   "metadata": {},
   "outputs": [
    {
     "name": "stdout",
     "output_type": "stream",
     "text": [
      "[[[0 1 2 3 4]\n",
      "  [5 6 7 8 9]]]\n",
      "[[0 1]\n",
      " [2 3]\n",
      " [4 5]\n",
      " [6 7]\n",
      " [8 9]] \n",
      " (5, 2)\n"
     ]
    }
   ],
   "source": [
    "#3차원 ndarray array3d를 2차원 ndarray로 변환해서 array5에 저장하고 list로 출력하세요.\n",
    "print(array3d)\n",
    "array5 = array3d.reshape(-1,2)\n",
    "print(array5, '\\n', array5.shape)"
   ]
  },
  {
   "cell_type": "code",
   "execution_count": 111,
   "metadata": {},
   "outputs": [
    {
     "name": "stdout",
     "output_type": "stream",
     "text": [
      "[[0 1 2 3 4]\n",
      " [5 6 7 8 9]]\n",
      "[[0, 1, 2, 3, 4], [5, 6, 7, 8, 9]]\n"
     ]
    }
   ],
   "source": [
    "#1차원 ndarray array1을 2차원 ndarray 변환해서 array6에 저장하고 list로 출력하세요.\n",
    "array6 = array1.reshape(-1,5)\n",
    "print(array6)\n",
    "print(array6.tolist())"
   ]
  },
  {
   "cell_type": "code",
   "execution_count": 131,
   "metadata": {},
   "outputs": [
    {
     "name": "stdout",
     "output_type": "stream",
     "text": [
      "array1: [1 2 3 4 5 6 7 8 9]\n"
     ]
    }
   ],
   "source": [
    "#ndarray의 데이트 세트 선택하기 - 인덱싱\n",
    "#배열 생성\n",
    "import numpy as np\n",
    "array1 = np.arange(start=1, stop=10) # 뽑아내고자 하는 범위 지정 가능(구체적 명시)\n",
    "print('array1:',array1)"
   ]
  },
  {
   "cell_type": "code",
   "execution_count": 132,
   "metadata": {},
   "outputs": [
    {
     "name": "stdout",
     "output_type": "stream",
     "text": [
      "value: 3\n",
      "<class 'numpy.int32'>\n",
      "\n",
      "맨 뒤 값 : 9\n"
     ]
    }
   ],
   "source": [
    "#array1에서 3과 9를 출력하세요.\n",
    "# index는 0부터 시작하므로 array1[2]는 3번째 index 위치의 데이터 값을 의미\n",
    "value = array1[2]\n",
    "print('value:',value)\n",
    "print(type(value))\n",
    "print()\n",
    "print('맨 뒤 값 :',array1[-1])"
   ]
  },
  {
   "cell_type": "code",
   "execution_count": 133,
   "metadata": {},
   "outputs": [
    {
     "name": "stdout",
     "output_type": "stream",
     "text": [
      "[1 2 3 4 5 6 7 8 9]\n",
      "맨 뒤에서 두 번째 값  8\n"
     ]
    }
   ],
   "source": [
    "#array1 에서 맨 뒤에서 두 번째 값을 출력\n",
    "print(array1)\n",
    "print('맨 뒤에서 두 번째 값 ', array1[-2])"
   ]
  },
  {
   "cell_type": "code",
   "execution_count": 135,
   "metadata": {},
   "outputs": [
    {
     "name": "stdout",
     "output_type": "stream",
     "text": [
      "[9 2 3 4 5 6 7 8 0]\n",
      "9 0\n",
      "[9 2 3 4 5 6 7 8 0]\n"
     ]
    }
   ],
   "source": [
    "#인덱스 이용해서 첫 번째와 아홉번째 값을 각각 9와 0으로 수정\n",
    "print(array1)\n",
    "array1[0] = 9\n",
    "array1[-1] = 0\n",
    "print(array1[0],array1[-1])\n",
    "print(array1)"
   ]
  },
  {
   "cell_type": "code",
   "execution_count": 137,
   "metadata": {},
   "outputs": [
    {
     "name": "stdout",
     "output_type": "stream",
     "text": [
      "[[1 2 3]\n",
      " [4 5 6]\n",
      " [7 8 9]]\n",
      "\n",
      "(row=0,col=0) index 가리키는 값: 1\n",
      "(row=0,col=1) index 가리키는 값: 2\n",
      "(row=1,col=0) index 가리키는 값: 4\n",
      "(row=2,col=2) index 가리키는 값: 9\n"
     ]
    }
   ],
   "source": [
    "#index 가리키는 값 구하기\n",
    "array1d = np.arange(start = 1, stop = 10)\n",
    "array2d = array1d.reshape(3,3)\n",
    "print(array2d)\n",
    "print()\n",
    "print('(row=0,col=0) index 가리키는 값:',array2d[0,0])\n",
    "print('(row=0,col=1) index 가리키는 값:',array2d[0,1])\n",
    "print('(row=1,col=0) index 가리키는 값:',array2d[1,0])\n",
    "print('(row=2,col=2) index 가리키는 값:',array2d[2,2])"
   ]
  },
  {
   "cell_type": "code",
   "execution_count": 139,
   "metadata": {},
   "outputs": [
    {
     "name": "stdout",
     "output_type": "stream",
     "text": [
      "[1 2 3 4 5 6 7 8 9]\n",
      "\n",
      "[1 2 3]\n",
      "<class 'numpy.ndarray'>\n"
     ]
    }
   ],
   "source": [
    "# slicing\n",
    "array1 = np.arange(start=1, stop=10)\n",
    "print(array1)\n",
    "print()\n",
    "array3 = array1[0:3] #0번부터 3-1번 방까지 추출\n",
    "print(array3)\n",
    "print(type(array3))"
   ]
  },
  {
   "cell_type": "code",
   "execution_count": 156,
   "metadata": {},
   "outputs": [
    {
     "name": "stdout",
     "output_type": "stream",
     "text": [
      "[1 2 3]\n",
      "[4 5 6 7 8 9]\n",
      "[1 2 3 4 5 6 7 8 9]\n"
     ]
    }
   ],
   "source": [
    "# array1에서 슬라이싱(':')을 사용해서 아래와 같이 출력하세요.\n",
    "# [1 2 3]\n",
    "# [4 5 6 7 8 9]\n",
    "# [1 2 3 4 5 6 7 8 9]\n",
    "\n",
    "print(array1[:3])\n",
    "print(array1[3:])\n",
    "print(array1[:])"
   ]
  },
  {
   "cell_type": "code",
   "execution_count": null,
   "metadata": {},
   "outputs": [],
   "source": [
    "#2차원 배열 생성\n",
    "print(array2d)"
   ]
  },
  {
   "cell_type": "code",
   "execution_count": null,
   "metadata": {},
   "outputs": [],
   "source": [
    "# array2d 에서 슬라이싱을 사용해서 아래와 같이 출력하세요\n",
    "#  [[1 2]\n",
    "#   [4 5]]\n",
    "\n",
    "# (2가지 방법)\n",
    "\n",
    "# [[4 5 6]\n",
    "#  [7 8 9]]\n",
    "\n",
    "# [[1 2 3]\n",
    "#  [4 5 6]\n",
    "#  [7 8 9]]\n",
    "\n",
    "# [[2 3]\n",
    "#  [5 6]]"
   ]
  },
  {
   "cell_type": "code",
   "execution_count": 196,
   "metadata": {},
   "outputs": [
    {
     "name": "stdout",
     "output_type": "stream",
     "text": [
      "[[1 2]\n",
      " [4 5]] 12 45\n",
      "[[4 5 6]\n",
      " [7 8 9]] 456 789\n",
      "[[1 2 3]\n",
      " [4 5 6]\n",
      " [7 8 9]] 123 456 789\n",
      "[[2 3]\n",
      " [5 6]] 23 56\n"
     ]
    }
   ],
   "source": [
    "a1 = array2d[:2,:2]\n",
    "print(a1,'12 45')\n",
    "a2 = array2d[1:3,:3]\n",
    "print(a2, '456 789')\n",
    "a3 = array2d[:3,:3]\n",
    "print(a3,'123 456 789')\n",
    "a4 = array2d[:2,1:]\n",
    "print(a4, '23 56')"
   ]
  },
  {
   "cell_type": "code",
   "execution_count": 198,
   "metadata": {},
   "outputs": [
    {
     "name": "stdout",
     "output_type": "stream",
     "text": [
      "[1 2 3]\n",
      "\n",
      "[4 5 6]\n",
      "\n",
      "array2d[0] shape: (3,) array2d[1] shape: (3,)\n"
     ]
    }
   ],
   "source": [
    "# 행 선택\n",
    "print(array2d[0]) # 0번행 전체선택\n",
    "print()\n",
    "print(array2d[1]) # 1번행 전체선택\n",
    "print()\n",
    "print('array2d[0] shape:',array2d[0].shape, 'array2d[1] shape:', array2d[1].shape)"
   ]
  },
  {
   "cell_type": "code",
   "execution_count": 201,
   "metadata": {},
   "outputs": [
    {
     "name": "stdout",
     "output_type": "stream",
     "text": [
      "[[1 2 3]\n",
      " [4 5 6]\n",
      " [7 8 9]]\n"
     ]
    }
   ],
   "source": [
    "#2차원 배열 생성\n",
    "array1d = np.arange(start=1, stop =10)\n",
    "array2d = array1d.reshape(3,3)\n",
    "print(array2d)"
   ]
  },
  {
   "cell_type": "markdown",
   "metadata": {},
   "source": [
    "# Q.array2d에서 인덱스를 이용해서 값을 선택하고 리스트로 아래와 같이 출력하세요.\n",
    "array2d[[0,1],2] => [3,6]\n",
    "\n",
    "array2d[[0,1],0:2] =>[[1,2],[4,5]]\n",
    "\n",
    "array2d[[0,1]] =>[[1,2,3],[4,5,6]]"
   ]
  },
  {
   "cell_type": "code",
   "execution_count": 213,
   "metadata": {},
   "outputs": [
    {
     "name": "stdout",
     "output_type": "stream",
     "text": [
      "[3, 6] \n",
      "\n",
      "[[1, 2], [4, 5]] \n",
      "\n",
      "[[1, 2, 3], [4, 5, 6]] \n",
      "\n"
     ]
    }
   ],
   "source": [
    "print(array2d[[0,1],2].tolist(),'\\n')\n",
    "print(array2d[[0,1],0:2].tolist(),'\\n')\n",
    "print(array2d[[0,1]].tolist(),'\\n')"
   ]
  },
  {
   "cell_type": "code",
   "execution_count": 215,
   "metadata": {
    "scrolled": true
   },
   "outputs": [
    {
     "name": "stdout",
     "output_type": "stream",
     "text": [
      "[1 2 3 4 5 6 7 8 9]\n",
      "\n",
      "array1d > 5 불린 인덱싱 결과 값 [6 7 8 9]\n",
      "[False False False False False  True  True  True  True]\n"
     ]
    }
   ],
   "source": [
    "# Boolean indexing\n",
    "array1d = np.arange(start =1, stop=10)\n",
    "print(array1d)\n",
    "print()\n",
    "# [] 안에 array1d > 5 Boolean indexing 을 적용\n",
    "array3 = array1d[array1d > 5]\n",
    "print('array1d > 5 불린 인덱싱 결과 값', array3)\n",
    "print(array1d>5)"
   ]
  },
  {
   "cell_type": "code",
   "execution_count": 218,
   "metadata": {},
   "outputs": [
    {
     "name": "stdout",
     "output_type": "stream",
     "text": [
      "[1 2 3 4 5 6 7 8 9]\n",
      "불린 인덱스로 필터링 결과 :  [6 7 8 9]\n"
     ]
    }
   ],
   "source": [
    "# Boolean indexing 으로 필터링\n",
    "print(array1d)\n",
    "boolean_indexes = np.array([False, False, False, False, False, True, True, True, True])\n",
    "array3 = array1d[boolean_indexes]\n",
    "print('불린 인덱스로 필터링 결과 : ', array3)"
   ]
  },
  {
   "cell_type": "code",
   "execution_count": 225,
   "metadata": {},
   "outputs": [
    {
     "name": "stdout",
     "output_type": "stream",
     "text": [
      "[ 1  2  3  4  5  6  7  8  9 10 11 12 13 14]\n",
      "[11 12 13 14]\n"
     ]
    }
   ],
   "source": [
    "# Q. 1~14 까지 ndarray를 만들어 array_e로 저장하고 (array_e/2) >5를 만족하는 값을 불린인덱스로 출력하세요\n",
    "array_e = np.arange(start=1,stop=15)\n",
    "print(array_e)\n",
    "array_e1 = array_e[(array_e/2)>5]\n",
    "print(array_e1)"
   ]
  },
  {
   "cell_type": "code",
   "execution_count": 228,
   "metadata": {},
   "outputs": [
    {
     "name": "stdout",
     "output_type": "stream",
     "text": [
      "[6 7 8 9]\n"
     ]
    }
   ],
   "source": [
    "array1d = np.arange(start=1, stop=10)\n",
    "#array1d 에서 일반 인덱스를 이용, [6 7 8 9] 출력\n",
    "indexes = np.array([5,6,7,8])\n",
    "array_e2 = array1d[indexes]\n",
    "print(array_e2)"
   ]
  },
  {
   "cell_type": "code",
   "execution_count": 230,
   "metadata": {},
   "outputs": [
    {
     "name": "stdout",
     "output_type": "stream",
     "text": [
      "원본 행렬: [3 1 9 5]\n",
      "np.sort() 호출 후 반환된 정렬 행렬: [1 3 5 9]\n",
      "np.sort() 호출 후 원본 행렬 [3 1 9 5]\n"
     ]
    }
   ],
   "source": [
    "#np sort()는 원본 행렬을 변경하지 않고 정렬된 형태로 반환하며 ndarray.sort()는 원본 행렬 자체를 변환\n",
    "#np.sort()로 정렬\n",
    "org_array = np.array([3,1,9,5])\n",
    "print('원본 행렬:',org_array)\n",
    "#numpy에서 sort호출. np.sort()로 정렬\n",
    "sort_array1 = np.sort(org_array)\n",
    "print('np.sort() 호출 후 반환된 정렬 행렬:',sort_array1)\n",
    "print('np.sort() 호출 후 원본 행렬', org_array) #sort해서 반환하지만 원본행렬은 고정되어있다."
   ]
  },
  {
   "cell_type": "code",
   "execution_count": 232,
   "metadata": {},
   "outputs": [
    {
     "name": "stdout",
     "output_type": "stream",
     "text": [
      "org_array.sort() 호출 후 원본 행렬 [1 3 5 9]\n",
      "<class 'numpy.ndarray'>\n"
     ]
    }
   ],
   "source": [
    "# ndarray.sort()로 정렬\n",
    "org_array = np.array([3,1,9,5])\n",
    "org_array.sort() #이 방법은 원본 행렬을 변경하는 방법\n",
    "print('org_array.sort() 호출 후 원본 행렬',org_array)\n",
    "print(type(org_array))"
   ]
  },
  {
   "cell_type": "code",
   "execution_count": 234,
   "metadata": {},
   "outputs": [
    {
     "name": "stdout",
     "output_type": "stream",
     "text": [
      "[1 3 5 9]\n",
      "내림차순으로 정렬: [9 5 3 1]\n"
     ]
    }
   ],
   "source": [
    "#내림차순 정렬(기본은 오름차순 정렬)\n",
    "print(np.sort(org_array))\n",
    "sort_array1_desc = np.sort(org_array)[::-1]\n",
    "print('내림차순으로 정렬:',sort_array1_desc)"
   ]
  },
  {
   "cell_type": "code",
   "execution_count": 236,
   "metadata": {},
   "outputs": [
    {
     "name": "stdout",
     "output_type": "stream",
     "text": [
      "로우 방향으로 정렬:\n",
      " [[ 7  1]\n",
      " [ 8 12]]\n",
      "컬럼 방향으로 정렬:\n",
      " [[ 8 12]\n",
      " [ 1  7]]\n"
     ]
    }
   ],
   "source": [
    "# 행렬이 2차원 이상일 경우 axis 축 값 설정을 통해 로우 방향, 컬럼방향으로 정렬 수행\n",
    "array2d = np.array([[8,12],\n",
    "                   [7,1]])\n",
    "\n",
    "sort_array2d_axis0 = np.sort(array2d, axis =0) # 0 은 row방향으로 sort \n",
    "print('로우 방향으로 정렬:\\n', sort_array2d_axis0)\n",
    "\n",
    "sort_array2d_axis1 = np.sort(array2d, axis=1) # 1은 coloumn 방향으로 sort\n",
    "print('컬럼 방향으로 정렬:\\n',sort_array2d_axis1)"
   ]
  },
  {
   "cell_type": "code",
   "execution_count": 237,
   "metadata": {},
   "outputs": [
    {
     "name": "stdout",
     "output_type": "stream",
     "text": [
      "[3 1 9 5]\n",
      "<class 'numpy.ndarray'>\n",
      "행렬 정렬 시 원본 행렬의 인덱스: [1 0 3 2]\n"
     ]
    }
   ],
   "source": [
    "#정렬된 행렬의 인덱스 반환 : 기존 원본 행렬의 원소에 대한 인덱스를 필요로 할 때\n",
    "# np.argsort()를 이용\n",
    "org_array = np.array([3,1,9,5]) # 1 3 5 9 배열의 각 인덱스 번호를 반환함\n",
    "sort_indices = np.argsort(org_array)\n",
    "print(org_array)\n",
    "print(type(sort_indices))\n",
    "print('행렬 정렬 시 원본 행렬의 인덱스:',sort_indices) # 3의 인덱스는 1, 1의 인덱스는 0, 9의 인덱스는 3, 5의 인덱스는 2로 반환"
   ]
  },
  {
   "cell_type": "code",
   "execution_count": 239,
   "metadata": {},
   "outputs": [
    {
     "name": "stdout",
     "output_type": "stream",
     "text": [
      "행렬 내림차순 정렬 시 원본 행렬의 인덱스: [2 3 0 1]\n"
     ]
    }
   ],
   "source": [
    "#내림차순 정렬 시 원본 행렬의 인덱스\n",
    "org_array = np.array([3,1,9,5])\n",
    "sort_indices_desc = np.argsort(org_array)[::-1]\n",
    "print('행렬 내림차순 정렬 시 원본 행렬의 인덱스:',sort_indices_desc) # [::-1]로 [1 0 3 2]의 역순으로 지정"
   ]
  },
  {
   "cell_type": "markdown",
   "metadata": {},
   "source": [
    "### 행렬 내적(행렬 곱)\n",
    " - 행렬 내적은 행렬 곱이며 두 행렬 A 와 B의 내적은 np.dot()을 이용해 계산이 가능\n",
    " - 행렬 내적의 특성으로 왼쪽 행렬의 열개수와 오른쪽 행렬의 행개수가 동일해야 내적 연산 가능"
   ]
  },
  {
   "cell_type": "code",
   "execution_count": 254,
   "metadata": {},
   "outputs": [
    {
     "name": "stdout",
     "output_type": "stream",
     "text": [
      "행렬 내적결과:\n",
      " [[ 58  64]\n",
      " [139 154]]\n"
     ]
    }
   ],
   "source": [
    "# 행렬 내적은 행렬 곱이며 두 행렬 A와 B의 내적은 np.dot()을 이용해 계산이 가능\n",
    "A = np.array([[1,2,3],\n",
    "             [4,5,6]])\n",
    "B = np.array([[7,8],\n",
    "             [9,10],\n",
    "             [11,12]])\n",
    "\n",
    "dot_product = np.dot(A,B)\n",
    "print('행렬 내적결과:\\n', dot_product)"
   ]
  },
  {
   "cell_type": "markdown",
   "metadata": {},
   "source": [
    "### Q. 아래 두 행렬을 np.arange, reshape를 이용해서 생성 각각 a1, b1으로 저장하고 행렬 내적을 계산한 결과를 출력\n",
    "[[1 2 3]]\n",
    "[4 5 6]]\n",
    "\n",
    "[[10 11]\n",
    "[12 13]\n",
    "[14 15]]"
   ]
  },
  {
   "cell_type": "code",
   "execution_count": 253,
   "metadata": {},
   "outputs": [
    {
     "name": "stdout",
     "output_type": "stream",
     "text": [
      "[[1 2 3]\n",
      " [4 5 6]]\n",
      "[[10 11]\n",
      " [12 13]\n",
      " [14 15]] \n",
      "\n",
      "[[ 76  82]\n",
      " [184 199]]\n"
     ]
    }
   ],
   "source": [
    "a = np.arange(start=1, stop=7)\n",
    "a1 = a.reshape(2,3)\n",
    "print(a1)\n",
    "\n",
    "b = np.arange(start=10, stop=16)\n",
    "b1 = b.reshape(3,2)\n",
    "print(b1,'\\n')\n",
    "\n",
    "dot_p = np.dot(a1,b1)\n",
    "print(dot_p)"
   ]
  }
 ],
 "metadata": {
  "kernelspec": {
   "display_name": "Python 3",
   "language": "python",
   "name": "python3"
  },
  "language_info": {
   "codemirror_mode": {
    "name": "ipython",
    "version": 3
   },
   "file_extension": ".py",
   "mimetype": "text/x-python",
   "name": "python",
   "nbconvert_exporter": "python",
   "pygments_lexer": "ipython3",
   "version": "3.7.6"
  }
 },
 "nbformat": 4,
 "nbformat_minor": 4
}
