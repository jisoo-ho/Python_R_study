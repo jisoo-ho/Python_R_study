{
 "cells": [
  {
   "cell_type": "markdown",
   "metadata": {},
   "source": [
    "#### Q. 파이썬 외장함수 random을 이용하여 아래사항들을 출력하세요.\n",
    "- 0.0<= x <1.0 사이의 float를 랜덤하게 선택\n",
    "- 10에서 20사이의 정수중에서 난수값 선택\n",
    "- 10보다 적은 int 선택\n",
    "- 20과 30사이의 float 선택\n",
    "- [6,7,8,9,10 ]리스트 내부에 있는 요소를 랜덤하게 선택\n",
    "- [6,7,8,9,10 ]리스트 내부에 있는 요소중 k개 선택"
   ]
  },
  {
   "cell_type": "code",
   "execution_count": 245,
   "metadata": {},
   "outputs": [
    {
     "name": "stdout",
     "output_type": "stream",
     "text": [
      "1번: 0.2565805322708937 \n",
      "\n",
      "2번: 11 \n",
      "\n",
      "3번: 3 \n",
      "\n",
      "4번: 25.624895181615326 \n",
      "\n",
      "5번: 7 \n",
      "\n",
      "6번: [8, 7]\n"
     ]
    }
   ],
   "source": [
    "import numpy as np\n",
    "import random\n",
    "print('1번:',np.random.random(),'\\n')\n",
    "print('2번:',np.random.randint(10,20),'\\n')\n",
    "print('3번:',np.random.randint(10),'\\n')\n",
    "print('4번:',np.random.uniform(20,30),'\\n')\n",
    "print('5번:',np.random.choice([6,7,8,9,10]),'\\n')\n",
    "print('6번:',random.sample([6,7,8,9,10], k=2))"
   ]
  },
  {
   "cell_type": "markdown",
   "metadata": {},
   "source": [
    "#### Q. 주어진 데이터에서 랜덤으로 하나를 선택하여 꺼낸 다음 그 값을 출력하고 꺼내진 요소를 제외시킨 리스트를 출력하세요.\n",
    "data = [1,2,3,4,5,6,7,8,9,10]"
   ]
  },
  {
   "cell_type": "code",
   "execution_count": 307,
   "metadata": {},
   "outputs": [
    {
     "name": "stdout",
     "output_type": "stream",
     "text": [
      "[7]\n",
      "[1, 2, 3, 4, 5, 6, 8, 9, 10]\n"
     ]
    }
   ],
   "source": [
    "data=[1,2,3,4,5,6,7,8,9,10]\n",
    "a=random.sample(data,1)\n",
    "data.pop(a[0]-1)\n",
    "print(a)\n",
    "print(data)"
   ]
  },
  {
   "cell_type": "markdown",
   "metadata": {},
   "source": [
    "#### Q. 넘파이 random을 이용하여 아래사항들을 출력하세요.\n",
    "- 0부터 10까지 랜덤한 숫자 1개\n",
    "- 0부터 1사이의 균일분포에서 난수 5개로 구성되는 배열 생성\n",
    "- 평균 0, 표준편차 1의 가우시안 표준정규분포에서 난수 10개로 구성되는 배열 생성"
   ]
  },
  {
   "cell_type": "code",
   "execution_count": 292,
   "metadata": {},
   "outputs": [
    {
     "name": "stdout",
     "output_type": "stream",
     "text": [
      "4 \n",
      "\n",
      "[0.31677831 0.7085898  0.27837204 0.29120448 0.20174668] \n",
      "\n",
      "[ 0.78260238  1.10170741  1.10464916 -1.44462106  0.11795487 -0.27347831\n",
      "  0.74438337 -0.66683385 -0.41145149  0.48308483] \n",
      "\n"
     ]
    }
   ],
   "source": [
    "mt = np.random.randint(11)\n",
    "print(mt,'\\n')\n",
    "mt1 = np.random.random_sample((5))\n",
    "print(mt1,'\\n')\n",
    "mt2 = np.random.randn(10)\n",
    "print(mt2,'\\n')"
   ]
  },
  {
   "cell_type": "markdown",
   "metadata": {},
   "source": [
    "#### Q. 넘파이 random을 이용하여 아래사항들을 출력하세요.\n",
    "- [6,7,8,9,10] 리스트의 데이터의 순서 바꾸기"
   ]
  },
  {
   "cell_type": "code",
   "execution_count": 315,
   "metadata": {},
   "outputs": [
    {
     "name": "stdout",
     "output_type": "stream",
     "text": [
      "[7, 6, 8, 9, 10]\n"
     ]
    }
   ],
   "source": [
    "data=[6,7,8,9,10]\n",
    "np.random.shuffle(data)\n",
    "print(data)"
   ]
  },
  {
   "cell_type": "markdown",
   "metadata": {},
   "source": [
    "#### Q. 넘파이 random을 이용하여 아래사항들을 출력하세요.\n",
    "- 10보다 적은 정수에서 랜덤으로 중복되지 않게 5개를 선택 배열을 생성하세요.\n",
    "- c1 = [6,7,8,9,10] 배열에서 랜덤으로 중복 선택이 가능하게 5개를 선택, 배열을 생성하세요."
   ]
  },
  {
   "cell_type": "code",
   "execution_count": 193,
   "metadata": {},
   "outputs": [
    {
     "name": "stdout",
     "output_type": "stream",
     "text": [
      "[1 4 9]\n"
     ]
    }
   ],
   "source": [
    "print(np.unique(np.random.randint(10,size=5)))\n",
    "\n",
    "c1 = [6,7,8,9,10]\n",
    "np.random.uniform(1.0,2.0,3)"
   ]
  },
  {
   "cell_type": "markdown",
   "metadata": {},
   "source": [
    "#### Q. 넘파이 random을 이용하여 2.0보다 크거나 3.0보다 작은 5개의 수를 출력하세요."
   ]
  },
  {
   "cell_type": "code",
   "execution_count": 87,
   "metadata": {},
   "outputs": [
    {
     "data": {
      "text/plain": [
       "array([2.29188497, 2.61209537, 2.40158853, 2.12068986, 2.40264139])"
      ]
     },
     "execution_count": 87,
     "metadata": {},
     "output_type": "execute_result"
    }
   ],
   "source": [
    "np.random.uniform(2.0,3.0,(5))"
   ]
  },
  {
   "cell_type": "markdown",
   "metadata": {},
   "source": [
    "#### Q. 넘파이 random을 이용하여 0.0보다 크거나 1.0보다 작은 (3,3) 2차원 배열을 2가지 방식으로 출력하세요."
   ]
  },
  {
   "cell_type": "code",
   "execution_count": 88,
   "metadata": {},
   "outputs": [
    {
     "name": "stdout",
     "output_type": "stream",
     "text": [
      "[[0.91779555 0.70609815 0.29320934]\n",
      " [0.06213848 0.2696996  0.26742887]\n",
      " [0.43619    0.36763864 0.46118858]]\n",
      "[[0.8442785  0.6569465  0.33267956]\n",
      " [0.60673906 0.8239907  0.77907075]\n",
      " [0.28927334 0.30360456 0.25744469]]\n"
     ]
    }
   ],
   "source": [
    "#0.0보다 크거나 1.0보다 작은 (3행3열) 2차원 배열을 구하는것\n",
    "mt1 = np.random.uniform(0.0,1.0,(3,3))\n",
    "mt2 = np.random.random_sample((3,3))\n",
    "print(mt1)\n",
    "print(mt2)"
   ]
  },
  {
   "cell_type": "markdown",
   "metadata": {},
   "source": [
    "#### Q. 앞(head) 또는 뒤(tail) (n=1) 가 나올 확률이 각각 50%(p=0.5)인 동전 던지기를 20번(size=20) 수행한 결과를 배열로 출력하세요."
   ]
  },
  {
   "cell_type": "code",
   "execution_count": 309,
   "metadata": {},
   "outputs": [
    {
     "name": "stdout",
     "output_type": "stream",
     "text": [
      "[1 0 1 0 0 1 0 0 0 0 1 0 1 1 0 0 1 1 1 0]\n"
     ]
    }
   ],
   "source": [
    "print(np.random.binomial(n=1, p=0.5, size=20))"
   ]
  },
  {
   "cell_type": "markdown",
   "metadata": {},
   "source": [
    "#### Q. (2,3,4) 3차원 배열 형태로 정규분포(np.random.normal)로 부터 무작위 샘플을 생성"
   ]
  },
  {
   "cell_type": "code",
   "execution_count": 318,
   "metadata": {},
   "outputs": [
    {
     "name": "stdout",
     "output_type": "stream",
     "text": [
      "[[[ 0.28971829 -1.25384296  1.26056299  0.79092547]\n",
      "  [-0.41669301  1.69253612 -1.25453861  0.89229081]\n",
      "  [-2.59002672  1.15963261  0.0500079  -2.35456797]]\n",
      "\n",
      " [[-0.2734168  -0.32503505  0.77715786 -0.53718658]\n",
      "  [ 0.19606081 -0.25823293  1.30422557 -1.55502766]\n",
      "  [-0.43945161  0.24400828 -1.54123101  0.15733154]]]\n"
     ]
    }
   ],
   "source": [
    "print(np.random.normal(size=(2,3,4)))"
   ]
  },
  {
   "cell_type": "markdown",
   "metadata": {},
   "source": [
    "#### Q. [4 7 7 1 9]에서 중복되지 않는 원소 배열과 각 원소의 중복 개수 배열을 출력하세요."
   ]
  },
  {
   "cell_type": "code",
   "execution_count": 322,
   "metadata": {},
   "outputs": [
    {
     "name": "stdout",
     "output_type": "stream",
     "text": [
      "[1 4 7 9]\n",
      "[1 1 2 1]\n"
     ]
    }
   ],
   "source": [
    "a = np.array([4,7,7,1,9])\n",
    "index,count=np.unique(a,return_counts=True)\n",
    "print(index)\n",
    "print(count)"
   ]
  },
  {
   "cell_type": "markdown",
   "metadata": {},
   "source": [
    "#### Q. [1, 1, 2, 2, 2, 3]에서 0 ~ 5에 해당하는 정수의 개수 배열을 출력하세요."
   ]
  },
  {
   "cell_type": "code",
   "execution_count": 335,
   "metadata": {},
   "outputs": [
    {
     "name": "stdout",
     "output_type": "stream",
     "text": [
      "[0 2 3 1 0 0]\n"
     ]
    }
   ],
   "source": [
    "print(np.bincount([1,1,2,2,2,3], minlength=6))"
   ]
  },
  {
   "cell_type": "markdown",
   "metadata": {},
   "source": [
    "#### Q(응용) 'ID', 'Prod', 'Price' 3개의 column과 10개의 row으로 구성되는 데이터셋을 아래를 참조하여 생성하세요.\n",
    "- ID는 1 ~ 10으로 적용\n",
    "- Prod는 상품코드로서 np.random을 이용하여 10보다 적은 정수를 랜덤하게 선택\n",
    "- Price는 가격으로서 np.random을 이용하여 1000 보다 적은 양의 소수를 랜덤하게 선택 (뽑은거 * 1000하면 됨)\n",
    "- 3개의 컬럼을 결합하는 방법은 concat() 함수를 사용 (Series로 해도 된다) (df로 만들고 series를 덧붙이는 방법 등)"
   ]
  },
  {
   "cell_type": "code",
   "execution_count": 336,
   "metadata": {},
   "outputs": [
    {
     "data": {
      "text/html": [
       "<div>\n",
       "<style scoped>\n",
       "    .dataframe tbody tr th:only-of-type {\n",
       "        vertical-align: middle;\n",
       "    }\n",
       "\n",
       "    .dataframe tbody tr th {\n",
       "        vertical-align: top;\n",
       "    }\n",
       "\n",
       "    .dataframe thead th {\n",
       "        text-align: right;\n",
       "    }\n",
       "</style>\n",
       "<table border=\"1\" class=\"dataframe\">\n",
       "  <thead>\n",
       "    <tr style=\"text-align: right;\">\n",
       "      <th></th>\n",
       "      <th>Freq</th>\n",
       "      <th>Prod</th>\n",
       "      <th>Price</th>\n",
       "      <th>Amount</th>\n",
       "      <th>Sex</th>\n",
       "      <th>Region</th>\n",
       "      <th>ID</th>\n",
       "      <th>time</th>\n",
       "    </tr>\n",
       "  </thead>\n",
       "  <tbody>\n",
       "    <tr>\n",
       "      <th>0</th>\n",
       "      <td>17</td>\n",
       "      <td>7</td>\n",
       "      <td>384.320323</td>\n",
       "      <td>1487.854249</td>\n",
       "      <td>Woman</td>\n",
       "      <td>Daegu</td>\n",
       "      <td>10</td>\n",
       "      <td>2020-03-16 18:13:03.254451</td>\n",
       "    </tr>\n",
       "    <tr>\n",
       "      <th>1</th>\n",
       "      <td>16</td>\n",
       "      <td>4</td>\n",
       "      <td>825.042776</td>\n",
       "      <td>8321.487882</td>\n",
       "      <td>Woman</td>\n",
       "      <td>Mokpo</td>\n",
       "      <td>4</td>\n",
       "      <td>2020-03-16 18:13:03.254451</td>\n",
       "    </tr>\n",
       "    <tr>\n",
       "      <th>2</th>\n",
       "      <td>19</td>\n",
       "      <td>7</td>\n",
       "      <td>722.973158</td>\n",
       "      <td>9401.722171</td>\n",
       "      <td>Man</td>\n",
       "      <td>Daegu</td>\n",
       "      <td>13</td>\n",
       "      <td>2020-03-16 18:13:03.254451</td>\n",
       "    </tr>\n",
       "    <tr>\n",
       "      <th>3</th>\n",
       "      <td>4</td>\n",
       "      <td>3</td>\n",
       "      <td>294.938088</td>\n",
       "      <td>2920.488268</td>\n",
       "      <td>Woman</td>\n",
       "      <td>Changwon</td>\n",
       "      <td>6</td>\n",
       "      <td>2020-03-16 18:13:03.254451</td>\n",
       "    </tr>\n",
       "    <tr>\n",
       "      <th>4</th>\n",
       "      <td>8</td>\n",
       "      <td>2</td>\n",
       "      <td>813.653715</td>\n",
       "      <td>215.534590</td>\n",
       "      <td>Man</td>\n",
       "      <td>Gangwon</td>\n",
       "      <td>11</td>\n",
       "      <td>2020-03-16 18:13:03.254451</td>\n",
       "    </tr>\n",
       "    <tr>\n",
       "      <th>5</th>\n",
       "      <td>19</td>\n",
       "      <td>3</td>\n",
       "      <td>171.034324</td>\n",
       "      <td>8169.096889</td>\n",
       "      <td>Woman</td>\n",
       "      <td>Gangwon</td>\n",
       "      <td>1</td>\n",
       "      <td>2020-03-16 18:13:03.254451</td>\n",
       "    </tr>\n",
       "    <tr>\n",
       "      <th>6</th>\n",
       "      <td>18</td>\n",
       "      <td>2</td>\n",
       "      <td>837.204970</td>\n",
       "      <td>7394.767991</td>\n",
       "      <td>Woman</td>\n",
       "      <td>Daegu</td>\n",
       "      <td>14</td>\n",
       "      <td>2020-03-16 18:13:03.254451</td>\n",
       "    </tr>\n",
       "    <tr>\n",
       "      <th>7</th>\n",
       "      <td>3</td>\n",
       "      <td>2</td>\n",
       "      <td>612.606588</td>\n",
       "      <td>925.849913</td>\n",
       "      <td>Woman</td>\n",
       "      <td>Daegu</td>\n",
       "      <td>8</td>\n",
       "      <td>2020-03-16 18:13:03.254451</td>\n",
       "    </tr>\n",
       "    <tr>\n",
       "      <th>8</th>\n",
       "      <td>7</td>\n",
       "      <td>6</td>\n",
       "      <td>349.314482</td>\n",
       "      <td>3721.022476</td>\n",
       "      <td>Man</td>\n",
       "      <td>Daejeon</td>\n",
       "      <td>7</td>\n",
       "      <td>2020-03-16 18:13:03.254451</td>\n",
       "    </tr>\n",
       "    <tr>\n",
       "      <th>9</th>\n",
       "      <td>12</td>\n",
       "      <td>1</td>\n",
       "      <td>14.947452</td>\n",
       "      <td>729.567155</td>\n",
       "      <td>Woman</td>\n",
       "      <td>Busan</td>\n",
       "      <td>5</td>\n",
       "      <td>2020-03-16 18:13:03.254451</td>\n",
       "    </tr>\n",
       "  </tbody>\n",
       "</table>\n",
       "</div>"
      ],
      "text/plain": [
       "   Freq  Prod       Price       Amount    Sex    Region  ID  \\\n",
       "0    17     7  384.320323  1487.854249  Woman     Daegu  10   \n",
       "1    16     4  825.042776  8321.487882  Woman     Mokpo   4   \n",
       "2    19     7  722.973158  9401.722171    Man     Daegu  13   \n",
       "3     4     3  294.938088  2920.488268  Woman  Changwon   6   \n",
       "4     8     2  813.653715   215.534590    Man   Gangwon  11   \n",
       "5    19     3  171.034324  8169.096889  Woman   Gangwon   1   \n",
       "6    18     2  837.204970  7394.767991  Woman     Daegu  14   \n",
       "7     3     2  612.606588   925.849913  Woman     Daegu   8   \n",
       "8     7     6  349.314482  3721.022476    Man   Daejeon   7   \n",
       "9    12     1   14.947452   729.567155  Woman     Busan   5   \n",
       "\n",
       "                        time  \n",
       "0 2020-03-16 18:13:03.254451  \n",
       "1 2020-03-16 18:13:03.254451  \n",
       "2 2020-03-16 18:13:03.254451  \n",
       "3 2020-03-16 18:13:03.254451  \n",
       "4 2020-03-16 18:13:03.254451  \n",
       "5 2020-03-16 18:13:03.254451  \n",
       "6 2020-03-16 18:13:03.254451  \n",
       "7 2020-03-16 18:13:03.254451  \n",
       "8 2020-03-16 18:13:03.254451  \n",
       "9 2020-03-16 18:13:03.254451  "
      ]
     },
     "metadata": {},
     "output_type": "display_data"
    }
   ],
   "source": [
    "#고객 구매데이터 생성(id, 성별, 연령, 지역, 상품, 가격, 구매시간)\n",
    "import numpy as np\n",
    "import pandas as pd\n",
    "import datetime\n",
    "import warnings\n",
    "warnings.filterwarnings('ignore')\n",
    "\n",
    "a= np.random.randint(1,20, size=10) #1번에서 20번정도 구매하는 빈도가 생기는걸 정해줌(10개의 데이터)\n",
    "sr_a = pd.Series(a, name='Freq')\n",
    "\n",
    "b=np.random.randint(1,9,size=10)\n",
    "sr_b=pd.Series(b,name='Prod')\n",
    "\n",
    "c=np.random.rand(10)*1000\n",
    "sr_c=pd.Series(c,name='Price')\n",
    "\n",
    "d=np.random.rand(10)*10000\n",
    "sr_d=pd.Series(d,name='Amount') #10000원정도에서 왔다갔다 하게 하려고 설정\n",
    "\n",
    "e=np.random.choice(['Man','Woman'],size=10)\n",
    "sr_e=pd.Series(e, name='Sex')\n",
    "\n",
    "f=np.random.choice(['Seoul','Daejeon','Daegu','Busan','Changwon', 'Gangwon', 'Mokpo'],size=10)\n",
    "sr_f=pd.Series(f, name='Region')\n",
    "\n",
    "g=np.random.choice(range(1,15) ,size=10,replace=False)\n",
    "sr_g=pd.Series(g, name='ID')\n",
    "\n",
    "t=np.random.choice([datetime.datetime.now()],size=10)\n",
    "sr_t=pd.Series(t, name='time')\n",
    "\n",
    "df=pd.concat([sr_a,sr_b,sr_c,sr_d,sr_e,sr_f,sr_g,sr_t],axis=1)\n",
    "display(df)"
   ]
  }
 ],
 "metadata": {
  "kernelspec": {
   "display_name": "Python 3",
   "language": "python",
   "name": "python3"
  },
  "language_info": {
   "codemirror_mode": {
    "name": "ipython",
    "version": 3
   },
   "file_extension": ".py",
   "mimetype": "text/x-python",
   "name": "python",
   "nbconvert_exporter": "python",
   "pygments_lexer": "ipython3",
   "version": "3.7.6"
  }
 },
 "nbformat": 4,
 "nbformat_minor": 2
}
