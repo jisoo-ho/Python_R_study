{
 "cells": [
  {
   "cell_type": "markdown",
   "metadata": {},
   "source": [
    "# 이더리움 가격 예측 모델\n",
    "#### 과거데이터를이용해서 과거데이터를 예측하고 실제 과거 데이터로 검증해보는 방식"
   ]
  },
  {
   "cell_type": "markdown",
   "metadata": {},
   "source": [
    "## 모듈 import"
   ]
  },
  {
   "cell_type": "code",
   "execution_count": 1,
   "metadata": {},
   "outputs": [
    {
     "name": "stderr",
     "output_type": "stream",
     "text": [
      "Using TensorFlow backend.\n"
     ]
    }
   ],
   "source": [
    "import pandas as pd\n",
    "import numpy as np\n",
    "import matplotlib.pyplot as plt\n",
    "from keras.models import Sequential\n",
    "from keras.layers import LSTM, Dropout, Dense, Activation\n",
    "# LSTM (Long Short Term Memory) 모델 사용\n",
    "# 인공지능 모델 : 이전 데이터를 이용하여 이후 데이터를 예측하는 인공지능 모델\n",
    "# from keras.callbacks import TensorBoard, MedelCheckpoint, ReduceLROnPlateau\n",
    "import datetime"
   ]
  },
  {
   "cell_type": "markdown",
   "metadata": {},
   "source": [
    "## Load Dataset (데이터 불러오기)"
   ]
  },
  {
   "cell_type": "code",
   "execution_count": 2,
   "metadata": {},
   "outputs": [
    {
     "data": {
      "text/html": [
       "<div>\n",
       "<style scoped>\n",
       "    .dataframe tbody tr th:only-of-type {\n",
       "        vertical-align: middle;\n",
       "    }\n",
       "\n",
       "    .dataframe tbody tr th {\n",
       "        vertical-align: top;\n",
       "    }\n",
       "\n",
       "    .dataframe thead th {\n",
       "        text-align: right;\n",
       "    }\n",
       "</style>\n",
       "<table border=\"1\" class=\"dataframe\">\n",
       "  <thead>\n",
       "    <tr style=\"text-align: right;\">\n",
       "      <th></th>\n",
       "      <th>Date</th>\n",
       "      <th>Open*</th>\n",
       "      <th>High</th>\n",
       "      <th>Low</th>\n",
       "      <th>Close**</th>\n",
       "      <th>Volume</th>\n",
       "      <th>Market Cap</th>\n",
       "    </tr>\n",
       "  </thead>\n",
       "  <tbody>\n",
       "    <tr>\n",
       "      <th>0</th>\n",
       "      <td>21-Mar-19</td>\n",
       "      <td>140.48</td>\n",
       "      <td>141.00</td>\n",
       "      <td>135.86</td>\n",
       "      <td>136.64</td>\n",
       "      <td>5,087,247,796</td>\n",
       "      <td>14,392,427,839</td>\n",
       "    </tr>\n",
       "    <tr>\n",
       "      <th>1</th>\n",
       "      <td>22-Mar-19</td>\n",
       "      <td>136.56</td>\n",
       "      <td>138.79</td>\n",
       "      <td>136.23</td>\n",
       "      <td>137.18</td>\n",
       "      <td>4,490,899,266</td>\n",
       "      <td>14,451,740,115</td>\n",
       "    </tr>\n",
       "    <tr>\n",
       "      <th>2</th>\n",
       "      <td>23-Mar-19</td>\n",
       "      <td>137.04</td>\n",
       "      <td>139.39</td>\n",
       "      <td>136.91</td>\n",
       "      <td>138.24</td>\n",
       "      <td>4,436,568,613</td>\n",
       "      <td>14,565,143,357</td>\n",
       "    </tr>\n",
       "  </tbody>\n",
       "</table>\n",
       "</div>"
      ],
      "text/plain": [
       "        Date   Open*    High     Low  Close**         Volume      Market Cap\n",
       "0  21-Mar-19  140.48  141.00  135.86   136.64  5,087,247,796  14,392,427,839\n",
       "1  22-Mar-19  136.56  138.79  136.23   137.18  4,490,899,266  14,451,740,115\n",
       "2  23-Mar-19  137.04  139.39  136.91   138.24  4,436,568,613  14,565,143,357"
      ]
     },
     "execution_count": 2,
     "metadata": {},
     "output_type": "execute_result"
    }
   ],
   "source": [
    "data = pd.read_csv('dataset/ethereum.csv')\n",
    "data['High'].fillna(data['High'].mean(), inplace=True) # unique()값으로 조회해 본 결과 데이터 중 nan값이 있었음.\n",
    "data['Low'].fillna(data['Low'].mean(), inplace=True)  \n",
    "data.head(3)"
   ]
  },
  {
   "cell_type": "markdown",
   "metadata": {},
   "source": [
    "## Compute Mid Price (중간 가격 계산)"
   ]
  },
  {
   "cell_type": "code",
   "execution_count": 3,
   "metadata": {},
   "outputs": [],
   "source": [
    "high_prices = data['High'].values\n",
    "low_prices = data['Low'].values\n",
    "mid_prices = (high_prices + low_prices)/2 #중간가격 저장"
   ]
  },
  {
   "cell_type": "markdown",
   "metadata": {},
   "source": [
    "## Create Windows(윈도우 생성)"
   ]
  },
  {
   "cell_type": "code",
   "execution_count": 4,
   "metadata": {},
   "outputs": [],
   "source": [
    "seq_len = 50 # 최근 50일간의 데이터를 파악하여 미래가격 예측, 50이라는 것이 window 사이즈 (변경 가능)\n",
    "sequence_length = seq_len + 1 # 50개의 데이터를 보고 51번째를 예측하기 위해 + 1 설정, 한칸씩 밀리면서 윈도우를 만들어간다.\n",
    "\n",
    "result = []\n",
    "for i in range(len(mid_prices) - sequence_length): # for문을 통해 \\\n",
    "    result.append(mid_prices[i:i+sequence_length]) # 51개씩 단계별로 윈도우를 result 에 저장"
   ]
  },
  {
   "cell_type": "markdown",
   "metadata": {},
   "source": [
    "## Normalize Data (정규화)"
   ]
  },
  {
   "cell_type": "code",
   "execution_count": 5,
   "metadata": {},
   "outputs": [
    {
     "data": {
      "text/plain": [
       "((284, 50, 1), (31, 50, 1))"
      ]
     },
     "execution_count": 5,
     "metadata": {},
     "output_type": "execute_result"
    }
   ],
   "source": [
    "normalized_data = []\n",
    "for window in result: #정규화 작업 : 예측률을 높이기 위해 한다.\n",
    "    normalized_window = [((float(p) / float(window[0]))-1)for p in window] # 윈도우를 모두 모두 읽으며 윈도우를 정규화한다.\n",
    "                            # 첫 번째에서 자기 자신을 자기로 나누고 -1을 해서 0으로 만든다.\n",
    "                            # 다음날 데이터에서 전날 데이터를 나눈것 에서 -1 해서 비율을 모두 반복계산하여 정규화\n",
    "    normalized_data.append(normalized_window)    # 정규화 데이터에 저장\n",
    "    \n",
    "result = np.array(normalized_data)\n",
    "\n",
    "# 트레이닝 데이터와 테스트 데이터를 나눈다.\n",
    "row = int(round(result.shape[0]*0.9)) # 90% 를 트레이닝 셋으로 나눈다.\n",
    "train = result[:row,:]         # 트레이닝 셋으로 나뉜 결과를 저장\n",
    "np.random.shuffle(train)       # 트레이닝 셋을 random으로 섞어서 해주는게 좋다.(순서대로하면 익숙해질 수 있음)\n",
    "\n",
    "x_train = train[:,:-1]\n",
    "x_train = np.reshape(x_train, (x_train.shape[0], x_train.shape[1],1))\n",
    "y_train = train[:,-1]\n",
    "\n",
    "x_test = result[row:,:-1]\n",
    "x_test = np.reshape(x_test, (x_test.shape[0], x_test.shape[1],1))\n",
    "y_test = result[row:,-1]\n",
    "\n",
    "x_train.shape, x_test.shape\n",
    "# ((1059, 50, 1), (118, 50, 1)) --> 1059일의 데이터를 기반으로 118일의 주식 가격을 예측할 것이다."
   ]
  },
  {
   "cell_type": "markdown",
   "metadata": {},
   "source": [
    "## Build a Model(모델생성)"
   ]
  },
  {
   "cell_type": "code",
   "execution_count": 6,
   "metadata": {},
   "outputs": [
    {
     "name": "stdout",
     "output_type": "stream",
     "text": [
      "Model: \"sequential_1\"\n",
      "_________________________________________________________________\n",
      "Layer (type)                 Output Shape              Param #   \n",
      "=================================================================\n",
      "lstm_1 (LSTM)                (None, 50, 50)            10400     \n",
      "_________________________________________________________________\n",
      "lstm_2 (LSTM)                (None, 64)                29440     \n",
      "_________________________________________________________________\n",
      "dense_1 (Dense)              (None, 1)                 65        \n",
      "=================================================================\n",
      "Total params: 39,905\n",
      "Trainable params: 39,905\n",
      "Non-trainable params: 0\n",
      "_________________________________________________________________\n"
     ]
    }
   ],
   "source": [
    "model = Sequential() # keras.models.Sequential() : 모델을 순차적으로 정의하는 클래스\n",
    "\n",
    "#keras.layers.LSTM() : LSTM 레이어\n",
    "#LSTM 이라는 모듈이 존재, input은 50개\n",
    "model.add(LSTM(50, return_sequences=True, input_shape=(50,1))) # 1st LSTM유닛 수 : 50개(숫자 조정 가능 -> 조정해가며 성능 테스트 가능)\n",
    "\n",
    "model.add(LSTM(64, return_sequences=False))  # 2nd LSTM유닛 수 : 64개(숫자 조정 가능 -> 조정해가며 성능 테스트 가능)\n",
    "\n",
    "#keras.layers.Dense() : Fully connected layer\n",
    "model.add(Dense(1, activation='linear')) # 하루의 데이터를 예측할 것 이기 때문에 1 작성, 작동방법은 선형계획법\n",
    "\n",
    "#mse : Mean Squared Error\n",
    "model.compile(loss='mse', optimizer='rmsprop')\n",
    "\n",
    "model.summary()"
   ]
  },
  {
   "cell_type": "markdown",
   "metadata": {},
   "source": [
    "## Traning(학습)"
   ]
  },
  {
   "cell_type": "code",
   "execution_count": 7,
   "metadata": {},
   "outputs": [
    {
     "name": "stdout",
     "output_type": "stream",
     "text": [
      "Train on 284 samples, validate on 31 samples\n",
      "Epoch 1/20\n",
      "284/284 [==============================] - 1s 5ms/step - loss: 0.0222 - val_loss: 0.1359\n",
      "Epoch 2/20\n",
      "284/284 [==============================] - 1s 3ms/step - loss: 0.0111 - val_loss: 0.0493\n",
      "Epoch 3/20\n",
      "284/284 [==============================] - 1s 3ms/step - loss: 0.0102 - val_loss: 0.0582\n",
      "Epoch 4/20\n",
      "284/284 [==============================] - 1s 3ms/step - loss: 0.0076 - val_loss: 0.0333\n",
      "Epoch 5/20\n",
      "284/284 [==============================] - 1s 3ms/step - loss: 0.0067 - val_loss: 0.0424\n",
      "Epoch 6/20\n",
      "284/284 [==============================] - 1s 3ms/step - loss: 0.0058 - val_loss: 0.0311\n",
      "Epoch 7/20\n",
      "284/284 [==============================] - 1s 3ms/step - loss: 0.0063 - val_loss: 0.0231\n",
      "Epoch 8/20\n",
      "284/284 [==============================] - 1s 3ms/step - loss: 0.0049 - val_loss: 0.0212\n",
      "Epoch 9/20\n",
      "284/284 [==============================] - 1s 3ms/step - loss: 0.0054 - val_loss: 0.0219\n",
      "Epoch 10/20\n",
      "284/284 [==============================] - 1s 3ms/step - loss: 0.0052 - val_loss: 0.0229\n",
      "Epoch 11/20\n",
      "284/284 [==============================] - 1s 3ms/step - loss: 0.0044 - val_loss: 0.0187\n",
      "Epoch 12/20\n",
      "284/284 [==============================] - 1s 3ms/step - loss: 0.0042 - val_loss: 0.0197\n",
      "Epoch 13/20\n",
      "284/284 [==============================] - 1s 3ms/step - loss: 0.0041 - val_loss: 0.0193\n",
      "Epoch 14/20\n",
      "284/284 [==============================] - 1s 3ms/step - loss: 0.0037 - val_loss: 0.0237\n",
      "Epoch 15/20\n",
      "284/284 [==============================] - 1s 3ms/step - loss: 0.0032 - val_loss: 0.0142\n",
      "Epoch 16/20\n",
      "284/284 [==============================] - 1s 3ms/step - loss: 0.0034 - val_loss: 0.0146\n",
      "Epoch 17/20\n",
      "284/284 [==============================] - 1s 3ms/step - loss: 0.0030 - val_loss: 0.0145\n",
      "Epoch 18/20\n",
      "284/284 [==============================] - 1s 3ms/step - loss: 0.0028 - val_loss: 0.0114\n",
      "Epoch 19/20\n",
      "284/284 [==============================] - 1s 3ms/step - loss: 0.0027 - val_loss: 0.0117\n",
      "Epoch 20/20\n",
      "284/284 [==============================] - 1s 3ms/step - loss: 0.0027 - val_loss: 0.0125\n"
     ]
    },
    {
     "data": {
      "text/plain": [
       "<keras.callbacks.callbacks.History at 0x1d350386cc8>"
      ]
     },
     "execution_count": 7,
     "metadata": {},
     "output_type": "execute_result"
    }
   ],
   "source": [
    "model.fit(x_train, y_train,                 # 학습을 시키기 위해 fit 메소드 사용(트레이닝셋을 넣어줌)\n",
    "         validation_data=(x_test, y_test),  # 검증 데이터에 테스트 데이터를 넣어준다.\n",
    "         batch_size=10,                     # 한 번에 몇 개씩 묶어서 학습시킬건지 지정\n",
    "         epochs=20)                         # 20번동안 반복학습을 시킨다.\n",
    "#실행 시 loss 가 발생하게 되는데, loss가 발생될수록 학습이 잘 되고 있다는 증거가 된다.\n",
    "# validation loss의 값이 작을수록 학습이 잘 된 것"
   ]
  },
  {
   "cell_type": "markdown",
   "metadata": {},
   "source": [
    "## Prediction(예측)"
   ]
  },
  {
   "cell_type": "code",
   "execution_count": 8,
   "metadata": {},
   "outputs": [
    {
     "data": {
      "image/png": "[encoded data removed]",
      "text/plain": [
       "<Figure size 432x288 with 1 Axes>"
      ]
     },
     "metadata": {},
     "output_type": "display_data"
    }
   ],
   "source": [
    "# 모델이 잘 학습되었는지 검증하고 그래프 작성\n",
    "pred = model.predict(x_test) # model.predict() : 모델을 사용하여 예측, 예측한 결과값을 pred에 저장\n",
    "\n",
    "fig = plt.figure(facecolor = 'white')\n",
    "ax = fig.add_subplot(111)\n",
    "ax.plot(y_test, label='True')\n",
    "ax.plot(pred, label='Prediction')\n",
    "ax.legend()\n",
    "plt.show()"
   ]
  }
 ],
 "metadata": {
  "kernelspec": {
   "display_name": "Python 3",
   "language": "python",
   "name": "python3"
  },
  "language_info": {
   "codemirror_mode": {
    "name": "ipython",
    "version": 3
   },
   "file_extension": ".py",
   "mimetype": "text/x-python",
   "name": "python",
   "nbconvert_exporter": "python",
   "pygments_lexer": "ipython3",
   "version": "3.7.6"
  }
 },
 "nbformat": 4,
 "nbformat_minor": 4
}
