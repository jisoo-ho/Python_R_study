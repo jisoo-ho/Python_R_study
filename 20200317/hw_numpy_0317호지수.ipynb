{
 "cells": [
  {
   "cell_type": "markdown",
   "metadata": {},
   "source": [
    "#### Q. random.randint()를 사용하여 array([0, 0, 0, 0, 0, 0, 0, 0, 0, 0])를 출력하세요."
   ]
  },
  {
   "cell_type": "code",
   "execution_count": 132,
   "metadata": {},
   "outputs": [
    {
     "data": {
      "text/plain": [
       "array([0, 0, 0, 0, 0, 0, 0, 0, 0, 0])"
      ]
     },
     "execution_count": 132,
     "metadata": {},
     "output_type": "execute_result"
    }
   ],
   "source": [
    "import random\n",
    "import numpy as np\n",
    "a=np.random.randint(0,1,size=10)\n",
    "a"
   ]
  },
  {
   "cell_type": "markdown",
   "metadata": {},
   "source": [
    "#### Q. np.random.rand()를 이용해서 5개의 난수를 생성하고 형변환을 통해서 0보다 큰 정수로 출력하세요."
   ]
  },
  {
   "cell_type": "code",
   "execution_count": 148,
   "metadata": {},
   "outputs": [
    {
     "name": "stdout",
     "output_type": "stream",
     "text": [
      "[[1.0959861  8.53029654 7.3901706  1.98946975 7.57803481]]\n",
      "[[1 8 7 1 7]]\n"
     ]
    }
   ],
   "source": [
    "af = np.random.rand(1,5)*10\n",
    "print(af)\n",
    "ai = af.astype('int32')\n",
    "print(ai)"
   ]
  },
  {
   "cell_type": "markdown",
   "metadata": {},
   "source": [
    "#### Q. arange, zeros, ones를 이용해서 1차원 배열, 2차원 배열(3,3) 을 각각 생성하세요."
   ]
  },
  {
   "cell_type": "code",
   "execution_count": 163,
   "metadata": {},
   "outputs": [
    {
     "name": "stdout",
     "output_type": "stream",
     "text": [
      "[0 1 2 3 4 5 6 7 8]\n",
      "[[0 1 2]\n",
      " [3 4 5]\n",
      " [6 7 8]] \n",
      "\n",
      "[0 0 0 0 0]\n",
      "[[0 0 0]\n",
      " [0 0 0]\n",
      " [0 0 0]] \n",
      "\n",
      "[1 1 1 1 1]\n",
      "[[1 1 1]\n",
      " [1 1 1]\n",
      " [1 1 1]]\n"
     ]
    }
   ],
   "source": [
    "a = np.arange(9)\n",
    "b = a.reshape(3,3)\n",
    "print(a)\n",
    "print(b,'\\n')\n",
    "\n",
    "azero = np.zeros((5), dtype='int32')\n",
    "print(azero)\n",
    "azero2 = np.zeros((3,3), dtype='int32')\n",
    "print(azero2,'\\n')\n",
    "\n",
    "aone=np.ones((5), dtype='int32')\n",
    "aone2=np.ones((3,3), dtype='int32')\n",
    "\n",
    "print(aone)\n",
    "print(aone2)\n"
   ]
  },
  {
   "cell_type": "markdown",
   "metadata": {},
   "source": [
    "#### Q. np.random.randint()를 활용 (4,3) 배열 mt1 을 생성하세요"
   ]
  },
  {
   "cell_type": "code",
   "execution_count": 169,
   "metadata": {},
   "outputs": [
    {
     "name": "stdout",
     "output_type": "stream",
     "text": [
      "[ 8  3  5  3  7  3  7  4  3 10  4  4]\n",
      "[[ 8  3  5]\n",
      " [ 3  7  3]\n",
      " [ 7  4  3]\n",
      " [10  4  4]]\n"
     ]
    }
   ],
   "source": [
    "a = np.random.randint(0,12,size=12)\n",
    "print(a)\n",
    "mt1=a.reshape(4,3)\n",
    "print(mt1)"
   ]
  },
  {
   "cell_type": "markdown",
   "metadata": {},
   "source": [
    "#### Q. mt1을 2x6 행렬로 변환 mt2로 출력하세요."
   ]
  },
  {
   "cell_type": "code",
   "execution_count": 170,
   "metadata": {},
   "outputs": [
    {
     "name": "stdout",
     "output_type": "stream",
     "text": [
      "[[ 8  3  5  3  7  3]\n",
      " [ 7  4  3 10  4  4]]\n"
     ]
    }
   ],
   "source": [
    "mt2 = mt1.reshape(2,6)\n",
    "print(mt2)"
   ]
  },
  {
   "cell_type": "markdown",
   "metadata": {},
   "source": [
    "#### Q. mt2를 1차원 배열로 변환 후 mt3로 출력하세요."
   ]
  },
  {
   "cell_type": "code",
   "execution_count": 172,
   "metadata": {},
   "outputs": [
    {
     "name": "stdout",
     "output_type": "stream",
     "text": [
      "[[ 8  3  5  3  7  3  7  4  3 10  4  4]]\n"
     ]
    }
   ],
   "source": [
    "mt3 = mt2.reshape(1,-1)\n",
    "print(mt3)"
   ]
  },
  {
   "cell_type": "markdown",
   "metadata": {},
   "source": [
    "#### Q. arange() 함수를 이용해서  0 ~ 29 정수 배열을 생성하고 2 X 5 X 3 3차원 배열로 변환하세요. "
   ]
  },
  {
   "cell_type": "code",
   "execution_count": 7,
   "metadata": {},
   "outputs": [
    {
     "name": "stdout",
     "output_type": "stream",
     "text": [
      "[[[ 0  1  2]\n",
      "  [ 3  4  5]\n",
      "  [ 6  7  8]\n",
      "  [ 9 10 11]\n",
      "  [12 13 14]]\n",
      "\n",
      " [[15 16 17]\n",
      "  [18 19 20]\n",
      "  [21 22 23]\n",
      "  [24 25 26]\n",
      "  [27 28 29]]]\n"
     ]
    }
   ],
   "source": [
    "array1 = np.arange(30)\n",
    "array3d = array1.reshape((2,5,3)) # 2, 5는 2행 5열이고 3은 깊이(겹)를 의미한다. (2행 5열 데이터가 3겹으로 존재)\n",
    "print(array3d)"
   ]
  },
  {
   "cell_type": "markdown",
   "metadata": {},
   "source": [
    "#### Q. 1 ~ 12 연속된 정수 배열을 생성하고 2 X 3 X 2 3차원 배열로 변환 후 list로 출력하세요. "
   ]
  },
  {
   "cell_type": "code",
   "execution_count": 9,
   "metadata": {},
   "outputs": [
    {
     "name": "stdout",
     "output_type": "stream",
     "text": [
      "[ 1  2  3  4  5  6  7  8  9 10 11 12]\n",
      "[[[ 1  2]\n",
      "  [ 3  4]\n",
      "  [ 5  6]]\n",
      "\n",
      " [[ 7  8]\n",
      "  [ 9 10]\n",
      "  [11 12]]]\n",
      "[[[0, 1, 2], [3, 4, 5], [6, 7, 8], [9, 10, 11], [12, 13, 14]], [[15, 16, 17], [18, 19, 20], [21, 22, 23], [24, 25, 26], [27, 28, 29]]]\n"
     ]
    }
   ],
   "source": [
    "array2 = np.array([1,2,3,4,5,6,7,8,9,10,11,12])\n",
    "array23d=array2.reshape((2,3,2))\n",
    "print(array2)\n",
    "print(array23d)\n",
    "print(array3d.tolist())"
   ]
  },
  {
   "cell_type": "markdown",
   "metadata": {},
   "source": [
    "#### Q. 0 ~ 29 연속 정수 배열을 생성하고 (10,3) 행렬로 변환 후 인덱싱으로 다음을 출력하세요.\n",
    "- 12\n",
    "- [24,25,26]\n",
    "- 3번째 열 \n",
    "- 2번째 ~ 5번째 행\n",
    "- [10,13,16]"
   ]
  },
  {
   "cell_type": "code",
   "execution_count": 179,
   "metadata": {},
   "outputs": [
    {
     "name": "stdout",
     "output_type": "stream",
     "text": [
      "[[ 0  1  2]\n",
      " [ 3  4  5]\n",
      " [ 6  7  8]\n",
      " [ 9 10 11]\n",
      " [12 13 14]\n",
      " [15 16 17]\n",
      " [18 19 20]\n",
      " [21 22 23]\n",
      " [24 25 26]\n",
      " [27 28 29]]\n",
      "12\n",
      "[24 25 26]\n",
      "[[ 6  7  8]\n",
      " [ 9 10 11]\n",
      " [12 13 14]\n",
      " [15 16 17]]\n",
      "10 13 16\n",
      "[10 13 16]\n",
      "[[10]\n",
      " [13]\n",
      " [16]]\n"
     ]
    }
   ],
   "source": [
    "arr1 = np.arange(30)\n",
    "array_1 = arr1.reshape(10,3)\n",
    "print(array_1)      # array_1 출력\n",
    "print(array_1[4,0]) #12 출력\n",
    "print(array_1[-2])  #[24,25,26] 출력 : 뒤에서 2번째 꺼\n",
    "print(array_1[2:6]) # 2~(6-1)번째 행 출력\n",
    "print(array_1[3,1],array_1[4,1],array_1[5,1]) # 10 13 16 출력\n",
    "print(array_1[3:6,1])# 10 13 16 출력\n",
    "print(array_1[3:6,[1]]) # 2차원배열로 3행 1열로 출력 "
   ]
  },
  {
   "cell_type": "markdown",
   "metadata": {},
   "source": [
    "#### Q. 5 ~ 20 연속 정수 배열을 생성하고 불린 인덱싱을 이용하여 짝수만 출력하세요.\n",
    "#### Q. 동일 배열에서 12보다 큰 정수만 출력하세요."
   ]
  },
  {
   "cell_type": "code",
   "execution_count": 116,
   "metadata": {},
   "outputs": [
    {
     "name": "stdout",
     "output_type": "stream",
     "text": [
      "[ 6  8 10 12 14 16 18 20]\n"
     ]
    }
   ],
   "source": [
    "a=np.arange(5,21)\n",
    "b=a[(a%2==0)]\n",
    "print(b)"
   ]
  },
  {
   "cell_type": "code",
   "execution_count": 117,
   "metadata": {},
   "outputs": [
    {
     "name": "stdout",
     "output_type": "stream",
     "text": [
      "[13 14 15 16 17 18 19 20]\n"
     ]
    }
   ],
   "source": [
    "c=a[(a>12)]\n",
    "print(c)"
   ]
  },
  {
   "cell_type": "markdown",
   "metadata": {},
   "source": [
    "#### Q. random.randint()를 이용해서 10개의 배열을 a1으로 생성후 정렬하세요(내림차순)"
   ]
  },
  {
   "cell_type": "code",
   "execution_count": 256,
   "metadata": {},
   "outputs": [
    {
     "name": "stdout",
     "output_type": "stream",
     "text": [
      "[9 9 9 8 7 5 5 2 1 0]\n"
     ]
    }
   ],
   "source": [
    "a=np.random.randint(0,10,size=10)\n",
    "b=np.sort(a)[::-1]\n",
    "print(b)"
   ]
  },
  {
   "cell_type": "markdown",
   "metadata": {},
   "source": [
    "#### Q. 1 ~ 21 정수를 랜덤하게 (3,3) 행렬로 생성 후 row, column 방향으로 각각 정렬하세요."
   ]
  },
  {
   "cell_type": "code",
   "execution_count": 233,
   "metadata": {},
   "outputs": [
    {
     "name": "stdout",
     "output_type": "stream",
     "text": [
      "[[20 10  6]\n",
      " [20  9  8]\n",
      " [ 1 19 12]]\n"
     ]
    }
   ],
   "source": [
    "a = np.random.randint(1,22,size=9)\n",
    "b = a.reshape(3,3)\n",
    "print(b)"
   ]
  },
  {
   "cell_type": "markdown",
   "metadata": {},
   "source": [
    "#### Q. 10에서 20사이의 정수로 구성된 (5,3) 행열을 np.random을 이용해서 nmt1으로 생성하세요."
   ]
  },
  {
   "cell_type": "code",
   "execution_count": 271,
   "metadata": {},
   "outputs": [
    {
     "name": "stdout",
     "output_type": "stream",
     "text": [
      "[[19 19 13]\n",
      " [19 19 16]\n",
      " [12 16 18]\n",
      " [17 14 10]\n",
      " [10 10 15]]\n"
     ]
    }
   ],
   "source": [
    "a = np.random.randint(10,20,size=15)\n",
    "mt1 = a.reshape(5,3)\n",
    "print(mt1)"
   ]
  },
  {
   "cell_type": "markdown",
   "metadata": {},
   "source": [
    "#### Q. mt1 행렬을 전치 후 mt2로 출력하세요."
   ]
  },
  {
   "cell_type": "code",
   "execution_count": 272,
   "metadata": {},
   "outputs": [
    {
     "name": "stdout",
     "output_type": "stream",
     "text": [
      "[[19 19 12 17 10]\n",
      " [19 19 16 14 10]\n",
      " [13 16 18 10 15]]\n"
     ]
    }
   ],
   "source": [
    "mt2 = mt1.T\n",
    "print(mt2)"
   ]
  },
  {
   "cell_type": "markdown",
   "metadata": {},
   "source": [
    "#### Q. 6개의 원소로 구성되는 배열을 np.random을 활용하여 생성 mt1으로 출력하세요."
   ]
  },
  {
   "cell_type": "code",
   "execution_count": 277,
   "metadata": {},
   "outputs": [
    {
     "data": {
      "text/plain": [
       "array([[18,  1, 12, 18, 12,  3]])"
      ]
     },
     "execution_count": 277,
     "metadata": {},
     "output_type": "execute_result"
    }
   ],
   "source": [
    "a = np.random.randint(1,20,size=6)\n",
    "mt1 = a.reshape(1,-1)\n",
    "mt1"
   ]
  },
  {
   "cell_type": "markdown",
   "metadata": {},
   "source": [
    "#### Q. 행벡터 mt를 전치하여 열벡터로 변환하세요."
   ]
  },
  {
   "cell_type": "code",
   "execution_count": 279,
   "metadata": {},
   "outputs": [
    {
     "data": {
      "text/plain": [
       "array([[18],\n",
       "       [ 1],\n",
       "       [12],\n",
       "       [18],\n",
       "       [12],\n",
       "       [ 3]])"
      ]
     },
     "execution_count": 279,
     "metadata": {},
     "output_type": "execute_result"
    }
   ],
   "source": [
    "mt2=mt1.T\n",
    "mt2"
   ]
  },
  {
   "cell_type": "markdown",
   "metadata": {},
   "source": [
    "#### Q. 배열 matrix를 broadcasting을 이용하여 다음 배열을 출력하는 연산을 수행하세요. \n",
    "array([[101, 202, 303],\\\n",
    "       [104, 205, 306],\\\n",
    "       [107, 208, 309]])\n"
   ]
  },
  {
   "cell_type": "code",
   "execution_count": 285,
   "metadata": {},
   "outputs": [
    {
     "name": "stdout",
     "output_type": "stream",
     "text": [
      "[[1 2 3]\n",
      " [4 5 6]\n",
      " [7 8 9]] \n",
      "\n",
      "[[101 202 303]\n",
      " [104 205 306]\n",
      " [107 208 309]]\n"
     ]
    }
   ],
   "source": [
    "a = [100,200,300]\n",
    "b = np.arange(start=1,stop=10)\n",
    "c = b.reshape(3,3)\n",
    "print(c,'\\n')\n",
    "print(a+c)"
   ]
  },
  {
   "cell_type": "markdown",
   "metadata": {},
   "source": [
    "#### Q. (3,3) 2차원 배열을 np.random으로 생성하여 mt1으로 저장하고 차원을 구하세요."
   ]
  },
  {
   "cell_type": "code",
   "execution_count": 293,
   "metadata": {},
   "outputs": [
    {
     "name": "stdout",
     "output_type": "stream",
     "text": [
      "[[90 70 19]\n",
      " [87 11 16]\n",
      " [53 29  3]] 이 배열의 차원은 2차원 입니다.\n"
     ]
    }
   ],
   "source": [
    "array = np.random.randint(1,100,size=9)\n",
    "array2d = array.reshape(3,3)\n",
    "print(array2d, '이 배열의 차원은 {}차원 입니다.'.format(array2d.ndim))"
   ]
  },
  {
   "cell_type": "markdown",
   "metadata": {},
   "source": [
    "#### Q. 아래 두개의 행렬에 대한 덧셈, 뺄셈, 곱셈을 수행하세요"
   ]
  },
  {
   "cell_type": "code",
   "execution_count": 308,
   "metadata": {},
   "outputs": [],
   "source": [
    "mt1 = np.array([[1, 1, 2],\n",
    "               [1, 1, 1],\n",
    "               [3, 3, 4]])\n",
    "\n",
    "mt2 = np.array([[7, 6, 8],\n",
    "                [7, 7, 6],\n",
    "                [8, 7, 8]])"
   ]
  },
  {
   "cell_type": "code",
   "execution_count": 310,
   "metadata": {},
   "outputs": [
    {
     "name": "stdout",
     "output_type": "stream",
     "text": [
      "[[ 8  7 10]\n",
      " [ 8  8  7]\n",
      " [11 10 12]] 덧셈\n",
      "\n",
      "[[30 27 30]\n",
      " [22 20 22]\n",
      " [74 67 74]] 곱셈\n",
      "\n",
      "[[-6 -5 -6]\n",
      " [-6 -6 -5]\n",
      " [-5 -4 -4]] 뺄셈\n"
     ]
    }
   ],
   "source": [
    "msum = mt1+mt2\n",
    "print(msum,'덧셈\\n')\n",
    "mmul = np.dot(mt1,mt2)\n",
    "print(mmul,'곱셈\\n')\n",
    "mmin = mt1-mt2\n",
    "print(mmin,'뺄셈')"
   ]
  },
  {
   "cell_type": "markdown",
   "metadata": {},
   "source": [
    "#### Q. 응용(종속변수, 예측모델 만들어보기)"
   ]
  },
  {
   "cell_type": "code",
   "execution_count": 359,
   "metadata": {},
   "outputs": [
    {
     "data": {
      "text/html": [
       "<div>\n",
       "<style scoped>\n",
       "    .dataframe tbody tr th:only-of-type {\n",
       "        vertical-align: middle;\n",
       "    }\n",
       "\n",
       "    .dataframe tbody tr th {\n",
       "        vertical-align: top;\n",
       "    }\n",
       "\n",
       "    .dataframe thead th {\n",
       "        text-align: right;\n",
       "    }\n",
       "</style>\n",
       "<table border=\"1\" class=\"dataframe\">\n",
       "  <thead>\n",
       "    <tr style=\"text-align: right;\">\n",
       "      <th></th>\n",
       "      <th>Freq</th>\n",
       "      <th>Prod</th>\n",
       "      <th>Mart</th>\n",
       "      <th>Amount</th>\n",
       "      <th>Sex</th>\n",
       "      <th>Region</th>\n",
       "      <th>ID</th>\n",
       "      <th>time</th>\n",
       "      <th>머문시간(분)</th>\n",
       "      <th>분당판매량</th>\n",
       "    </tr>\n",
       "  </thead>\n",
       "  <tbody>\n",
       "    <tr>\n",
       "      <th>0</th>\n",
       "      <td>2</td>\n",
       "      <td>KF94마스크</td>\n",
       "      <td>이마트</td>\n",
       "      <td>916</td>\n",
       "      <td>Man</td>\n",
       "      <td>Daejeon</td>\n",
       "      <td>6</td>\n",
       "      <td>2020-03-17 18:29:22.018939</td>\n",
       "      <td>143</td>\n",
       "      <td>6.405594</td>\n",
       "    </tr>\n",
       "    <tr>\n",
       "      <th>1</th>\n",
       "      <td>4</td>\n",
       "      <td>N95마스크</td>\n",
       "      <td>롯데마트</td>\n",
       "      <td>357</td>\n",
       "      <td>Man</td>\n",
       "      <td>Mokpo</td>\n",
       "      <td>12</td>\n",
       "      <td>2020-03-17 18:29:22.018939</td>\n",
       "      <td>88</td>\n",
       "      <td>4.056818</td>\n",
       "    </tr>\n",
       "    <tr>\n",
       "      <th>2</th>\n",
       "      <td>3</td>\n",
       "      <td>N95마스크</td>\n",
       "      <td>이마트</td>\n",
       "      <td>808</td>\n",
       "      <td>Woman</td>\n",
       "      <td>Busan</td>\n",
       "      <td>2</td>\n",
       "      <td>2020-03-17 18:29:22.018939</td>\n",
       "      <td>56</td>\n",
       "      <td>14.428571</td>\n",
       "    </tr>\n",
       "    <tr>\n",
       "      <th>3</th>\n",
       "      <td>6</td>\n",
       "      <td>KF80마스크</td>\n",
       "      <td>롯데마트</td>\n",
       "      <td>692</td>\n",
       "      <td>Man</td>\n",
       "      <td>Busan</td>\n",
       "      <td>10</td>\n",
       "      <td>2020-03-17 18:29:22.018939</td>\n",
       "      <td>150</td>\n",
       "      <td>4.613333</td>\n",
       "    </tr>\n",
       "    <tr>\n",
       "      <th>4</th>\n",
       "      <td>9</td>\n",
       "      <td>KF94마스크</td>\n",
       "      <td>이마트</td>\n",
       "      <td>314</td>\n",
       "      <td>Woman</td>\n",
       "      <td>Mokpo</td>\n",
       "      <td>7</td>\n",
       "      <td>2020-03-17 18:29:22.018939</td>\n",
       "      <td>92</td>\n",
       "      <td>3.413043</td>\n",
       "    </tr>\n",
       "    <tr>\n",
       "      <th>5</th>\n",
       "      <td>15</td>\n",
       "      <td>KF94마스크</td>\n",
       "      <td>이마트</td>\n",
       "      <td>552</td>\n",
       "      <td>Woman</td>\n",
       "      <td>Gangwon</td>\n",
       "      <td>1</td>\n",
       "      <td>2020-03-17 18:29:22.018939</td>\n",
       "      <td>85</td>\n",
       "      <td>6.494118</td>\n",
       "    </tr>\n",
       "    <tr>\n",
       "      <th>6</th>\n",
       "      <td>7</td>\n",
       "      <td>KF94마스크</td>\n",
       "      <td>이마트</td>\n",
       "      <td>592</td>\n",
       "      <td>Woman</td>\n",
       "      <td>Mokpo</td>\n",
       "      <td>9</td>\n",
       "      <td>2020-03-17 18:29:22.018939</td>\n",
       "      <td>11</td>\n",
       "      <td>53.818182</td>\n",
       "    </tr>\n",
       "    <tr>\n",
       "      <th>7</th>\n",
       "      <td>12</td>\n",
       "      <td>KF94마스크</td>\n",
       "      <td>코스트코</td>\n",
       "      <td>823</td>\n",
       "      <td>Woman</td>\n",
       "      <td>Changwon</td>\n",
       "      <td>5</td>\n",
       "      <td>2020-03-17 18:29:22.018939</td>\n",
       "      <td>53</td>\n",
       "      <td>15.528302</td>\n",
       "    </tr>\n",
       "    <tr>\n",
       "      <th>8</th>\n",
       "      <td>9</td>\n",
       "      <td>N95마스크</td>\n",
       "      <td>코스트코</td>\n",
       "      <td>493</td>\n",
       "      <td>Woman</td>\n",
       "      <td>Seoul</td>\n",
       "      <td>8</td>\n",
       "      <td>2020-03-17 18:29:22.018939</td>\n",
       "      <td>17</td>\n",
       "      <td>29.000000</td>\n",
       "    </tr>\n",
       "    <tr>\n",
       "      <th>9</th>\n",
       "      <td>8</td>\n",
       "      <td>N95마스크</td>\n",
       "      <td>코스트코</td>\n",
       "      <td>910</td>\n",
       "      <td>Woman</td>\n",
       "      <td>Gangwon</td>\n",
       "      <td>11</td>\n",
       "      <td>2020-03-17 18:29:22.018939</td>\n",
       "      <td>131</td>\n",
       "      <td>6.946565</td>\n",
       "    </tr>\n",
       "  </tbody>\n",
       "</table>\n",
       "</div>"
      ],
      "text/plain": [
       "   Freq     Prod  Mart  Amount    Sex    Region  ID  \\\n",
       "0     2  KF94마스크   이마트     916    Man   Daejeon   6   \n",
       "1     4   N95마스크  롯데마트     357    Man     Mokpo  12   \n",
       "2     3   N95마스크   이마트     808  Woman     Busan   2   \n",
       "3     6  KF80마스크  롯데마트     692    Man     Busan  10   \n",
       "4     9  KF94마스크   이마트     314  Woman     Mokpo   7   \n",
       "5    15  KF94마스크   이마트     552  Woman   Gangwon   1   \n",
       "6     7  KF94마스크   이마트     592  Woman     Mokpo   9   \n",
       "7    12  KF94마스크  코스트코     823  Woman  Changwon   5   \n",
       "8     9   N95마스크  코스트코     493  Woman     Seoul   8   \n",
       "9     8   N95마스크  코스트코     910  Woman   Gangwon  11   \n",
       "\n",
       "                        time  머문시간(분)      분당판매량  \n",
       "0 2020-03-17 18:29:22.018939      143   6.405594  \n",
       "1 2020-03-17 18:29:22.018939       88   4.056818  \n",
       "2 2020-03-17 18:29:22.018939       56  14.428571  \n",
       "3 2020-03-17 18:29:22.018939      150   4.613333  \n",
       "4 2020-03-17 18:29:22.018939       92   3.413043  \n",
       "5 2020-03-17 18:29:22.018939       85   6.494118  \n",
       "6 2020-03-17 18:29:22.018939       11  53.818182  \n",
       "7 2020-03-17 18:29:22.018939       53  15.528302  \n",
       "8 2020-03-17 18:29:22.018939       17  29.000000  \n",
       "9 2020-03-17 18:29:22.018939      131   6.946565  "
      ]
     },
     "metadata": {},
     "output_type": "display_data"
    },
    {
     "data": {
      "text/html": [
       "<div>\n",
       "<style scoped>\n",
       "    .dataframe tbody tr th:only-of-type {\n",
       "        vertical-align: middle;\n",
       "    }\n",
       "\n",
       "    .dataframe tbody tr th {\n",
       "        vertical-align: top;\n",
       "    }\n",
       "\n",
       "    .dataframe thead th {\n",
       "        text-align: right;\n",
       "    }\n",
       "</style>\n",
       "<table border=\"1\" class=\"dataframe\">\n",
       "  <thead>\n",
       "    <tr style=\"text-align: right;\">\n",
       "      <th></th>\n",
       "      <th>Mart</th>\n",
       "      <th>MartValue</th>\n",
       "    </tr>\n",
       "  </thead>\n",
       "  <tbody>\n",
       "    <tr>\n",
       "      <th>0</th>\n",
       "      <td>이마트</td>\n",
       "      <td>5</td>\n",
       "    </tr>\n",
       "    <tr>\n",
       "      <th>1</th>\n",
       "      <td>롯데마트</td>\n",
       "      <td>3</td>\n",
       "    </tr>\n",
       "    <tr>\n",
       "      <th>2</th>\n",
       "      <td>코스트코</td>\n",
       "      <td>2</td>\n",
       "    </tr>\n",
       "  </tbody>\n",
       "</table>\n",
       "</div>"
      ],
      "text/plain": [
       "   Mart  MartValue\n",
       "0   이마트          5\n",
       "1  롯데마트          3\n",
       "2  코스트코          2"
      ]
     },
     "metadata": {},
     "output_type": "display_data"
    }
   ],
   "source": [
    "#고객 구매데이터 생성(id, 성별, 연령, 지역, 상품, 가격, 구매시간)\n",
    "import numpy as np\n",
    "import pandas as pd\n",
    "import datetime\n",
    "import warnings\n",
    "warnings.filterwarnings('ignore')\n",
    "\n",
    "a= np.random.randint(1,20, size=10) #1번에서 20번정도 구매하는 빈도가 생기는걸 정해줌(10개의 데이터)\n",
    "sr_a = pd.Series(a, name='Freq')\n",
    "\n",
    "\n",
    "b=np.random.choice(['KF94마스크','KF80마스크','N95마스크'],size=10)\n",
    "sr_b=pd.Series(b,name='Prod')\n",
    "\n",
    "c=np.random.choice(['롯데마트','코스트코','이마트'],size=10)\n",
    "sr_c=pd.Series(c,name='Mart')\n",
    "\n",
    "d=np.random.randint(1,1000,size=10)\n",
    "sr_d=pd.Series(d,name='Amount')\n",
    "\n",
    "e=np.random.choice(['Man','Woman'],size=10)\n",
    "sr_e=pd.Series(e, name='Sex')\n",
    "\n",
    "f=np.random.choice(['Seoul','Daejeon','Daegu','Busan','Changwon', 'Gangwon', 'Mokpo'],size=10)\n",
    "sr_f=pd.Series(f, name='Region')\n",
    "\n",
    "g=np.random.choice(range(1,15) ,size=10,replace=False)\n",
    "sr_g=pd.Series(g, name='ID')\n",
    "\n",
    "t=np.random.choice([datetime.datetime.now()],size=10)\n",
    "sr_t=pd.Series(t, name='time')\n",
    "\n",
    "hour = np.random.randint(1,180,size=10)\n",
    "sr_hour = pd.Series(hour,name='머문시간(분)')\n",
    "\n",
    "comparison = sr_d/sr_hour\n",
    "sr_comp = pd.Series(comparison, name='분당판매량')\n",
    "\n",
    "df=pd.concat([sr_a,sr_b,sr_c,sr_d,sr_e,sr_f,sr_g,sr_t,sr_hour,sr_comp],axis=1)\n",
    "display(df)\n",
    "\n",
    "x = 0\n",
    "y = 0\n",
    "z = 0\n",
    "\n",
    "for i in range(10):\n",
    "    if df['Mart'][i] == '이마트':\n",
    "        x = x+1\n",
    "    elif df['Mart'][i] =='롯데마트':\n",
    "        y = y+1\n",
    "    elif df['Mart'][i] =='코스트코':\n",
    "        z = z+1\n",
    "        \n",
    "\n",
    "v = ['이마트','롯데마트','코스트코']\n",
    "sr_v = pd.Series(v,name='Mart')\n",
    "\n",
    "arr1 = np.array([x,y,z])\n",
    "arr2=np.sort(arr1)[::-1] #내림차순 정렬\n",
    "sr_arr1 = pd.Series(arr2,name='MartValue')\n",
    "\n",
    "df2=pd.concat([sr_v,sr_arr1],axis=1)\n",
    "df2\n",
    "display(df2) #많이 팔린순으로 정렬"
   ]
  }
 ],
 "metadata": {
  "kernelspec": {
   "display_name": "Python 3",
   "language": "python",
   "name": "python3"
  },
  "language_info": {
   "codemirror_mode": {
    "name": "ipython",
    "version": 3
   },
   "file_extension": ".py",
   "mimetype": "text/x-python",
   "name": "python",
   "nbconvert_exporter": "python",
   "pygments_lexer": "ipython3",
   "version": "3.7.6"
  }
 },
 "nbformat": 4,
 "nbformat_minor": 2
}
