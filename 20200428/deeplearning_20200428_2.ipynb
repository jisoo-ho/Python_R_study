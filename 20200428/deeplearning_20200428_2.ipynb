{
  "nbformat": 4,
  "nbformat_minor": 0,
  "metadata": {
    "colab": {
      "name": "deeplearning_20200428_2.ipynb",
      "provenance": [],
      "collapsed_sections": []
    },
    "kernelspec": {
      "name": "python3",
      "display_name": "Python 3"
    }
  },
  "cells": [
    {
      "cell_type": "code",
      "metadata": {
        "id": "kgeb4QdbLPV9",
        "colab_type": "code",
        "colab": {}
      },
      "source": [
        "# https://www.tensorflow.org/tutorials/keras/text_classification?hl=ko\n",
        "# 이 예제는 이진 또는 클래스가 두개인 분류 문제입니다.\n",
        "# 이진 분류는 머신러닝에서 중요하고 널리 사용됩니다.\n",
        "\n",
        "# 여기에서는 인터넷 영화 데이터베이스에서 수집한 50,000개의 영화 리뷰 텍스트를 담은 IMDB 데이터셋을 사용하겠습니다.\n",
        "\n",
        "# 25,000개 리뷰는 훈련용으로, 25,000개는 테스트용으로 나뉘어져 있습니다.\n",
        "# 훈련 세트와 테스트 세트의 클래스는 균형이 잡혀 있습니다.\n",
        "# 즉, 긍정적인 리뷰와 부정적인 리뷰의 개수가 동일합니다.\n",
        "\n",
        "# tensorflow와 tf.keras 를 임포트 합니다.\n",
        "import tensorflow as tf\n",
        "from tensorflow import keras\n",
        "\n",
        "# 헬퍼 라이브러리를 임포트합니다.\n",
        "import numpy as np\n",
        "import matplotlib.pyplot as plt"
      ],
      "execution_count": 0,
      "outputs": []
    },
    {
      "cell_type": "code",
      "metadata": {
        "id": "Z9OhJBfVMTaF",
        "colab_type": "code",
        "colab": {}
      },
      "source": [
        "#IMDB 데이터셋 다운로드\n",
        "#IMDB 데이터셋은 텐서플로와 함께 제공됩니다. 리뷰(단어의 시퀀스(sequence))는 미리 \n",
        "#전처리해서 정수 시퀀스로 변환되어 있습니다. 각 정수는 [어휘 사전에 있는 특정 단어를 의미]합니다.\n",
        "#다음 코드는 IMDB 데이터셋을 컴퓨터에 다운로드합니다(또는 이전에 다운로드 받았다면 캐시된 복사본을 사용합니다):\n",
        "imdb = keras.datasets.imdb\n",
        "\n",
        "(train_data, train_labels), (test_data, test_labels) = imdb.load_data(num_words=10000)\n",
        "# 매개변수 num_words=10000은 훈련 데이터에서 가장 많이 등장하는 상위 10,000개의 단어를 선택합니다.\n",
        "# 데이터 크기를 적당하게 유지하기 위해 드물에 등장하는 단어는 제외하겠습니다."
      ],
      "execution_count": 0,
      "outputs": []
    },
    {
      "cell_type": "code",
      "metadata": {
        "id": "k2tWFfpbMgY3",
        "colab_type": "code",
        "outputId": "de748689-3651-4876-d3f7-4eeb3ab2eb98",
        "colab": {
          "base_uri": "https://localhost:8080/",
          "height": 34
        }
      },
      "source": [
        "#데이터 탐색\n",
        "#잠시 데이터 형태를 알아 보죠. 이 데이터셋의 샘플은 전처리된 정수 배열입니다. \n",
        "#이 정수는 영화 리뷰에 나오는 단어를 나타냅니다. \n",
        "#레이블(label)은 정수 0 또는 1입니다. 0은 부정적인 리뷰이고 1은 긍정적인 리뷰입니다.\n",
        "print(\"훈련 샘플: {}, 레이블: {}\".format(len(train_data), len(train_labels)))"
      ],
      "execution_count": 25,
      "outputs": [
        {
          "output_type": "stream",
          "text": [
            "훈련 샘플: 25000, 레이블: 25000\n"
          ],
          "name": "stdout"
        }
      ]
    },
    {
      "cell_type": "code",
      "metadata": {
        "id": "77nOI28DMr4v",
        "colab_type": "code",
        "outputId": "fdac5f15-61dd-40ef-963f-3b96fa06042d",
        "colab": {
          "base_uri": "https://localhost:8080/",
          "height": 54
        }
      },
      "source": [
        "#리뷰 텍스트는 어휘 사전의 특정 단어를 나타내는 정수로 변환되어 있습니다. 첫 번째 리뷰를 확인해 보죠:\n",
        "print(train_data[0])"
      ],
      "execution_count": 26,
      "outputs": [
        {
          "output_type": "stream",
          "text": [
            "[1, 14, 22, 16, 43, 530, 973, 1622, 1385, 65, 458, 4468, 66, 3941, 4, 173, 36, 256, 5, 25, 100, 43, 838, 112, 50, 670, 2, 9, 35, 480, 284, 5, 150, 4, 172, 112, 167, 2, 336, 385, 39, 4, 172, 4536, 1111, 17, 546, 38, 13, 447, 4, 192, 50, 16, 6, 147, 2025, 19, 14, 22, 4, 1920, 4613, 469, 4, 22, 71, 87, 12, 16, 43, 530, 38, 76, 15, 13, 1247, 4, 22, 17, 515, 17, 12, 16, 626, 18, 2, 5, 62, 386, 12, 8, 316, 8, 106, 5, 4, 2223, 5244, 16, 480, 66, 3785, 33, 4, 130, 12, 16, 38, 619, 5, 25, 124, 51, 36, 135, 48, 25, 1415, 33, 6, 22, 12, 215, 28, 77, 52, 5, 14, 407, 16, 82, 2, 8, 4, 107, 117, 5952, 15, 256, 4, 2, 7, 3766, 5, 723, 36, 71, 43, 530, 476, 26, 400, 317, 46, 7, 4, 2, 1029, 13, 104, 88, 4, 381, 15, 297, 98, 32, 2071, 56, 26, 141, 6, 194, 7486, 18, 4, 226, 22, 21, 134, 476, 26, 480, 5, 144, 30, 5535, 18, 51, 36, 28, 224, 92, 25, 104, 4, 226, 65, 16, 38, 1334, 88, 12, 16, 283, 5, 16, 4472, 113, 103, 32, 15, 16, 5345, 19, 178, 32]\n"
          ],
          "name": "stdout"
        }
      ]
    },
    {
      "cell_type": "code",
      "metadata": {
        "id": "sIqixwjnNgUs",
        "colab_type": "code",
        "outputId": "5e93183a-9f0d-4329-aa71-954a3899d86d",
        "colab": {
          "base_uri": "https://localhost:8080/",
          "height": 34
        }
      },
      "source": [
        "# 영화 리뷰들은 길이가 다릅니다. 다음 코드는 첫 번째 리뷰와 두 번째 리뷰에서 단어의 개수를 출력합니다.\n",
        "# 신경망의 입력은 길이가 같아야 하기 때문에 나중에 이 문제를 해결하겠습니다.\n",
        "len(train_data[0]), len(train_data[1])  # 텍스트 분류(단어의 수, 실제로 사용자가 리뷰한 데이터임. 0번과 1번의 길이가 다르다.)"
      ],
      "execution_count": 27,
      "outputs": [
        {
          "output_type": "execute_result",
          "data": {
            "text/plain": [
              "(218, 189)"
            ]
          },
          "metadata": {
            "tags": []
          },
          "execution_count": 27
        }
      ]
    },
    {
      "cell_type": "code",
      "metadata": {
        "id": "oyfiC3IgNlcQ",
        "colab_type": "code",
        "colab": {}
      },
      "source": [
        "#정수를 단어로 다시 변환하기\n",
        "#정수를 다시 텍스트로 변환하는 방법이 있다면 유용할 것입니다. \n",
        "#여기에서는 정수와 문자열을 매핑한 딕셔너리(dictionary-사전) 객체에 질의하는 헬퍼(helper) 함수를 만들겠습니다:\n",
        "\n",
        "# 단어와 정수 인덱스를 매핑한 딕셔너리\n",
        "word_index = imdb.get_word_index() # 함수를 이용해 단어들에 대한 인덱스 번호 추출\n",
        "\n",
        "# 처음 몇 개 인덱스는 사전에 정의되어 있습니다\n",
        "word_index = {k:(v+3) for k,v in word_index.items()} # .items : 키와 값 모두 꺼낸다.\n",
        "word_index[\"<PAD>\"] = 0\n",
        "word_index[\"<START>\"] = 1\n",
        "word_index[\"<UNK>\"] = 2  # unknown\n",
        "word_index[\"<UNUSED>\"] = 3\n",
        "\n",
        "reverse_word_index = dict([(value, key) for (key, value) in word_index.items()]) # 키와 인덱스의 자리를 바꿔주는 작업\n",
        "\n",
        "def decode_review(text):\n",
        "    return ' '.join([reverse_word_index.get(i, '?') for i in text])"
      ],
      "execution_count": 0,
      "outputs": []
    },
    {
      "cell_type": "code",
      "metadata": {
        "id": "qhfPGctoNrz0",
        "colab_type": "code",
        "outputId": "39b26904-49e2-4e84-cb19-18d6cf4aa419",
        "colab": {
          "base_uri": "https://localhost:8080/",
          "height": 54
        }
      },
      "source": [
        "#이제 decode_review 함수를 사용해 첫 번째 리뷰 텍스트를 출력할 수 있습니다:\n",
        "decode_review(train_data[0])"
      ],
      "execution_count": 29,
      "outputs": [
        {
          "output_type": "execute_result",
          "data": {
            "text/plain": [
              "\"<START> this film was just brilliant casting location scenery story direction everyone's really suited the part they played and you could just imagine being there robert <UNK> is an amazing actor and now the same being director <UNK> father came from the same scottish island as myself so i loved the fact there was a real connection with this film the witty remarks throughout the film were great it was just brilliant so much that i bought the film as soon as it was released for <UNK> and would recommend it to everyone to watch and the fly fishing was amazing really cried at the end it was so sad and you know what they say if you cry at a film it must have been good and this definitely was also <UNK> to the two little boy's that played the <UNK> of norman and paul they were just brilliant children are often left out of the <UNK> list i think because the stars that play them all grown up are such a big profile for the whole film but these children are amazing and should be praised for what they have done don't you think the whole story was so lovely because it was true and was someone's life after all that was shared with us all\""
            ]
          },
          "metadata": {
            "tags": []
          },
          "execution_count": 29
        }
      ]
    },
    {
      "cell_type": "code",
      "metadata": {
        "id": "Rha3NZB_NuP2",
        "colab_type": "code",
        "colab": {}
      },
      "source": [
        "#데이터 준비\n",
        "'''\n",
        "리뷰-정수 배열-는 신경망에 주입하기 전에 텐서로 변환되어야 합니다. 변환하는 방법에는 몇 가지가 있습니다:\n",
        "\n",
        "원-핫 인코딩(one-hot encoding)은 정수 배열을 0과 1로 이루어진 벡터로 변환합니다.\n",
        " 예를 들어 배열 [3, 5]을 인덱스 3과 5만 1이고 나머지는 모두 0인 10,000차원 벡터로 변환할 수 있습니다. \n",
        " 그다음 실수 벡터 데이터를 다룰 수 있는 층-Dense 층-을 신경망의 첫 번째 층으로 사용합니다. \n",
        " 이 방법은 num_words * num_reviews 크기의 행렬이 필요하기 때문에 메모리를 많이 사용합니다.\n",
        "\n",
        "다른 방법으로는, 정수 배열의 길이가 모두 같도록 패딩(padding)을 추가해\n",
        " max_length * num_reviews 크기의 정수 텐서를 만듭니다.\n",
        " 이런 형태의 텐서를 다룰 수 있는 임베딩(embedding) 층을 신경망의 첫 번째 층으로 사용할 수 있습니다.\n",
        "\n",
        "이 튜토리얼에서는 두 번째 방식을 사용하겠습니다.\n",
        "\n",
        "영화 리뷰의 길이가 같아야 하므로 pad_sequences 함수를 사용해 길이를 맞추겠습니다\n",
        "'''\n",
        "\n",
        "#길이를 맞춰주는 함수(짧으면 뒤를 전부 0으로 채워준다.)\n",
        "train_data = keras.preprocessing.sequence.pad_sequences(train_data,\n",
        "                                                        value=word_index[\"<PAD>\"],\n",
        "                                                        padding='post',\n",
        "                                                        maxlen=256) # 최대 길이 값\n",
        "\n",
        "test_data = keras.preprocessing.sequence.pad_sequences(test_data,\n",
        "                                                       value=word_index[\"<PAD>\"],\n",
        "                                                       padding='post',\n",
        "                                                       maxlen=256)"
      ],
      "execution_count": 0,
      "outputs": []
    },
    {
      "cell_type": "code",
      "metadata": {
        "id": "y8tOtoU5N8W_",
        "colab_type": "code",
        "outputId": "117e7573-0db6-4113-eb81-a1d1f8ebd509",
        "colab": {
          "base_uri": "https://localhost:8080/",
          "height": 34
        }
      },
      "source": [
        "#샘플의 길이를 확인해 보죠:\n",
        "len(train_data[0]), len(train_data[1]) # 길이가 같아진 것을 확인할 수 있다."
      ],
      "execution_count": 31,
      "outputs": [
        {
          "output_type": "execute_result",
          "data": {
            "text/plain": [
              "(256, 256)"
            ]
          },
          "metadata": {
            "tags": []
          },
          "execution_count": 31
        }
      ]
    },
    {
      "cell_type": "code",
      "metadata": {
        "id": "rwzMDPRtN_av",
        "colab_type": "code",
        "outputId": "60235845-c6e9-4426-97a4-0efff4604b0f",
        "colab": {
          "base_uri": "https://localhost:8080/",
          "height": 354
        }
      },
      "source": [
        "#(패딩된) 첫 번째 리뷰 내용을 확인해 보죠:\n",
        "print(train_data[0]) # 이 숫자는 해당 단어들을 정수화 시켜놓은 것 이다.\n",
        "# 끝 부분의 빈 공간들은 0으로 자동으로 채워진 것을 확인할 수 있다.(패딩시퀀스 함수로 인해 채워짐)"
      ],
      "execution_count": 32,
      "outputs": [
        {
          "output_type": "stream",
          "text": [
            "[   1   14   22   16   43  530  973 1622 1385   65  458 4468   66 3941\n",
            "    4  173   36  256    5   25  100   43  838  112   50  670    2    9\n",
            "   35  480  284    5  150    4  172  112  167    2  336  385   39    4\n",
            "  172 4536 1111   17  546   38   13  447    4  192   50   16    6  147\n",
            " 2025   19   14   22    4 1920 4613  469    4   22   71   87   12   16\n",
            "   43  530   38   76   15   13 1247    4   22   17  515   17   12   16\n",
            "  626   18    2    5   62  386   12    8  316    8  106    5    4 2223\n",
            " 5244   16  480   66 3785   33    4  130   12   16   38  619    5   25\n",
            "  124   51   36  135   48   25 1415   33    6   22   12  215   28   77\n",
            "   52    5   14  407   16   82    2    8    4  107  117 5952   15  256\n",
            "    4    2    7 3766    5  723   36   71   43  530  476   26  400  317\n",
            "   46    7    4    2 1029   13  104   88    4  381   15  297   98   32\n",
            " 2071   56   26  141    6  194 7486   18    4  226   22   21  134  476\n",
            "   26  480    5  144   30 5535   18   51   36   28  224   92   25  104\n",
            "    4  226   65   16   38 1334   88   12   16  283    5   16 4472  113\n",
            "  103   32   15   16 5345   19  178   32    0    0    0    0    0    0\n",
            "    0    0    0    0    0    0    0    0    0    0    0    0    0    0\n",
            "    0    0    0    0    0    0    0    0    0    0    0    0    0    0\n",
            "    0    0    0    0]\n"
          ],
          "name": "stdout"
        }
      ]
    },
    {
      "cell_type": "code",
      "metadata": {
        "id": "KPc28TBiOAlO",
        "colab_type": "code",
        "outputId": "fecd00fc-1b0d-4e3b-d262-5a16848165d6",
        "colab": {
          "base_uri": "https://localhost:8080/",
          "height": 301
        }
      },
      "source": [
        "#모델 구성\n",
        "'''\n",
        "신경망은 층(layer)을 쌓아서 만듭니다. 이 구조에서는 두 가지를 결정해야 합니다:\n",
        "\n",
        "모델에서 얼마나 많은 층을 사용할 것인가?\n",
        "각 층에서 얼마나 많은 은닉 유닛(hidden unit)을 사용할 것인가?\n",
        "이 예제의 입력 데이터는 단어 인덱스의 배열입니다. \\\n",
        "예측할 레이블은 0 또는 1입니다. 이 문제에 맞는 모델을 구성해 보죠:\n",
        "'''\n",
        "# 입력 크기는 영화 리뷰 데이터셋에 적용된 어휘 사전의 크기입니다(10,000개의 단어)\n",
        "vocab_size = 10000\n",
        "\n",
        "model = keras.Sequential() #오전코드는 시퀀스안에 층을 만들었는데 이렇게 객체를 만들고 add하는것도 똑같음\n",
        "model.add(keras.layers.Embedding(vocab_size, 16, input_shape=(None,))) \n",
        "#Embedding층 : 갖고있는데이터는 정수, 정수로 만들어진데이터를 전달받게되면 아까 정수를 텍스트로 바꾼것처럼 입력받은 정수값을 인코딩된 정수값으로 내장시킨다는 뜻 \n",
        "model.add(keras.layers.GlobalAveragePooling1D())\n",
        "model.add(keras.layers.Dense(16, activation='relu'))\n",
        "model.add(keras.layers.Dense(1, activation='sigmoid'))\n",
        "\n",
        "model.summary() #만든 모델에 대한 요약"
      ],
      "execution_count": 33,
      "outputs": [
        {
          "output_type": "stream",
          "text": [
            "Model: \"sequential_1\"\n",
            "_________________________________________________________________\n",
            "Layer (type)                 Output Shape              Param #   \n",
            "=================================================================\n",
            "embedding_1 (Embedding)      (None, None, 16)          160000    \n",
            "_________________________________________________________________\n",
            "global_average_pooling1d_1 ( (None, 16)                0         \n",
            "_________________________________________________________________\n",
            "dense_2 (Dense)              (None, 16)                272       \n",
            "_________________________________________________________________\n",
            "dense_3 (Dense)              (None, 1)                 17        \n",
            "=================================================================\n",
            "Total params: 160,289\n",
            "Trainable params: 160,289\n",
            "Non-trainable params: 0\n",
            "_________________________________________________________________\n"
          ],
          "name": "stdout"
        }
      ]
    },
    {
      "cell_type": "code",
      "metadata": {
        "id": "4Rp3bip0OHDr",
        "colab_type": "code",
        "colab": {}
      },
      "source": [
        "'''\n",
        "층을 순서대로 쌓아 분류기(classifier)를 만듭니다:\n",
        "\n",
        "첫 번째 층은 Embedding 층입니다. \n",
        "이 층은 정수로 인코딩된 단어를 입력 받고 각 단어 인덱스에 해당하는 임베딩 벡터를 찾습니다. \n",
        "이 벡터는 모델이 훈련되면서 학습됩니다. 이 벡터는 출력 배열에 새로운 차원으로 추가됩니다. \n",
        "최종 차원은 (batch, sequence, embedding)이 됩니다.\n",
        "\n",
        "그 다음 GlobalAveragePooling1D 층은 sequence 차원에 대해 평균을 계산하여 각 샘플에 대해 \n",
        "고정된 길이의 출력 벡터를 반환합니다. 이는 길이가 다른 입력을 다루는 가장 간단한 방법입니다.\n",
        "이 고정 길이의 출력 벡터는 16개의 은닉 유닛을 가진 완전 연결(fully-connected) 층(Dense)을 거칩니다.\n",
        "\n",
        "마지막 층은 하나의 출력 노드(node)를 가진 완전 연결 층입니다. \n",
        "sigmoid 활성화 함수를 사용하여 0과 1 사이의 실수를 출력합니다. \n",
        "이 값은 확률 또는 신뢰도를 나타냅니다.\n",
        "'''\n",
        "\n",
        "#은닉 유닛\n",
        "'''\n",
        "위 모델에는 입력과 출력 사이에 두 개의 중간 또는 \"은닉\" 층이 있습니다. \n",
        "출력(유닛 또는 노드, 뉴런)의 개수는 층이 가진 표현 공간(representational space)의 차원이 됩니다. \n",
        "다른 말로 하면, 내부 표현을 학습할 때 허용되는 네트워크 자유도의 양입니다.\n",
        "\n",
        "모델에 많은 은닉 유닛(고차원의 표현 공간)과 층이 있다면 네트워크는 더 복잡한 표현을 학습할 수 있습니다. \n",
        "하지만 네트워크의 계산 비용이 많이 들고 원치않는 패턴을 학습할 수도 있습니다. \n",
        "이런 표현은 훈련 데이터의 성능을 향상시키지만 테스트 데이터에서는 그렇지 못합니다. \n",
        "이를 과대적합(overfitting)이라고 부릅니다. 나중에 이에 대해 알아 보겠습니다.\n",
        "'''\n",
        "\n",
        "#손실 함수와 옵티마이저\n",
        "'''\n",
        "모델이 훈련하려면 손실 함수(loss function)과 옵티마이저(optimizer)가 필요합니다. \n",
        "이 예제는 이진 분류 문제이고 모델이 확률을 출력하므로(출력층의 유닛이 하나이고 sigmoid 활성화 함수를 사용합니다), \n",
        "binary_crossentropy 손실 함수를 사용하겠습니다.\n",
        "\n",
        "다른 손실 함수를 선택할 수 없는 것은 아닙니다. 예를 들어 mean_squared_error를 선택할 수 있습니다. \n",
        "하지만 일반적으로 binary_crossentropy가 확률을 다루는데 적합합니다. 이 함수는 확률 분포 간의 거리를 측정합니다. \n",
        "여기에서는 정답인 타깃 분포와 예측 분포 사이의 거리입니다.\n",
        "\n",
        "나중에 회귀(regression) 문제(예를 들어 주택 가격을 예측하는 문제)에 대해 살펴 볼 때 \n",
        "평균 제곱 오차(mean squared error) 손실 함수를 어떻게 사용하는지 알아 보겠습니다.\n",
        "\n",
        "이제 모델이 사용할 옵티마이저와 손실 함수를 설정해 보죠:\n",
        "'''\n",
        "model.compile(optimizer='adam',\n",
        "              loss='binary_crossentropy',\n",
        "              metrics=['accuracy'])"
      ],
      "execution_count": 0,
      "outputs": []
    },
    {
      "cell_type": "code",
      "metadata": {
        "id": "sMtszIPKOkA4",
        "colab_type": "code",
        "colab": {}
      },
      "source": [
        "#검증 세트 만들기\n",
        "'''\n",
        "모델을 훈련할 때 모델이 만난 적 없는 데이터에서 정확도를 확인하는 것이 좋습니다. \n",
        "원본 훈련 데이터에서 10,000개의 샘플을 떼어내어 검증 세트(validation set)를 만들겠습니다. \n",
        "(왜 테스트 세트를 사용하지 않을까요? 훈련 데이터만을 사용하여 모델을 개발하고 튜닝하는 것이 목표입니다. \n",
        "그 다음 테스트 세트를 사용해서 딱 한 번만 정확도를 평가합니다).\n",
        "'''\n",
        "x_val = train_data[:10000]\n",
        "partial_x_train = train_data[10000:]\n",
        "\n",
        "y_val = train_labels[:10000]\n",
        "partial_y_train = train_labels[10000:]"
      ],
      "execution_count": 0,
      "outputs": []
    },
    {
      "cell_type": "code",
      "metadata": {
        "id": "P3MAzd5ZOqOl",
        "colab_type": "code",
        "outputId": "cc4152b8-0273-41dd-8fb0-5ca78ed896a0",
        "colab": {
          "base_uri": "https://localhost:8080/",
          "height": 1000
        }
      },
      "source": [
        "#모델 훈련\n",
        "'''\n",
        "이 모델을 512개의 샘플로 이루어진 미니배치(mini-batch)에서 40번의 에포크(epoch) 동안 훈련합니다. \n",
        "x_train과 y_train 텐서에 있는 모든 샘플에 대해 40번 반복한다는 뜻입니다. \n",
        "훈련하는 동안 10,000개의 검증 세트에서 모델의 손실과 정확도를 모니터링합니다:\n",
        "'''\n",
        "history = model.fit(partial_x_train,# fit함수를 통해 훈련, history 변수를 만들어주었으니 history에 계속 누적되는 것임\n",
        "                    partial_y_train,\n",
        "                    epochs=40, # 40회 훈련\n",
        "                    batch_size=512, # 한번 훈련시킬 때 사용할 훈련데이터의 개수는 512개\n",
        "                    validation_data=(x_val, y_val), # 검증하는 코드\n",
        "                    verbose=1)"
      ],
      "execution_count": 36,
      "outputs": [
        {
          "output_type": "stream",
          "text": [
            "Epoch 1/40\n",
            "30/30 [==============================] - 1s 24ms/step - loss: 0.6919 - accuracy: 0.5321 - val_loss: 0.6903 - val_accuracy: 0.5051\n",
            "Epoch 2/40\n",
            "30/30 [==============================] - 1s 21ms/step - loss: 0.6864 - accuracy: 0.6286 - val_loss: 0.6829 - val_accuracy: 0.6773\n",
            "Epoch 3/40\n",
            "30/30 [==============================] - 1s 21ms/step - loss: 0.6750 - accuracy: 0.7208 - val_loss: 0.6685 - val_accuracy: 0.7392\n",
            "Epoch 4/40\n",
            "30/30 [==============================] - 1s 21ms/step - loss: 0.6546 - accuracy: 0.7513 - val_loss: 0.6453 - val_accuracy: 0.7555\n",
            "Epoch 5/40\n",
            "30/30 [==============================] - 1s 21ms/step - loss: 0.6249 - accuracy: 0.7747 - val_loss: 0.6140 - val_accuracy: 0.7840\n",
            "Epoch 6/40\n",
            "30/30 [==============================] - 1s 22ms/step - loss: 0.5869 - accuracy: 0.8042 - val_loss: 0.5769 - val_accuracy: 0.7997\n",
            "Epoch 7/40\n",
            "30/30 [==============================] - 1s 21ms/step - loss: 0.5430 - accuracy: 0.8217 - val_loss: 0.5346 - val_accuracy: 0.8158\n",
            "Epoch 8/40\n",
            "30/30 [==============================] - 1s 21ms/step - loss: 0.4946 - accuracy: 0.8439 - val_loss: 0.4922 - val_accuracy: 0.8282\n",
            "Epoch 9/40\n",
            "30/30 [==============================] - 1s 21ms/step - loss: 0.4495 - accuracy: 0.8543 - val_loss: 0.4541 - val_accuracy: 0.8404\n",
            "Epoch 10/40\n",
            "30/30 [==============================] - 1s 21ms/step - loss: 0.4094 - accuracy: 0.8691 - val_loss: 0.4216 - val_accuracy: 0.8487\n",
            "Epoch 11/40\n",
            "30/30 [==============================] - 1s 22ms/step - loss: 0.3757 - accuracy: 0.8782 - val_loss: 0.3952 - val_accuracy: 0.8562\n",
            "Epoch 12/40\n",
            "30/30 [==============================] - 1s 21ms/step - loss: 0.3463 - accuracy: 0.8873 - val_loss: 0.3734 - val_accuracy: 0.8617\n",
            "Epoch 13/40\n",
            "30/30 [==============================] - 1s 21ms/step - loss: 0.3211 - accuracy: 0.8927 - val_loss: 0.3564 - val_accuracy: 0.8659\n",
            "Epoch 14/40\n",
            "30/30 [==============================] - 1s 22ms/step - loss: 0.3005 - accuracy: 0.8993 - val_loss: 0.3432 - val_accuracy: 0.8688\n",
            "Epoch 15/40\n",
            "30/30 [==============================] - 1s 21ms/step - loss: 0.2821 - accuracy: 0.9034 - val_loss: 0.3321 - val_accuracy: 0.8716\n",
            "Epoch 16/40\n",
            "30/30 [==============================] - 1s 20ms/step - loss: 0.2669 - accuracy: 0.9087 - val_loss: 0.3224 - val_accuracy: 0.8736\n",
            "Epoch 17/40\n",
            "30/30 [==============================] - 1s 21ms/step - loss: 0.2535 - accuracy: 0.9140 - val_loss: 0.3142 - val_accuracy: 0.8797\n",
            "Epoch 18/40\n",
            "30/30 [==============================] - 1s 21ms/step - loss: 0.2403 - accuracy: 0.9180 - val_loss: 0.3078 - val_accuracy: 0.8806\n",
            "Epoch 19/40\n",
            "30/30 [==============================] - 1s 21ms/step - loss: 0.2294 - accuracy: 0.9219 - val_loss: 0.3028 - val_accuracy: 0.8812\n",
            "Epoch 20/40\n",
            "30/30 [==============================] - 1s 21ms/step - loss: 0.2188 - accuracy: 0.9246 - val_loss: 0.2989 - val_accuracy: 0.8835\n",
            "Epoch 21/40\n",
            "30/30 [==============================] - 1s 20ms/step - loss: 0.2081 - accuracy: 0.9289 - val_loss: 0.2951 - val_accuracy: 0.8835\n",
            "Epoch 22/40\n",
            "30/30 [==============================] - 1s 22ms/step - loss: 0.1991 - accuracy: 0.9322 - val_loss: 0.2925 - val_accuracy: 0.8841\n",
            "Epoch 23/40\n",
            "30/30 [==============================] - 1s 22ms/step - loss: 0.1895 - accuracy: 0.9369 - val_loss: 0.2902 - val_accuracy: 0.8842\n",
            "Epoch 24/40\n",
            "30/30 [==============================] - 1s 21ms/step - loss: 0.1813 - accuracy: 0.9407 - val_loss: 0.2885 - val_accuracy: 0.8841\n",
            "Epoch 25/40\n",
            "30/30 [==============================] - 1s 21ms/step - loss: 0.1739 - accuracy: 0.9439 - val_loss: 0.2879 - val_accuracy: 0.8845\n",
            "Epoch 26/40\n",
            "30/30 [==============================] - 1s 21ms/step - loss: 0.1674 - accuracy: 0.9470 - val_loss: 0.2865 - val_accuracy: 0.8850\n",
            "Epoch 27/40\n",
            "30/30 [==============================] - 1s 20ms/step - loss: 0.1617 - accuracy: 0.9494 - val_loss: 0.2868 - val_accuracy: 0.8853\n",
            "Epoch 28/40\n",
            "30/30 [==============================] - 1s 21ms/step - loss: 0.1561 - accuracy: 0.9515 - val_loss: 0.2862 - val_accuracy: 0.8854\n",
            "Epoch 29/40\n",
            "30/30 [==============================] - 1s 21ms/step - loss: 0.1492 - accuracy: 0.9545 - val_loss: 0.2869 - val_accuracy: 0.8863\n",
            "Epoch 30/40\n",
            "30/30 [==============================] - 1s 21ms/step - loss: 0.1427 - accuracy: 0.9569 - val_loss: 0.2877 - val_accuracy: 0.8865\n",
            "Epoch 31/40\n",
            "30/30 [==============================] - 1s 21ms/step - loss: 0.1382 - accuracy: 0.9588 - val_loss: 0.2889 - val_accuracy: 0.8860\n",
            "Epoch 32/40\n",
            "30/30 [==============================] - 1s 20ms/step - loss: 0.1324 - accuracy: 0.9612 - val_loss: 0.2906 - val_accuracy: 0.8854\n",
            "Epoch 33/40\n",
            "30/30 [==============================] - 1s 21ms/step - loss: 0.1268 - accuracy: 0.9626 - val_loss: 0.2912 - val_accuracy: 0.8851\n",
            "Epoch 34/40\n",
            "30/30 [==============================] - 1s 22ms/step - loss: 0.1234 - accuracy: 0.9651 - val_loss: 0.2933 - val_accuracy: 0.8861\n",
            "Epoch 35/40\n",
            "30/30 [==============================] - 1s 23ms/step - loss: 0.1181 - accuracy: 0.9664 - val_loss: 0.2957 - val_accuracy: 0.8852\n",
            "Epoch 36/40\n",
            "30/30 [==============================] - 1s 22ms/step - loss: 0.1128 - accuracy: 0.9682 - val_loss: 0.2969 - val_accuracy: 0.8853\n",
            "Epoch 37/40\n",
            "30/30 [==============================] - 1s 21ms/step - loss: 0.1097 - accuracy: 0.9691 - val_loss: 0.2993 - val_accuracy: 0.8846\n",
            "Epoch 38/40\n",
            "30/30 [==============================] - 1s 21ms/step - loss: 0.1044 - accuracy: 0.9713 - val_loss: 0.3017 - val_accuracy: 0.8836\n",
            "Epoch 39/40\n",
            "30/30 [==============================] - 1s 22ms/step - loss: 0.1025 - accuracy: 0.9731 - val_loss: 0.3053 - val_accuracy: 0.8822\n",
            "Epoch 40/40\n",
            "30/30 [==============================] - 1s 22ms/step - loss: 0.0982 - accuracy: 0.9740 - val_loss: 0.3072 - val_accuracy: 0.8839\n"
          ],
          "name": "stdout"
        }
      ]
    },
    {
      "cell_type": "code",
      "metadata": {
        "id": "WcJWNUiUOwVu",
        "colab_type": "code",
        "outputId": "700a1935-0da7-464b-cd54-12196713ec7e",
        "colab": {
          "base_uri": "https://localhost:8080/",
          "height": 52
        }
      },
      "source": [
        "#모델 평가\n",
        "#모델의 성능을 확인해 보죠. 두 개의 값이 반환됩니다. \n",
        "#손실(오차를 나타내는 숫자이므로 낮을수록 좋습니다)과 정확도입니다.\n",
        "results = model.evaluate(test_data,  test_labels, verbose=2)\n",
        "\n",
        "print(results)\n",
        "#accuracy: 0.8724(87.2%)"
      ],
      "execution_count": 37,
      "outputs": [
        {
          "output_type": "stream",
          "text": [
            "782/782 - 1s - loss: 0.3278 - accuracy: 0.8724\n",
            "[0.3277806043624878, 0.8723999857902527]\n"
          ],
          "name": "stdout"
        }
      ]
    },
    {
      "cell_type": "code",
      "metadata": {
        "id": "dXUItiEMQalb",
        "colab_type": "code",
        "colab": {}
      },
      "source": [
        "#이 예제는 매우 단순한 방식을 사용하므로 87% 정도의 정확도를 달성했습니다. 고급 방법을 사용한 모델은 95%에 가까운 정확도를 얻습니다."
      ],
      "execution_count": 0,
      "outputs": []
    },
    {
      "cell_type": "code",
      "metadata": {
        "id": "DdWEZDVBQfAe",
        "colab_type": "code",
        "outputId": "a6d8ba48-6c10-4dca-f94d-44a8aeadd0d3",
        "colab": {
          "base_uri": "https://localhost:8080/",
          "height": 34
        }
      },
      "source": [
        "#정확도와 손실 그래프 그리기\n",
        "#model.fit()은 History 객체를 반환합니다. 여기에는 훈련하는 동안 일어난 모든 정보가 담긴 딕셔너리(dictionary)가 들어 있습니다:\n",
        "#( 전체 코드를 다시 실행시키면 반복학습이 된다.(처음부터 다시하는게 아님) )\n",
        "history_dict = history.history # 앞쪽의 history가 우리가 만든 변수.내부에 있는 history변수\n",
        "history_dict.keys()"
      ],
      "execution_count": 39,
      "outputs": [
        {
          "output_type": "execute_result",
          "data": {
            "text/plain": [
              "dict_keys(['loss', 'accuracy', 'val_loss', 'val_accuracy'])"
            ]
          },
          "metadata": {
            "tags": []
          },
          "execution_count": 39
        }
      ]
    },
    {
      "cell_type": "code",
      "metadata": {
        "id": "VKHs8LbSQir3",
        "colab_type": "code",
        "outputId": "5da258a2-ca30-4106-e227-9cd7446abb32",
        "colab": {
          "base_uri": "https://localhost:8080/",
          "height": 294
        }
      },
      "source": [
        "#네 개의 항목이 있습니다. 훈련과 검증 단계에서 모니터링하는 지표들입니다. \n",
        "#훈련 손실과 검증 손실을 그래프로 그려 보고, 훈련 정확도와 검증 정확도도 그래프로 그려서 비교해 보겠습니다:\n",
        "# 손실률을 나타내는 차트\n",
        "import matplotlib.pyplot as plt # 시각화 import \n",
        "\n",
        "acc = history_dict['accuracy'] # 훈련 정확도 값 꺼내고\n",
        "val_acc = history_dict['val_accuracy'] # 검증 정확도 값 꺼내고\n",
        "loss = history_dict['loss'] # 훈련 loss 값 꺼내고\n",
        "val_loss = history_dict['val_loss'] # 검증 loss 값 꺼내고\n",
        "\n",
        "epochs = range(1, len(acc) + 1) # 범위 만들 때 acc변수나 loss 변수나 데이터 개수가 똑같으니까 아무거나 써도 상관 없다. 40까지 나오게 하기 위해 +1 해준다.\n",
        "\n",
        "# \"bo\"는 \"파란색 점\"입니다\n",
        "plt.plot(epochs, loss, 'bo', label='Training loss')\n",
        "# b는 \"파란 실선\"입니다\n",
        "plt.plot(epochs, val_loss, 'b', label='Validation loss')\n",
        "plt.title('Training and validation loss')\n",
        "plt.xlabel('Epochs')\n",
        "plt.ylabel('Loss')\n",
        "plt.legend()\n",
        "\n",
        "plt.show()\n"
      ],
      "execution_count": 40,
      "outputs": [
        {
          "output_type": "display_data",
          "data": {
            "image/png": "[encoded data removed]",
            "text/plain": [
              "<Figure size 432x288 with 1 Axes>"
            ]
          },
          "metadata": {
            "tags": [],
            "needs_background": "light"
          }
        }
      ]
    },
    {
      "cell_type": "code",
      "metadata": {
        "id": "67Y4JPB-Toz4",
        "colab_type": "code",
        "outputId": "a17c4920-00ff-4f3f-f8af-be9f34ae63a2",
        "colab": {
          "base_uri": "https://localhost:8080/",
          "height": 294
        }
      },
      "source": [
        "# 정확도를 나타내는 차트\n",
        "plt.clf()   # 그림을 초기화합니다\n",
        "\n",
        "plt.plot(epochs, acc, 'bo', label='Training acc')\n",
        "plt.plot(epochs, val_acc, 'b', label='Validation acc')\n",
        "plt.title('Training and validation accuracy')\n",
        "plt.xlabel('Epochs')\n",
        "plt.ylabel('Accuracy')\n",
        "plt.legend()\n",
        "\n",
        "plt.show()"
      ],
      "execution_count": 41,
      "outputs": [
        {
          "output_type": "display_data",
          "data": {
            "image/png": "[encoded data removed]",
            "text/plain": [
              "<Figure size 432x288 with 1 Axes>"
            ]
          },
          "metadata": {
            "tags": [],
            "needs_background": "light"
          }
        }
      ]
    },
    {
      "cell_type": "code",
      "metadata": {
        "id": "JuYvTP3rTrGF",
        "colab_type": "code",
        "colab": {
          "base_uri": "https://localhost:8080/",
          "height": 54
        },
        "outputId": "24d994f5-a9eb-485f-807d-429044ada028"
      },
      "source": [
        "# validation 사용자 관점\n",
        "# verification 개발자 관점\n",
        "'''\n",
        "이 그래프에서 점선은 훈련 손실과 훈련 정확도를 나타냅니다. \n",
        "실선은 검증 손실과 검증 정확도입니다.\n",
        "\n",
        "훈련 손실은 에포크마다 감소하고 훈련 정확도는 증가한다는 것을 주목하세요. \n",
        "경사 하강법 최적화를 사용할 때 볼 수 있는 현상입니다. 매 반복마다 최적화 대상의 값을 최소화합니다.\n",
        "\n",
        "하지만 검증 손실과 검증 정확도에서는 그렇지 못합니다. \n",
        "--------------- 약 20번째 에포크 이후가 최적점인 것 같습니다. -------------------\n",
        "이는 과대적합 때문입니다. 이전에 본 적 없는 데이터보다 훈련 데이터에서 더 잘 동작합니다. \n",
        "이 지점부터는 모델이 과도하게 최적화되어 테스트 데이터에서 일반화되기 어려운 훈련 데이터의 특정 표현을 학습합니다.\n",
        "\n",
        "여기에서는 과대적합을 막기 위해 단순히 20번째 에포크 근처에서 훈련을 멈출 수 있습니다. \n",
        "나중에 콜백(callback)을 사용하여 자동으로 이렇게 하는 방법을 배워 보겠습니다.\n",
        "'''"
      ],
      "execution_count": 42,
      "outputs": [
        {
          "output_type": "execute_result",
          "data": {
            "text/plain": [
              "'\\n이 그래프에서 점선은 훈련 손실과 훈련 정확도를 나타냅니다. \\n실선은 검증 손실과 검증 정확도입니다.\\n\\n훈련 손실은 에포크마다 감소하고 훈련 정확도는 증가한다는 것을 주목하세요. \\n경사 하강법 최적화를 사용할 때 볼 수 있는 현상입니다. 매 반복마다 최적화 대상의 값을 최소화합니다.\\n\\n하지만 검증 손실과 검증 정확도에서는 그렇지 못합니다. 약 20번째 에포크 이후가 최적점인 것 같습니다. \\n이는 과대적합 때문입니다. 이전에 본 적 없는 데이터보다 훈련 데이터에서 더 잘 동작합니다. \\n이 지점부터는 모델이 과도하게 최적화되어 테스트 데이터에서 일반화되기 어려운 훈련 데이터의 특정 표현을 학습합니다.\\n\\n여기에서는 과대적합을 막기 위해 단순히 20번째 에포크 근처에서 훈련을 멈출 수 있습니다. \\n나중에 콜백(callback)을 사용하여 자동으로 이렇게 하는 방법을 배워 보겠습니다.\\n'"
            ]
          },
          "metadata": {
            "tags": []
          },
          "execution_count": 42
        }
      ]
    }
  ]
}